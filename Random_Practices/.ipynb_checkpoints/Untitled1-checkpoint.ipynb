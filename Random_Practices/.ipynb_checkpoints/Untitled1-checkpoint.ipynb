{
 "cells": [
  {
   "cell_type": "code",
   "execution_count": null,
   "id": "cd09678f-c9de-440c-b539-d3c79512903f",
   "metadata": {
    "tags": []
   },
   "outputs": [],
   "source": [
    "import numpy as np\n",
    "import pandas as pd\n",
    "import matplotlib.pyplot as plt\n",
    "%matplotlib inline"
   ]
  },
  {
   "cell_type": "code",
   "execution_count": 2,
   "id": "2084db00-fa73-4821-ac31-c8a89ab925a2",
   "metadata": {
    "tags": []
   },
   "outputs": [],
   "source": [
    "path = \"D:\\Coding\\Git Repository\\Data-Science-Bootcamp-with-Python\\Datasets\\significant_earthquakes_2000_2020.csv\""
   ]
  },
  {
   "cell_type": "code",
   "execution_count": 3,
   "id": "e1a68734-e4e2-4bfb-9bad-c16fe0545c0b",
   "metadata": {
    "tags": []
   },
   "outputs": [
    {
     "data": {
      "text/html": [
       "<div>\n",
       "<style scoped>\n",
       "    .dataframe tbody tr th:only-of-type {\n",
       "        vertical-align: middle;\n",
       "    }\n",
       "\n",
       "    .dataframe tbody tr th {\n",
       "        vertical-align: top;\n",
       "    }\n",
       "\n",
       "    .dataframe thead th {\n",
       "        text-align: right;\n",
       "    }\n",
       "</style>\n",
       "<table border=\"1\" class=\"dataframe\">\n",
       "  <thead>\n",
       "    <tr style=\"text-align: right;\">\n",
       "      <th></th>\n",
       "      <th>Year</th>\n",
       "      <th>Mo</th>\n",
       "      <th>Dy</th>\n",
       "      <th>Location Name</th>\n",
       "      <th>Latitude</th>\n",
       "      <th>Longitude</th>\n",
       "      <th>Focal Depth (km)</th>\n",
       "      <th>Mag</th>\n",
       "      <th>Total Deaths</th>\n",
       "    </tr>\n",
       "  </thead>\n",
       "  <tbody>\n",
       "    <tr>\n",
       "      <th>0</th>\n",
       "      <td>2000</td>\n",
       "      <td>1</td>\n",
       "      <td>3</td>\n",
       "      <td>INDIA-BANGLADESH BORDER:  MAHESHKHALI</td>\n",
       "      <td>22.132</td>\n",
       "      <td>92.771</td>\n",
       "      <td>33.0</td>\n",
       "      <td>4.6</td>\n",
       "      <td>NaN</td>\n",
       "    </tr>\n",
       "    <tr>\n",
       "      <th>1</th>\n",
       "      <td>2000</td>\n",
       "      <td>1</td>\n",
       "      <td>11</td>\n",
       "      <td>CHINA:  LIAONING PROVINCE</td>\n",
       "      <td>40.498</td>\n",
       "      <td>122.994</td>\n",
       "      <td>10.0</td>\n",
       "      <td>5.1</td>\n",
       "      <td>NaN</td>\n",
       "    </tr>\n",
       "    <tr>\n",
       "      <th>2</th>\n",
       "      <td>2000</td>\n",
       "      <td>1</td>\n",
       "      <td>14</td>\n",
       "      <td>CHINA:  YUNNAN PROVINCE:  YAOAN COUNTY</td>\n",
       "      <td>25.607</td>\n",
       "      <td>101.063</td>\n",
       "      <td>33.0</td>\n",
       "      <td>5.9</td>\n",
       "      <td>7.0</td>\n",
       "    </tr>\n",
       "    <tr>\n",
       "      <th>3</th>\n",
       "      <td>2000</td>\n",
       "      <td>2</td>\n",
       "      <td>2</td>\n",
       "      <td>IRAN:  BARDASKAN, KASHMAR</td>\n",
       "      <td>35.288</td>\n",
       "      <td>58.218</td>\n",
       "      <td>33.0</td>\n",
       "      <td>5.3</td>\n",
       "      <td>1.0</td>\n",
       "    </tr>\n",
       "    <tr>\n",
       "      <th>4</th>\n",
       "      <td>2000</td>\n",
       "      <td>2</td>\n",
       "      <td>7</td>\n",
       "      <td>SOUTH AFRICA; SWAZILAND:  MBABANE-MANZINI</td>\n",
       "      <td>-26.288</td>\n",
       "      <td>30.888</td>\n",
       "      <td>5.0</td>\n",
       "      <td>4.5</td>\n",
       "      <td>NaN</td>\n",
       "    </tr>\n",
       "  </tbody>\n",
       "</table>\n",
       "</div>"
      ],
      "text/plain": [
       "   Year  Mo  Dy                              Location Name  Latitude  \\\n",
       "0  2000   1   3      INDIA-BANGLADESH BORDER:  MAHESHKHALI    22.132   \n",
       "1  2000   1  11                  CHINA:  LIAONING PROVINCE    40.498   \n",
       "2  2000   1  14     CHINA:  YUNNAN PROVINCE:  YAOAN COUNTY    25.607   \n",
       "3  2000   2   2                  IRAN:  BARDASKAN, KASHMAR    35.288   \n",
       "4  2000   2   7  SOUTH AFRICA; SWAZILAND:  MBABANE-MANZINI   -26.288   \n",
       "\n",
       "   Longitude  Focal Depth (km)  Mag  Total Deaths  \n",
       "0     92.771              33.0  4.6           NaN  \n",
       "1    122.994              10.0  5.1           NaN  \n",
       "2    101.063              33.0  5.9           7.0  \n",
       "3     58.218              33.0  5.3           1.0  \n",
       "4     30.888               5.0  4.5           NaN  "
      ]
     },
     "execution_count": 3,
     "metadata": {},
     "output_type": "execute_result"
    }
   ],
   "source": [
    "df = pd.read_csv(path)\n",
    "df.head()"
   ]
  },
  {
   "cell_type": "code",
   "execution_count": 4,
   "id": "5187d186-96c9-4e96-9c38-5fbaed7fb28c",
   "metadata": {
    "tags": []
   },
   "outputs": [
    {
     "data": {
      "text/plain": [
       "(1206, 9)"
      ]
     },
     "execution_count": 4,
     "metadata": {},
     "output_type": "execute_result"
    }
   ],
   "source": [
    "df.shape"
   ]
  },
  {
   "cell_type": "code",
   "execution_count": 5,
   "id": "1e102347-341a-465f-a639-6540c93db6ae",
   "metadata": {
    "tags": []
   },
   "outputs": [
    {
     "data": {
      "text/plain": [
       "9.1"
      ]
     },
     "execution_count": 5,
     "metadata": {},
     "output_type": "execute_result"
    }
   ],
   "source": [
    "df[\"Mag\"].max()"
   ]
  },
  {
   "cell_type": "code",
   "execution_count": 6,
   "id": "508c527d-1cd8-4bb6-93bc-1702e7d47da3",
   "metadata": {
    "tags": []
   },
   "outputs": [
    {
     "data": {
      "text/plain": [
       "272         INDONESIA:  SUMATRA:  ACEH:  OFF WEST COAST\n",
       "320    PAKISTAN:  MUZAFFARABAD, URI, ANANTNAG, BARAMULA\n",
       "490                            CHINA:  SICHUAN PROVINCE\n",
       "607                              HAITI:  PORT-AU-PRINCE\n",
       "Name: Location Name, dtype: object"
      ]
     },
     "execution_count": 6,
     "metadata": {},
     "output_type": "execute_result"
    }
   ],
   "source": [
    "df[\"Location Name\"][df[\"Total Deaths\"] > 50000]"
   ]
  },
  {
   "cell_type": "code",
   "execution_count": 7,
   "id": "c1ab5cce-05fa-42b1-8ce9-7e962402a92a",
   "metadata": {
    "tags": []
   },
   "outputs": [
    {
     "data": {
      "text/plain": [
       "272    INDONESIA:  SUMATRA:  ACEH:  OFF WEST COAST\n",
       "294                      INDONESIA:  SUMATERA:  SW\n",
       "614          CHILE:  MAULE, CONCEPCION, TALCAHUANO\n",
       "674                                 JAPAN:  HONSHU\n",
       "736         INDONESIA:  N SUMATRA:  OFF WEST COAST\n",
       "Name: Location Name, dtype: object"
      ]
     },
     "execution_count": 7,
     "metadata": {},
     "output_type": "execute_result"
    }
   ],
   "source": [
    "df[\"Location Name\"][df[\"Mag\"] > 8.5]"
   ]
  },
  {
   "cell_type": "code",
   "execution_count": 8,
   "id": "418a681d-e6e6-488a-9d7b-738c26bf9df7",
   "metadata": {
    "tags": []
   },
   "outputs": [
    {
     "data": {
      "text/plain": [
       "5.945054031587698"
      ]
     },
     "execution_count": 8,
     "metadata": {},
     "output_type": "execute_result"
    }
   ],
   "source": [
    "df[\"Mag\"].mean()"
   ]
  },
  {
   "cell_type": "code",
   "execution_count": 9,
   "id": "4e0caf3d-d4a7-4e1a-ab0f-5d79248e1d1f",
   "metadata": {
    "tags": []
   },
   "outputs": [
    {
     "data": {
      "text/plain": [
       "Index(['Year', 'Mo', 'Dy', 'Location Name', 'Latitude', 'Longitude',\n",
       "       'Focal Depth (km)', 'Mag', 'Total Deaths'],\n",
       "      dtype='object')"
      ]
     },
     "execution_count": 9,
     "metadata": {},
     "output_type": "execute_result"
    }
   ],
   "source": [
    "df.columns"
   ]
  },
  {
   "cell_type": "code",
   "execution_count": 10,
   "id": "779fb89e-7d58-4aff-96d6-e42c37278906",
   "metadata": {
    "tags": []
   },
   "outputs": [
    {
     "data": {
      "text/html": [
       "<div>\n",
       "<style scoped>\n",
       "    .dataframe tbody tr th:only-of-type {\n",
       "        vertical-align: middle;\n",
       "    }\n",
       "\n",
       "    .dataframe tbody tr th {\n",
       "        vertical-align: top;\n",
       "    }\n",
       "\n",
       "    .dataframe thead th {\n",
       "        text-align: right;\n",
       "    }\n",
       "</style>\n",
       "<table border=\"1\" class=\"dataframe\">\n",
       "  <thead>\n",
       "    <tr style=\"text-align: right;\">\n",
       "      <th></th>\n",
       "      <th>Year</th>\n",
       "      <th>Mo</th>\n",
       "      <th>Dy</th>\n",
       "      <th>Location Name</th>\n",
       "      <th>Latitude</th>\n",
       "      <th>Longitude</th>\n",
       "      <th>Focal Depth (km)</th>\n",
       "      <th>Mag</th>\n",
       "      <th>Total Deaths</th>\n",
       "    </tr>\n",
       "  </thead>\n",
       "  <tbody>\n",
       "    <tr>\n",
       "      <th>0</th>\n",
       "      <td>2000</td>\n",
       "      <td>1</td>\n",
       "      <td>3</td>\n",
       "      <td>INDIA-BANGLADESH BORDER:  MAHESHKHALI</td>\n",
       "      <td>22.132</td>\n",
       "      <td>92.771</td>\n",
       "      <td>33.0</td>\n",
       "      <td>4.6</td>\n",
       "      <td>0.0</td>\n",
       "    </tr>\n",
       "    <tr>\n",
       "      <th>1</th>\n",
       "      <td>2000</td>\n",
       "      <td>1</td>\n",
       "      <td>11</td>\n",
       "      <td>CHINA:  LIAONING PROVINCE</td>\n",
       "      <td>40.498</td>\n",
       "      <td>122.994</td>\n",
       "      <td>10.0</td>\n",
       "      <td>5.1</td>\n",
       "      <td>0.0</td>\n",
       "    </tr>\n",
       "    <tr>\n",
       "      <th>2</th>\n",
       "      <td>2000</td>\n",
       "      <td>1</td>\n",
       "      <td>14</td>\n",
       "      <td>CHINA:  YUNNAN PROVINCE:  YAOAN COUNTY</td>\n",
       "      <td>25.607</td>\n",
       "      <td>101.063</td>\n",
       "      <td>33.0</td>\n",
       "      <td>5.9</td>\n",
       "      <td>7.0</td>\n",
       "    </tr>\n",
       "    <tr>\n",
       "      <th>3</th>\n",
       "      <td>2000</td>\n",
       "      <td>2</td>\n",
       "      <td>2</td>\n",
       "      <td>IRAN:  BARDASKAN, KASHMAR</td>\n",
       "      <td>35.288</td>\n",
       "      <td>58.218</td>\n",
       "      <td>33.0</td>\n",
       "      <td>5.3</td>\n",
       "      <td>1.0</td>\n",
       "    </tr>\n",
       "    <tr>\n",
       "      <th>4</th>\n",
       "      <td>2000</td>\n",
       "      <td>2</td>\n",
       "      <td>7</td>\n",
       "      <td>SOUTH AFRICA; SWAZILAND:  MBABANE-MANZINI</td>\n",
       "      <td>-26.288</td>\n",
       "      <td>30.888</td>\n",
       "      <td>5.0</td>\n",
       "      <td>4.5</td>\n",
       "      <td>0.0</td>\n",
       "    </tr>\n",
       "  </tbody>\n",
       "</table>\n",
       "</div>"
      ],
      "text/plain": [
       "   Year  Mo  Dy                              Location Name  Latitude  \\\n",
       "0  2000   1   3      INDIA-BANGLADESH BORDER:  MAHESHKHALI    22.132   \n",
       "1  2000   1  11                  CHINA:  LIAONING PROVINCE    40.498   \n",
       "2  2000   1  14     CHINA:  YUNNAN PROVINCE:  YAOAN COUNTY    25.607   \n",
       "3  2000   2   2                  IRAN:  BARDASKAN, KASHMAR    35.288   \n",
       "4  2000   2   7  SOUTH AFRICA; SWAZILAND:  MBABANE-MANZINI   -26.288   \n",
       "\n",
       "   Longitude  Focal Depth (km)  Mag  Total Deaths  \n",
       "0     92.771              33.0  4.6           0.0  \n",
       "1    122.994              10.0  5.1           0.0  \n",
       "2    101.063              33.0  5.9           7.0  \n",
       "3     58.218              33.0  5.3           1.0  \n",
       "4     30.888               5.0  4.5           0.0  "
      ]
     },
     "execution_count": 10,
     "metadata": {},
     "output_type": "execute_result"
    }
   ],
   "source": [
    "df.fillna(0, inplace=True)\n",
    "df.head()"
   ]
  },
  {
   "cell_type": "code",
   "execution_count": 11,
   "id": "8304607f-0f35-4c17-9357-d6306322a1d1",
   "metadata": {
    "tags": []
   },
   "outputs": [
    {
     "data": {
      "text/html": [
       "<div>\n",
       "<style scoped>\n",
       "    .dataframe tbody tr th:only-of-type {\n",
       "        vertical-align: middle;\n",
       "    }\n",
       "\n",
       "    .dataframe tbody tr th {\n",
       "        vertical-align: top;\n",
       "    }\n",
       "\n",
       "    .dataframe thead th {\n",
       "        text-align: right;\n",
       "    }\n",
       "</style>\n",
       "<table border=\"1\" class=\"dataframe\">\n",
       "  <thead>\n",
       "    <tr style=\"text-align: right;\">\n",
       "      <th></th>\n",
       "      <th>Location Name</th>\n",
       "      <th>Mag</th>\n",
       "      <th>Total Deaths</th>\n",
       "    </tr>\n",
       "  </thead>\n",
       "  <tbody>\n",
       "    <tr>\n",
       "      <th>0</th>\n",
       "      <td>INDIA-BANGLADESH BORDER:  MAHESHKHALI</td>\n",
       "      <td>4.6</td>\n",
       "      <td>0.0</td>\n",
       "    </tr>\n",
       "    <tr>\n",
       "      <th>1</th>\n",
       "      <td>CHINA:  LIAONING PROVINCE</td>\n",
       "      <td>5.1</td>\n",
       "      <td>0.0</td>\n",
       "    </tr>\n",
       "    <tr>\n",
       "      <th>2</th>\n",
       "      <td>CHINA:  YUNNAN PROVINCE:  YAOAN COUNTY</td>\n",
       "      <td>5.9</td>\n",
       "      <td>7.0</td>\n",
       "    </tr>\n",
       "    <tr>\n",
       "      <th>3</th>\n",
       "      <td>IRAN:  BARDASKAN, KASHMAR</td>\n",
       "      <td>5.3</td>\n",
       "      <td>1.0</td>\n",
       "    </tr>\n",
       "    <tr>\n",
       "      <th>4</th>\n",
       "      <td>SOUTH AFRICA; SWAZILAND:  MBABANE-MANZINI</td>\n",
       "      <td>4.5</td>\n",
       "      <td>0.0</td>\n",
       "    </tr>\n",
       "    <tr>\n",
       "      <th>...</th>\n",
       "      <td>...</td>\n",
       "      <td>...</td>\n",
       "      <td>...</td>\n",
       "    </tr>\n",
       "    <tr>\n",
       "      <th>1201</th>\n",
       "      <td>PHILIPPINES:  MASBATE</td>\n",
       "      <td>6.6</td>\n",
       "      <td>2.0</td>\n",
       "    </tr>\n",
       "    <tr>\n",
       "      <th>1202</th>\n",
       "      <td>ALASKA</td>\n",
       "      <td>7.6</td>\n",
       "      <td>0.0</td>\n",
       "    </tr>\n",
       "    <tr>\n",
       "      <th>1203</th>\n",
       "      <td>GREECE:  SAMOS; TURKEY:  IZMIR</td>\n",
       "      <td>7.0</td>\n",
       "      <td>118.0</td>\n",
       "    </tr>\n",
       "    <tr>\n",
       "      <th>1204</th>\n",
       "      <td>CHILE:  OFF COAST CENTRAL</td>\n",
       "      <td>6.7</td>\n",
       "      <td>0.0</td>\n",
       "    </tr>\n",
       "    <tr>\n",
       "      <th>1205</th>\n",
       "      <td>BALKANS NW:  CROATIA:  PETRINJA</td>\n",
       "      <td>6.4</td>\n",
       "      <td>8.0</td>\n",
       "    </tr>\n",
       "  </tbody>\n",
       "</table>\n",
       "<p>1206 rows × 3 columns</p>\n",
       "</div>"
      ],
      "text/plain": [
       "                                  Location Name  Mag  Total Deaths\n",
       "0         INDIA-BANGLADESH BORDER:  MAHESHKHALI  4.6           0.0\n",
       "1                     CHINA:  LIAONING PROVINCE  5.1           0.0\n",
       "2        CHINA:  YUNNAN PROVINCE:  YAOAN COUNTY  5.9           7.0\n",
       "3                     IRAN:  BARDASKAN, KASHMAR  5.3           1.0\n",
       "4     SOUTH AFRICA; SWAZILAND:  MBABANE-MANZINI  4.5           0.0\n",
       "...                                         ...  ...           ...\n",
       "1201                      PHILIPPINES:  MASBATE  6.6           2.0\n",
       "1202                                     ALASKA  7.6           0.0\n",
       "1203             GREECE:  SAMOS; TURKEY:  IZMIR  7.0         118.0\n",
       "1204                  CHILE:  OFF COAST CENTRAL  6.7           0.0\n",
       "1205            BALKANS NW:  CROATIA:  PETRINJA  6.4           8.0\n",
       "\n",
       "[1206 rows x 3 columns]"
      ]
     },
     "execution_count": 11,
     "metadata": {},
     "output_type": "execute_result"
    }
   ],
   "source": [
    "new_df = df[[\"Location Name\", \"Mag\", \"Total Deaths\"]]\n",
    "new_df"
   ]
  },
  {
   "cell_type": "code",
   "execution_count": 12,
   "id": "eb5253dc-714b-4a37-b41a-b44d81aae9a9",
   "metadata": {
    "tags": []
   },
   "outputs": [
    {
     "data": {
      "text/html": [
       "<div>\n",
       "<style scoped>\n",
       "    .dataframe tbody tr th:only-of-type {\n",
       "        vertical-align: middle;\n",
       "    }\n",
       "\n",
       "    .dataframe tbody tr th {\n",
       "        vertical-align: top;\n",
       "    }\n",
       "\n",
       "    .dataframe thead th {\n",
       "        text-align: right;\n",
       "    }\n",
       "</style>\n",
       "<table border=\"1\" class=\"dataframe\">\n",
       "  <thead>\n",
       "    <tr style=\"text-align: right;\">\n",
       "      <th></th>\n",
       "      <th>Mag</th>\n",
       "      <th>Total Deaths</th>\n",
       "    </tr>\n",
       "  </thead>\n",
       "  <tbody>\n",
       "    <tr>\n",
       "      <th>count</th>\n",
       "      <td>1206.000000</td>\n",
       "      <td>1206.000000</td>\n",
       "    </tr>\n",
       "    <tr>\n",
       "      <th>mean</th>\n",
       "      <td>5.930265</td>\n",
       "      <td>681.509121</td>\n",
       "    </tr>\n",
       "    <tr>\n",
       "      <th>std</th>\n",
       "      <td>1.099304</td>\n",
       "      <td>11757.576367</td>\n",
       "    </tr>\n",
       "    <tr>\n",
       "      <th>min</th>\n",
       "      <td>0.000000</td>\n",
       "      <td>0.000000</td>\n",
       "    </tr>\n",
       "    <tr>\n",
       "      <th>25%</th>\n",
       "      <td>5.200000</td>\n",
       "      <td>0.000000</td>\n",
       "    </tr>\n",
       "    <tr>\n",
       "      <th>50%</th>\n",
       "      <td>5.900000</td>\n",
       "      <td>0.000000</td>\n",
       "    </tr>\n",
       "    <tr>\n",
       "      <th>75%</th>\n",
       "      <td>6.700000</td>\n",
       "      <td>2.000000</td>\n",
       "    </tr>\n",
       "    <tr>\n",
       "      <th>max</th>\n",
       "      <td>9.100000</td>\n",
       "      <td>316000.000000</td>\n",
       "    </tr>\n",
       "  </tbody>\n",
       "</table>\n",
       "</div>"
      ],
      "text/plain": [
       "               Mag   Total Deaths\n",
       "count  1206.000000    1206.000000\n",
       "mean      5.930265     681.509121\n",
       "std       1.099304   11757.576367\n",
       "min       0.000000       0.000000\n",
       "25%       5.200000       0.000000\n",
       "50%       5.900000       0.000000\n",
       "75%       6.700000       2.000000\n",
       "max       9.100000  316000.000000"
      ]
     },
     "execution_count": 12,
     "metadata": {},
     "output_type": "execute_result"
    }
   ],
   "source": [
    "new_df.describe()"
   ]
  },
  {
   "cell_type": "code",
   "execution_count": 14,
   "id": "071f3990-9b00-4fe4-943b-318b4060bf1c",
   "metadata": {
    "tags": []
   },
   "outputs": [
    {
     "data": {
      "text/plain": [
       "{'whiskers': [<matplotlib.lines.Line2D at 0x28fd619e1c0>,\n",
       "  <matplotlib.lines.Line2D at 0x28fd619e460>],\n",
       " 'caps': [<matplotlib.lines.Line2D at 0x28fd619e700>,\n",
       "  <matplotlib.lines.Line2D at 0x28fd619e9a0>],\n",
       " 'boxes': [<matplotlib.lines.Line2D at 0x28fd617eee0>],\n",
       " 'medians': [<matplotlib.lines.Line2D at 0x28fd619ec40>],\n",
       " 'fliers': [<matplotlib.lines.Line2D at 0x28fd619eee0>],\n",
       " 'means': []}"
      ]
     },
     "execution_count": 14,
     "metadata": {},
     "output_type": "execute_result"
    },
    {
     "data": {
      "image/png": "[encoded data removed]",
      "text/plain": [
       "<Figure size 640x480 with 1 Axes>"
      ]
     },
     "metadata": {},
     "output_type": "display_data"
    }
   ],
   "source": [
    "plt.boxplot(new_df[\"Mag\"])"
   ]
  }
 ],
 "metadata": {
  "kernelspec": {
   "display_name": "Python 3 (ipykernel)",
   "language": "python",
   "name": "python3"
  },
  "language_info": {
   "codemirror_mode": {
    "name": "ipython",
    "version": 3
   },
   "file_extension": ".py",
   "mimetype": "text/x-python",
   "name": "python",
   "nbconvert_exporter": "python",
   "pygments_lexer": "ipython3",
   "version": "3.9.16"
  }
 },
 "nbformat": 4,
 "nbformat_minor": 5
}
