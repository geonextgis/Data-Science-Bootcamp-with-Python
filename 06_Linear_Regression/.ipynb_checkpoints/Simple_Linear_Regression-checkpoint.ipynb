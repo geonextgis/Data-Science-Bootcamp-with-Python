{
 "cells": [
  {
   "cell_type": "markdown",
   "id": "c8008507-46f1-4789-8daa-adf38906f366",
   "metadata": {},
   "source": [
    "# **Simple Linear Regression**\n",
    "#### **Description:** \n",
    "Simple linear regression is a statistical technique used to establish a relationship between two variables - one independent and one dependent. The purpose of this technique is to determine whether there is a linear relationship between the two variables, and if so, to develop a mathematical model that can be used to predict the value of the dependent variable based on the value of the independent variable.\n",
    "#### **Assumptions:** \n",
    "Simple linear regression is a parametric test, meaning that it makes certain assumptions about the data. These assumptions are:\n",
    "1. **Homogeneity of variance:** the size of the error in our prediction doesn’t change significantly across the values of the independent variable.\n",
    "2. **Independence of observations:** the observations in the dataset were collected using statistically valid sampling methods, and there are no hidden relationships among observations.\n",
    "3. **Normality:** The data follows a normal distribution.\n",
    "\n",
    "#### **How to perform a Simple Linear Regression:**\n",
    "**Simple linear regression Formula:**\n",
    "$$ y = {\\beta_0} + {\\beta_1{X}} + {\\epsilon} $$\n",
    "* y is the predicted value of the dependent variable (y) for any given value of the independent variable (x).\n",
    "* B0 is the intercept, the predicted value of y when the x is 0.\n",
    "* B1 is the regression coefficient or slope – how much we expect y to change as x increases.\n",
    "* x is the independent variable ( the variable we expect is influencing y).\n",
    "* e is the error of the estimate, or how much variation there is in our estimate of the regression coefficient.\n",
    "\n",
    "Linear regression finds the line of best fit line through your data by searching for the regression coefficient (B1) that minimizes the total error (e) of the model."
   ]
  },
  {
   "cell_type": "markdown",
   "id": "bb2c5af3-2c52-4d6d-8619-f5b0cede535d",
   "metadata": {},
   "source": [
    "## **Simple Linear Regression Project:** \n",
    "### **Predicting Average Temperature in Northern Hemisphere based on Latitude using Simple Linear Regression**\n",
    "#### **Project Description:**\n",
    "The relationship between latitude and temperature is a well-established phenomenon in climatology. In general, temperature decreases as we move away from the equator towards the poles. This is because the Earth's surface receives more direct sunlight near the equator than at the poles, and therefore the equator is warmer.\n",
    "\n",
    "The project of predicting average temperature based on latitude using simple linear regression is an exciting machine learning endeavor that has many real-world applications. The goal of this project is to build a model that can accurately estimate the average temperature of a particular location based on its latitude information."
   ]
  },
  {
   "cell_type": "markdown",
   "id": "1216d9e0-3953-4534-8e75-fdeddc85dbf1",
   "metadata": {},
   "source": [
    "### **01. Importing Required Libraries**"
   ]
  },
  {
   "cell_type": "code",
   "execution_count": 1,
   "id": "1ecd3bb2-d230-4476-a35b-8ae6de23b944",
   "metadata": {},
   "outputs": [],
   "source": [
    "import numpy as np\n",
    "import pandas as pd\n",
    "import seaborn as sns\n",
    "import warnings\n",
    "warnings.filterwarnings(\"ignore\")\n",
    "import matplotlib.pyplot as plt"
   ]
  },
  {
   "cell_type": "markdown",
   "id": "685ee8a2-8009-4621-9582-62eead0f719c",
   "metadata": {},
   "source": [
    "### **02. Reading the CSV File with Pandas**"
   ]
  },
  {
   "cell_type": "code",
   "execution_count": 2,
   "id": "47288229-1dbc-4566-99c4-52e7129e9011",
   "metadata": {},
   "outputs": [],
   "source": [
    "# Defining the path of the csv\n",
    "csv_path = \"D:\\Coding\\Git Repository\\Data-Science-Bootcamp-with-Python\\Datasets\\GlobalLandTemperaturesByCity.csv\""
   ]
  },
  {
   "cell_type": "code",
   "execution_count": 3,
   "id": "3d03a3b3-0774-4fb5-abcc-1cd77d336d7b",
   "metadata": {},
   "outputs": [
    {
     "data": {
      "text/html": [
       "<div>\n",
       "<style scoped>\n",
       "    .dataframe tbody tr th:only-of-type {\n",
       "        vertical-align: middle;\n",
       "    }\n",
       "\n",
       "    .dataframe tbody tr th {\n",
       "        vertical-align: top;\n",
       "    }\n",
       "\n",
       "    .dataframe thead th {\n",
       "        text-align: right;\n",
       "    }\n",
       "</style>\n",
       "<table border=\"1\" class=\"dataframe\">\n",
       "  <thead>\n",
       "    <tr style=\"text-align: right;\">\n",
       "      <th></th>\n",
       "      <th>dt</th>\n",
       "      <th>AverageTemperature</th>\n",
       "      <th>AverageTemperatureUncertainty</th>\n",
       "      <th>City</th>\n",
       "      <th>Country</th>\n",
       "      <th>Latitude</th>\n",
       "      <th>Longitude</th>\n",
       "    </tr>\n",
       "  </thead>\n",
       "  <tbody>\n",
       "    <tr>\n",
       "      <th>0</th>\n",
       "      <td>1743-11-01</td>\n",
       "      <td>6.068</td>\n",
       "      <td>1.737</td>\n",
       "      <td>Århus</td>\n",
       "      <td>Denmark</td>\n",
       "      <td>57.05N</td>\n",
       "      <td>10.33E</td>\n",
       "    </tr>\n",
       "    <tr>\n",
       "      <th>1</th>\n",
       "      <td>1743-12-01</td>\n",
       "      <td>NaN</td>\n",
       "      <td>NaN</td>\n",
       "      <td>Århus</td>\n",
       "      <td>Denmark</td>\n",
       "      <td>57.05N</td>\n",
       "      <td>10.33E</td>\n",
       "    </tr>\n",
       "    <tr>\n",
       "      <th>2</th>\n",
       "      <td>1744-01-01</td>\n",
       "      <td>NaN</td>\n",
       "      <td>NaN</td>\n",
       "      <td>Århus</td>\n",
       "      <td>Denmark</td>\n",
       "      <td>57.05N</td>\n",
       "      <td>10.33E</td>\n",
       "    </tr>\n",
       "    <tr>\n",
       "      <th>3</th>\n",
       "      <td>1744-02-01</td>\n",
       "      <td>NaN</td>\n",
       "      <td>NaN</td>\n",
       "      <td>Århus</td>\n",
       "      <td>Denmark</td>\n",
       "      <td>57.05N</td>\n",
       "      <td>10.33E</td>\n",
       "    </tr>\n",
       "    <tr>\n",
       "      <th>4</th>\n",
       "      <td>1744-03-01</td>\n",
       "      <td>NaN</td>\n",
       "      <td>NaN</td>\n",
       "      <td>Århus</td>\n",
       "      <td>Denmark</td>\n",
       "      <td>57.05N</td>\n",
       "      <td>10.33E</td>\n",
       "    </tr>\n",
       "  </tbody>\n",
       "</table>\n",
       "</div>"
      ],
      "text/plain": [
       "           dt  AverageTemperature  AverageTemperatureUncertainty   City   \n",
       "0  1743-11-01               6.068                          1.737  Århus  \\\n",
       "1  1743-12-01                 NaN                            NaN  Århus   \n",
       "2  1744-01-01                 NaN                            NaN  Århus   \n",
       "3  1744-02-01                 NaN                            NaN  Århus   \n",
       "4  1744-03-01                 NaN                            NaN  Århus   \n",
       "\n",
       "   Country Latitude Longitude  \n",
       "0  Denmark   57.05N    10.33E  \n",
       "1  Denmark   57.05N    10.33E  \n",
       "2  Denmark   57.05N    10.33E  \n",
       "3  Denmark   57.05N    10.33E  \n",
       "4  Denmark   57.05N    10.33E  "
      ]
     },
     "execution_count": 3,
     "metadata": {},
     "output_type": "execute_result"
    }
   ],
   "source": [
    "# Reading the csv file with pandas library\n",
    "df = pd.read_csv(csv_path)\n",
    "df.head()"
   ]
  },
  {
   "cell_type": "code",
   "execution_count": 4,
   "id": "268d0400-5a85-467b-a334-a8c5575e58a3",
   "metadata": {},
   "outputs": [
    {
     "data": {
      "text/plain": [
       "(8599212, 7)"
      ]
     },
     "execution_count": 4,
     "metadata": {},
     "output_type": "execute_result"
    }
   ],
   "source": [
    "# Checking the shape of the dataframe\n",
    "df.shape"
   ]
  },
  {
   "cell_type": "markdown",
   "id": "ea7c90e0-cf30-4009-9271-1b0a80f3f32a",
   "metadata": {},
   "source": [
    "### **03. Data Cleaning**"
   ]
  },
  {
   "cell_type": "markdown",
   "id": "478962f9-c59a-42a7-9a62-858ed62b8607",
   "metadata": {},
   "source": [
    "#### **3.01 Removing the Rows with Missing Values**"
   ]
  },
  {
   "cell_type": "code",
   "execution_count": 5,
   "id": "a5cc6ec8-3dcf-4489-9a73-791b120ac17b",
   "metadata": {},
   "outputs": [
    {
     "data": {
      "text/plain": [
       "dt                                    0\n",
       "AverageTemperature               364130\n",
       "AverageTemperatureUncertainty    364130\n",
       "City                                  0\n",
       "Country                               0\n",
       "Latitude                              0\n",
       "Longitude                             0\n",
       "dtype: int64"
      ]
     },
     "execution_count": 5,
     "metadata": {},
     "output_type": "execute_result"
    }
   ],
   "source": [
    "# Counting the number of missing values (i.e., NaN values) in each column of the pandas DataFrame\n",
    "df.isnull().sum()"
   ]
  },
  {
   "cell_type": "code",
   "execution_count": 6,
   "id": "dd708521-ca31-45f8-a338-f4db7a8dc319",
   "metadata": {},
   "outputs": [
    {
     "data": {
      "text/plain": [
       "(8235082, 7)"
      ]
     },
     "execution_count": 6,
     "metadata": {},
     "output_type": "execute_result"
    }
   ],
   "source": [
    "# Dropping the rows with missing values\n",
    "df.dropna(inplace=True)\n",
    "# Checking the shape of the dataframe after dropping rows with missing values\n",
    "df.shape"
   ]
  },
  {
   "cell_type": "code",
   "execution_count": 7,
   "id": "31afca71-b92c-430c-ada5-1072863f0b59",
   "metadata": {},
   "outputs": [
    {
     "data": {
      "text/html": [
       "<div>\n",
       "<style scoped>\n",
       "    .dataframe tbody tr th:only-of-type {\n",
       "        vertical-align: middle;\n",
       "    }\n",
       "\n",
       "    .dataframe tbody tr th {\n",
       "        vertical-align: top;\n",
       "    }\n",
       "\n",
       "    .dataframe thead th {\n",
       "        text-align: right;\n",
       "    }\n",
       "</style>\n",
       "<table border=\"1\" class=\"dataframe\">\n",
       "  <thead>\n",
       "    <tr style=\"text-align: right;\">\n",
       "      <th></th>\n",
       "      <th>dt</th>\n",
       "      <th>AverageTemperature</th>\n",
       "      <th>AverageTemperatureUncertainty</th>\n",
       "      <th>City</th>\n",
       "      <th>Country</th>\n",
       "      <th>Latitude</th>\n",
       "      <th>Longitude</th>\n",
       "    </tr>\n",
       "  </thead>\n",
       "  <tbody>\n",
       "    <tr>\n",
       "      <th>0</th>\n",
       "      <td>1743-11-01</td>\n",
       "      <td>6.068</td>\n",
       "      <td>1.737</td>\n",
       "      <td>Århus</td>\n",
       "      <td>Denmark</td>\n",
       "      <td>57.05N</td>\n",
       "      <td>10.33E</td>\n",
       "    </tr>\n",
       "    <tr>\n",
       "      <th>5</th>\n",
       "      <td>1744-04-01</td>\n",
       "      <td>5.788</td>\n",
       "      <td>3.624</td>\n",
       "      <td>Århus</td>\n",
       "      <td>Denmark</td>\n",
       "      <td>57.05N</td>\n",
       "      <td>10.33E</td>\n",
       "    </tr>\n",
       "    <tr>\n",
       "      <th>6</th>\n",
       "      <td>1744-05-01</td>\n",
       "      <td>10.644</td>\n",
       "      <td>1.283</td>\n",
       "      <td>Århus</td>\n",
       "      <td>Denmark</td>\n",
       "      <td>57.05N</td>\n",
       "      <td>10.33E</td>\n",
       "    </tr>\n",
       "    <tr>\n",
       "      <th>7</th>\n",
       "      <td>1744-06-01</td>\n",
       "      <td>14.051</td>\n",
       "      <td>1.347</td>\n",
       "      <td>Århus</td>\n",
       "      <td>Denmark</td>\n",
       "      <td>57.05N</td>\n",
       "      <td>10.33E</td>\n",
       "    </tr>\n",
       "    <tr>\n",
       "      <th>8</th>\n",
       "      <td>1744-07-01</td>\n",
       "      <td>16.082</td>\n",
       "      <td>1.396</td>\n",
       "      <td>Århus</td>\n",
       "      <td>Denmark</td>\n",
       "      <td>57.05N</td>\n",
       "      <td>10.33E</td>\n",
       "    </tr>\n",
       "  </tbody>\n",
       "</table>\n",
       "</div>"
      ],
      "text/plain": [
       "           dt  AverageTemperature  AverageTemperatureUncertainty   City   \n",
       "0  1743-11-01               6.068                          1.737  Århus  \\\n",
       "5  1744-04-01               5.788                          3.624  Århus   \n",
       "6  1744-05-01              10.644                          1.283  Århus   \n",
       "7  1744-06-01              14.051                          1.347  Århus   \n",
       "8  1744-07-01              16.082                          1.396  Århus   \n",
       "\n",
       "   Country Latitude Longitude  \n",
       "0  Denmark   57.05N    10.33E  \n",
       "5  Denmark   57.05N    10.33E  \n",
       "6  Denmark   57.05N    10.33E  \n",
       "7  Denmark   57.05N    10.33E  \n",
       "8  Denmark   57.05N    10.33E  "
      ]
     },
     "execution_count": 7,
     "metadata": {},
     "output_type": "execute_result"
    }
   ],
   "source": [
    "# Checking the dataframe after dropping the rows with missing values\n",
    "df.head()"
   ]
  },
  {
   "cell_type": "markdown",
   "id": "e4e76255-70ef-4b2b-8ee1-a55e9d7894eb",
   "metadata": {},
   "source": [
    "#### **3.02 Manipulating the 'Latitude' Column**"
   ]
  },
  {
   "cell_type": "code",
   "execution_count": 8,
   "id": "f2224d71-4b72-441d-b136-f663becf1141",
   "metadata": {},
   "outputs": [],
   "source": [
    "# Adding a \"-\" (minus) before the latitudes of the sothern hemisphere\n",
    "df[\"Latitude\"] = df[\"Latitude\"].apply(lambda x: \"-\"+x if x.endswith(\"S\") else x)"
   ]
  },
  {
   "cell_type": "code",
   "execution_count": 9,
   "id": "0a5d674a-6144-4280-a748-863ae6f74f23",
   "metadata": {},
   "outputs": [],
   "source": [
    "# Removing the 'N' and 'S' from 'Latitude' column\n",
    "df[\"Latitude\"] = df[\"Latitude\"].str.replace(\"N\", \"\")\n",
    "df[\"Latitude\"] = df[\"Latitude\"].str.replace(\"S\", \"\")"
   ]
  },
  {
   "cell_type": "code",
   "execution_count": 10,
   "id": "84f48501-f2b1-493f-b167-6224af2b07ce",
   "metadata": {},
   "outputs": [
    {
     "data": {
      "text/html": [
       "<div>\n",
       "<style scoped>\n",
       "    .dataframe tbody tr th:only-of-type {\n",
       "        vertical-align: middle;\n",
       "    }\n",
       "\n",
       "    .dataframe tbody tr th {\n",
       "        vertical-align: top;\n",
       "    }\n",
       "\n",
       "    .dataframe thead th {\n",
       "        text-align: right;\n",
       "    }\n",
       "</style>\n",
       "<table border=\"1\" class=\"dataframe\">\n",
       "  <thead>\n",
       "    <tr style=\"text-align: right;\">\n",
       "      <th></th>\n",
       "      <th>dt</th>\n",
       "      <th>AverageTemperature</th>\n",
       "      <th>AverageTemperatureUncertainty</th>\n",
       "      <th>City</th>\n",
       "      <th>Country</th>\n",
       "      <th>Latitude</th>\n",
       "      <th>Longitude</th>\n",
       "    </tr>\n",
       "  </thead>\n",
       "  <tbody>\n",
       "    <tr>\n",
       "      <th>0</th>\n",
       "      <td>1743-11-01</td>\n",
       "      <td>6.068</td>\n",
       "      <td>1.737</td>\n",
       "      <td>Århus</td>\n",
       "      <td>Denmark</td>\n",
       "      <td>57.05</td>\n",
       "      <td>10.33E</td>\n",
       "    </tr>\n",
       "    <tr>\n",
       "      <th>5</th>\n",
       "      <td>1744-04-01</td>\n",
       "      <td>5.788</td>\n",
       "      <td>3.624</td>\n",
       "      <td>Århus</td>\n",
       "      <td>Denmark</td>\n",
       "      <td>57.05</td>\n",
       "      <td>10.33E</td>\n",
       "    </tr>\n",
       "    <tr>\n",
       "      <th>6</th>\n",
       "      <td>1744-05-01</td>\n",
       "      <td>10.644</td>\n",
       "      <td>1.283</td>\n",
       "      <td>Århus</td>\n",
       "      <td>Denmark</td>\n",
       "      <td>57.05</td>\n",
       "      <td>10.33E</td>\n",
       "    </tr>\n",
       "    <tr>\n",
       "      <th>7</th>\n",
       "      <td>1744-06-01</td>\n",
       "      <td>14.051</td>\n",
       "      <td>1.347</td>\n",
       "      <td>Århus</td>\n",
       "      <td>Denmark</td>\n",
       "      <td>57.05</td>\n",
       "      <td>10.33E</td>\n",
       "    </tr>\n",
       "    <tr>\n",
       "      <th>8</th>\n",
       "      <td>1744-07-01</td>\n",
       "      <td>16.082</td>\n",
       "      <td>1.396</td>\n",
       "      <td>Århus</td>\n",
       "      <td>Denmark</td>\n",
       "      <td>57.05</td>\n",
       "      <td>10.33E</td>\n",
       "    </tr>\n",
       "  </tbody>\n",
       "</table>\n",
       "</div>"
      ],
      "text/plain": [
       "           dt  AverageTemperature  AverageTemperatureUncertainty   City   \n",
       "0  1743-11-01               6.068                          1.737  Århus  \\\n",
       "5  1744-04-01               5.788                          3.624  Århus   \n",
       "6  1744-05-01              10.644                          1.283  Århus   \n",
       "7  1744-06-01              14.051                          1.347  Århus   \n",
       "8  1744-07-01              16.082                          1.396  Århus   \n",
       "\n",
       "   Country Latitude Longitude  \n",
       "0  Denmark    57.05    10.33E  \n",
       "5  Denmark    57.05    10.33E  \n",
       "6  Denmark    57.05    10.33E  \n",
       "7  Denmark    57.05    10.33E  \n",
       "8  Denmark    57.05    10.33E  "
      ]
     },
     "execution_count": 10,
     "metadata": {},
     "output_type": "execute_result"
    }
   ],
   "source": [
    "# Checking the dataframe\n",
    "df.head()"
   ]
  },
  {
   "cell_type": "markdown",
   "id": "ca5cadf7-6ef2-4a64-b8ee-4c4ea4cfe607",
   "metadata": {},
   "source": [
    "####  **3.03 Changing the Datatype of the 'Latitude' Column**"
   ]
  },
  {
   "cell_type": "code",
   "execution_count": 11,
   "id": "1423f73a-7447-4ae5-b794-999c81ab1bc7",
   "metadata": {},
   "outputs": [
    {
     "data": {
      "text/plain": [
       "dt                                object\n",
       "AverageTemperature               float64\n",
       "AverageTemperatureUncertainty    float64\n",
       "City                              object\n",
       "Country                           object\n",
       "Latitude                         float64\n",
       "Longitude                         object\n",
       "dtype: object"
      ]
     },
     "execution_count": 11,
     "metadata": {},
     "output_type": "execute_result"
    }
   ],
   "source": [
    "# Changing the datatype of the 'Latitude' column from 'str' to 'float'\n",
    "convert_dict = {\"Latitude\": float}\n",
    "df = df.astype(convert_dict)\n",
    "df.dtypes"
   ]
  },
  {
   "cell_type": "code",
   "execution_count": 12,
   "id": "279c6771-0056-4c78-9e31-98ca77be607f",
   "metadata": {},
   "outputs": [
    {
     "data": {
      "text/html": [
       "<div>\n",
       "<style scoped>\n",
       "    .dataframe tbody tr th:only-of-type {\n",
       "        vertical-align: middle;\n",
       "    }\n",
       "\n",
       "    .dataframe tbody tr th {\n",
       "        vertical-align: top;\n",
       "    }\n",
       "\n",
       "    .dataframe thead th {\n",
       "        text-align: right;\n",
       "    }\n",
       "</style>\n",
       "<table border=\"1\" class=\"dataframe\">\n",
       "  <thead>\n",
       "    <tr style=\"text-align: right;\">\n",
       "      <th></th>\n",
       "      <th>dt</th>\n",
       "      <th>AverageTemperature</th>\n",
       "      <th>AverageTemperatureUncertainty</th>\n",
       "      <th>City</th>\n",
       "      <th>Country</th>\n",
       "      <th>Latitude</th>\n",
       "      <th>Longitude</th>\n",
       "    </tr>\n",
       "  </thead>\n",
       "  <tbody>\n",
       "    <tr>\n",
       "      <th>78638</th>\n",
       "      <td>1841-01-01</td>\n",
       "      <td>21.432</td>\n",
       "      <td>3.286</td>\n",
       "      <td>Adelaide</td>\n",
       "      <td>Australia</td>\n",
       "      <td>-34.56</td>\n",
       "      <td>138.16E</td>\n",
       "    </tr>\n",
       "    <tr>\n",
       "      <th>78639</th>\n",
       "      <td>1841-02-01</td>\n",
       "      <td>22.087</td>\n",
       "      <td>2.458</td>\n",
       "      <td>Adelaide</td>\n",
       "      <td>Australia</td>\n",
       "      <td>-34.56</td>\n",
       "      <td>138.16E</td>\n",
       "    </tr>\n",
       "    <tr>\n",
       "      <th>78640</th>\n",
       "      <td>1841-03-01</td>\n",
       "      <td>18.859</td>\n",
       "      <td>3.547</td>\n",
       "      <td>Adelaide</td>\n",
       "      <td>Australia</td>\n",
       "      <td>-34.56</td>\n",
       "      <td>138.16E</td>\n",
       "    </tr>\n",
       "    <tr>\n",
       "      <th>78641</th>\n",
       "      <td>1841-04-01</td>\n",
       "      <td>15.033</td>\n",
       "      <td>1.884</td>\n",
       "      <td>Adelaide</td>\n",
       "      <td>Australia</td>\n",
       "      <td>-34.56</td>\n",
       "      <td>138.16E</td>\n",
       "    </tr>\n",
       "    <tr>\n",
       "      <th>78642</th>\n",
       "      <td>1841-05-01</td>\n",
       "      <td>12.864</td>\n",
       "      <td>1.481</td>\n",
       "      <td>Adelaide</td>\n",
       "      <td>Australia</td>\n",
       "      <td>-34.56</td>\n",
       "      <td>138.16E</td>\n",
       "    </tr>\n",
       "  </tbody>\n",
       "</table>\n",
       "</div>"
      ],
      "text/plain": [
       "               dt  AverageTemperature  AverageTemperatureUncertainty   \n",
       "78638  1841-01-01              21.432                          3.286  \\\n",
       "78639  1841-02-01              22.087                          2.458   \n",
       "78640  1841-03-01              18.859                          3.547   \n",
       "78641  1841-04-01              15.033                          1.884   \n",
       "78642  1841-05-01              12.864                          1.481   \n",
       "\n",
       "           City    Country  Latitude Longitude  \n",
       "78638  Adelaide  Australia    -34.56   138.16E  \n",
       "78639  Adelaide  Australia    -34.56   138.16E  \n",
       "78640  Adelaide  Australia    -34.56   138.16E  \n",
       "78641  Adelaide  Australia    -34.56   138.16E  \n",
       "78642  Adelaide  Australia    -34.56   138.16E  "
      ]
     },
     "execution_count": 12,
     "metadata": {},
     "output_type": "execute_result"
    }
   ],
   "source": [
    "# Checking the latitudes of the southern hemisphere\n",
    "df[df[\"Latitude\"] < 0].head()"
   ]
  },
  {
   "cell_type": "markdown",
   "id": "c7a377ad-663e-4cbb-b289-d37c8b5971ca",
   "metadata": {},
   "source": [
    "#### **3.04 Selecting the Northern Latitudes Only**"
   ]
  },
  {
   "cell_type": "code",
   "execution_count": 13,
   "id": "d5564c05-9fbc-444b-a00e-34ff66d13a99",
   "metadata": {},
   "outputs": [],
   "source": [
    "# Selecting the latitudes of the Northern Hemisphere only\n",
    "df = df[df[\"Latitude\"] >= 0]"
   ]
  },
  {
   "cell_type": "markdown",
   "id": "fc7d266d-f24c-4350-8f98-71b7608ebff2",
   "metadata": {},
   "source": [
    "#### **3.05 Selecting a Random Sample from the DataFrame**"
   ]
  },
  {
   "cell_type": "code",
   "execution_count": 14,
   "id": "2b6559d0-8349-48ea-8c55-d41d096878c6",
   "metadata": {},
   "outputs": [],
   "source": [
    "# Selecting a random sample from the dataframe\n",
    "df = df.sample(10000, random_state=0)"
   ]
  },
  {
   "cell_type": "code",
   "execution_count": 15,
   "id": "ce214cf2-8b2d-4aef-84dd-7318e414896d",
   "metadata": {},
   "outputs": [],
   "source": [
    "# Selecting only two columns 'Latitude' and 'AverageTemperature' from the dataframe\n",
    "df = df[[\"Latitude\", \"AverageTemperature\"]]"
   ]
  },
  {
   "cell_type": "markdown",
   "id": "6c8395b1-44c4-413c-bf0d-e7ecf9e2e9c4",
   "metadata": {},
   "source": [
    "#### **3.06 Removing the Outliers**"
   ]
  },
  {
   "cell_type": "code",
   "execution_count": 16,
   "id": "e41fad93-cc94-496e-a44a-491992e3f2ba",
   "metadata": {},
   "outputs": [
    {
     "data": {
      "text/plain": [
       "Text(0.5, 1.0, 'Boxplot before Outliers Removal')"
      ]
     },
     "execution_count": 16,
     "metadata": {},
     "output_type": "execute_result"
    },
    {
     "data": {
      "image/png": "[encoded data removed]",
      "text/plain": [
       "<Figure size 640x480 with 1 Axes>"
      ]
     },
     "metadata": {},
     "output_type": "display_data"
    }
   ],
   "source": [
    "# Visualizing the boxplot of the dataframe\n",
    "sns.boxplot(df)\n",
    "plt.title(\"Boxplot before Outliers Removal\")"
   ]
  },
  {
   "cell_type": "code",
   "execution_count": 17,
   "id": "77a48be6-9822-49fa-9c08-fb7d5f002a18",
   "metadata": {},
   "outputs": [
    {
     "name": "stdout",
     "output_type": "stream",
     "text": [
      "Quartile1: 8.996250000000002\n",
      "Quartile2: 25.27625\n"
     ]
    }
   ],
   "source": [
    "# Removing the outliers from the 'AverageTemperature' column\n",
    "# Getting the value of First and Third Quartile (Q1 & Q3) of the 'AverageTemperature'\n",
    "Q1 = df[\"AverageTemperature\"].quantile(0.25)\n",
    "Q3 = df[\"AverageTemperature\"].quantile(0.75)\n",
    "print(\"Quartile1:\", Q1)\n",
    "print(\"Quartile2:\", Q3)"
   ]
  },
  {
   "cell_type": "code",
   "execution_count": 18,
   "id": "c19e9873-11bd-4583-9893-101c7618b369",
   "metadata": {},
   "outputs": [
    {
     "name": "stdout",
     "output_type": "stream",
     "text": [
      "IQR: 16.28\n"
     ]
    }
   ],
   "source": [
    "# Calulating the Inter Quartile Range (IQR)\n",
    "IQR = Q3 - Q1\n",
    "print(\"IQR:\", IQR)"
   ]
  },
  {
   "cell_type": "code",
   "execution_count": 19,
   "id": "d5f0b357-e19c-41b1-81bb-e8f9489d41ca",
   "metadata": {},
   "outputs": [
    {
     "name": "stdout",
     "output_type": "stream",
     "text": [
      "Lower Fence: -15.42375\n",
      "Higher Fence: 49.696250000000006\n"
     ]
    }
   ],
   "source": [
    "# Calculating the Higher Fence and Lower Fence\n",
    "lower_fence =  Q1 - (1.5 * IQR)\n",
    "higher_fence = Q3 + (1.5 * IQR)\n",
    "print(\"Lower Fence:\", lower_fence)\n",
    "print(\"Higher Fence:\", higher_fence)"
   ]
  },
  {
   "cell_type": "code",
   "execution_count": 20,
   "id": "1d9ce0d7-d266-4c84-9eab-468fc6c5ddc2",
   "metadata": {},
   "outputs": [],
   "source": [
    "# Removing the Outliers\n",
    "df = df[~((df[\"AverageTemperature\"] < lower_fence) | (df[\"AverageTemperature\"] > higher_fence))]"
   ]
  },
  {
   "cell_type": "markdown",
   "id": "bb3d8014-de66-47d0-861a-17ab80a943cb",
   "metadata": {},
   "source": [
    "#### **3.07 Checking the Final DataFrame**"
   ]
  },
  {
   "cell_type": "code",
   "execution_count": 21,
   "id": "1ff86904-52cb-497c-9751-bc8268057a7c",
   "metadata": {},
   "outputs": [
    {
     "data": {
      "text/plain": [
       "(9915, 2)"
      ]
     },
     "execution_count": 21,
     "metadata": {},
     "output_type": "execute_result"
    }
   ],
   "source": [
    "df.shape"
   ]
  },
  {
   "cell_type": "code",
   "execution_count": 22,
   "id": "2ae927ad-7ecc-40a9-aa59-87d69eec3b32",
   "metadata": {},
   "outputs": [],
   "source": [
    "# Resetting the index of the dataframe\n",
    "df.reset_index(drop=True, inplace=True)"
   ]
  },
  {
   "cell_type": "code",
   "execution_count": 23,
   "id": "dca66dd1-8f0e-4327-a219-2f3ab5ee2580",
   "metadata": {},
   "outputs": [
    {
     "data": {
      "text/html": [
       "<div>\n",
       "<style scoped>\n",
       "    .dataframe tbody tr th:only-of-type {\n",
       "        vertical-align: middle;\n",
       "    }\n",
       "\n",
       "    .dataframe tbody tr th {\n",
       "        vertical-align: top;\n",
       "    }\n",
       "\n",
       "    .dataframe thead th {\n",
       "        text-align: right;\n",
       "    }\n",
       "</style>\n",
       "<table border=\"1\" class=\"dataframe\">\n",
       "  <thead>\n",
       "    <tr style=\"text-align: right;\">\n",
       "      <th></th>\n",
       "      <th>Latitude</th>\n",
       "      <th>AverageTemperature</th>\n",
       "    </tr>\n",
       "  </thead>\n",
       "  <tbody>\n",
       "    <tr>\n",
       "      <th>0</th>\n",
       "      <td>8.84</td>\n",
       "      <td>25.610</td>\n",
       "    </tr>\n",
       "    <tr>\n",
       "      <th>1</th>\n",
       "      <td>2.41</td>\n",
       "      <td>27.648</td>\n",
       "    </tr>\n",
       "    <tr>\n",
       "      <th>2</th>\n",
       "      <td>32.95</td>\n",
       "      <td>8.922</td>\n",
       "    </tr>\n",
       "    <tr>\n",
       "      <th>3</th>\n",
       "      <td>2.41</td>\n",
       "      <td>24.415</td>\n",
       "    </tr>\n",
       "    <tr>\n",
       "      <th>4</th>\n",
       "      <td>39.38</td>\n",
       "      <td>20.298</td>\n",
       "    </tr>\n",
       "  </tbody>\n",
       "</table>\n",
       "</div>"
      ],
      "text/plain": [
       "   Latitude  AverageTemperature\n",
       "0      8.84              25.610\n",
       "1      2.41              27.648\n",
       "2     32.95               8.922\n",
       "3      2.41              24.415\n",
       "4     39.38              20.298"
      ]
     },
     "execution_count": 23,
     "metadata": {},
     "output_type": "execute_result"
    }
   ],
   "source": [
    "# Checking the dataframe\n",
    "df.head()"
   ]
  },
  {
   "cell_type": "code",
   "execution_count": 24,
   "id": "635fee72-9618-4734-a4cb-ec49f516147d",
   "metadata": {},
   "outputs": [
    {
     "data": {
      "text/html": [
       "<div>\n",
       "<style scoped>\n",
       "    .dataframe tbody tr th:only-of-type {\n",
       "        vertical-align: middle;\n",
       "    }\n",
       "\n",
       "    .dataframe tbody tr th {\n",
       "        vertical-align: top;\n",
       "    }\n",
       "\n",
       "    .dataframe thead th {\n",
       "        text-align: right;\n",
       "    }\n",
       "</style>\n",
       "<table border=\"1\" class=\"dataframe\">\n",
       "  <thead>\n",
       "    <tr style=\"text-align: right;\">\n",
       "      <th></th>\n",
       "      <th>Latitude</th>\n",
       "      <th>AverageTemperature</th>\n",
       "    </tr>\n",
       "  </thead>\n",
       "  <tbody>\n",
       "    <tr>\n",
       "      <th>count</th>\n",
       "      <td>9915.000000</td>\n",
       "      <td>9915.000000</td>\n",
       "    </tr>\n",
       "    <tr>\n",
       "      <th>mean</th>\n",
       "      <td>33.032856</td>\n",
       "      <td>16.434261</td>\n",
       "    </tr>\n",
       "    <tr>\n",
       "      <th>std</th>\n",
       "      <td>14.546368</td>\n",
       "      <td>10.331029</td>\n",
       "    </tr>\n",
       "    <tr>\n",
       "      <th>min</th>\n",
       "      <td>0.800000</td>\n",
       "      <td>-15.349000</td>\n",
       "    </tr>\n",
       "    <tr>\n",
       "      <th>25%</th>\n",
       "      <td>23.310000</td>\n",
       "      <td>9.347000</td>\n",
       "    </tr>\n",
       "    <tr>\n",
       "      <th>50%</th>\n",
       "      <td>34.560000</td>\n",
       "      <td>18.061000</td>\n",
       "    </tr>\n",
       "    <tr>\n",
       "      <th>75%</th>\n",
       "      <td>44.200000</td>\n",
       "      <td>25.312500</td>\n",
       "    </tr>\n",
       "    <tr>\n",
       "      <th>max</th>\n",
       "      <td>68.310000</td>\n",
       "      <td>37.576000</td>\n",
       "    </tr>\n",
       "  </tbody>\n",
       "</table>\n",
       "</div>"
      ],
      "text/plain": [
       "          Latitude  AverageTemperature\n",
       "count  9915.000000         9915.000000\n",
       "mean     33.032856           16.434261\n",
       "std      14.546368           10.331029\n",
       "min       0.800000          -15.349000\n",
       "25%      23.310000            9.347000\n",
       "50%      34.560000           18.061000\n",
       "75%      44.200000           25.312500\n",
       "max      68.310000           37.576000"
      ]
     },
     "execution_count": 24,
     "metadata": {},
     "output_type": "execute_result"
    }
   ],
   "source": [
    "# Describing the univariate statistics of the dataframe\n",
    "df.describe()"
   ]
  },
  {
   "cell_type": "markdown",
   "id": "c6342590-d78a-4406-a77d-119b9f0fb195",
   "metadata": {},
   "source": [
    "### **04. Data Visualization**"
   ]
  },
  {
   "cell_type": "markdown",
   "id": "5d5fd299-3011-4451-b96f-fabfe87dc0d7",
   "metadata": {},
   "source": [
    "#### **4.01 Histogram of Average Temperature with Kernel Density Estimation (KDE))**"
   ]
  },
  {
   "cell_type": "code",
   "execution_count": 25,
   "id": "c325ebab-6cdb-4876-a793-4cb76e4ddf02",
   "metadata": {},
   "outputs": [
    {
     "data": {
      "image/png": "[encoded data removed]",
      "text/plain": [
       "<Figure size 640x480 with 1 Axes>"
      ]
     },
     "metadata": {},
     "output_type": "display_data"
    }
   ],
   "source": [
    "# Visualizing Histogram of 'AverageTemperature' with Probability Density Function\n",
    "sns.histplot(df[\"AverageTemperature\"], kde=True)\n",
    "plt.title(\"Historam of Average Temperature\")\n",
    "plt.show()"
   ]
  },
  {
   "cell_type": "markdown",
   "id": "5d7f8a2d-92a6-4bb8-9054-46f434e8336a",
   "metadata": {},
   "source": [
    "#### **4.02 Boxplot of Average Temperature**"
   ]
  },
  {
   "cell_type": "code",
   "execution_count": 26,
   "id": "ace8551e-00c4-4e98-b3cb-01208180189c",
   "metadata": {},
   "outputs": [
    {
     "data": {
      "image/png": "[encoded data removed]",
      "text/plain": [
       "<Figure size 640x480 with 1 Axes>"
      ]
     },
     "metadata": {},
     "output_type": "display_data"
    }
   ],
   "source": [
    "# Visualizing 5 number summary of the 'AverageTemperature'\n",
    "sns.boxplot(x=df[\"AverageTemperature\"], width=0.5)\n",
    "plt.title(\"Boxplot of Average Temperature after Outliers Removal\")\n",
    "plt.show()"
   ]
  },
  {
   "cell_type": "markdown",
   "id": "73879826-1a56-4680-ba30-a1fe8d9c505f",
   "metadata": {},
   "source": [
    "#### **4.03 Scatterplot between Latitude and Average Temperature**"
   ]
  },
  {
   "cell_type": "code",
   "execution_count": 27,
   "id": "d46aa848-7bfd-4dd3-bbb5-33dddd2a93f5",
   "metadata": {},
   "outputs": [
    {
     "data": {
      "image/png": "[encoded data removed]",
      "text/plain": [
       "<Figure size 640x480 with 1 Axes>"
      ]
     },
     "metadata": {},
     "output_type": "display_data"
    }
   ],
   "source": [
    "sns.scatterplot(x=df[\"Latitude\"], y=df[\"AverageTemperature\"], marker=\".\")\n",
    "plt.title(\"Scatterplot between North Latitude and Average Temperature\")\n",
    "plt.xlabel(\"North Latitude\")\n",
    "plt.ylabel(\"Average Temperature (in °C)\")\n",
    "plt.show()"
   ]
  },
  {
   "cell_type": "markdown",
   "id": "6115f7cf-6426-4c2d-a0dd-4b3f858f9806",
   "metadata": {},
   "source": [
    "### **05. Dividing the Data into Trainining and Testing Set**"
   ]
  },
  {
   "cell_type": "markdown",
   "id": "c22a44ac-d166-44b6-a24a-163a4ccfc749",
   "metadata": {},
   "source": [
    "#### **5.01 Defining the Dependent and Independent Variable**"
   ]
  },
  {
   "cell_type": "code",
   "execution_count": 28,
   "id": "fd28ee1c-0359-4293-b627-7e9e905bfd03",
   "metadata": {},
   "outputs": [],
   "source": [
    "# Dependent Variable (y) = 'AverageTemperature'\n",
    "# Independent Variable (x) = 'Latitude'\n",
    "x = df[[\"Latitude\"]]\n",
    "y = df[[\"AverageTemperature\"]]"
   ]
  },
  {
   "cell_type": "markdown",
   "id": "5f33c889-cf6d-4402-9088-1b37abc6778d",
   "metadata": {},
   "source": [
    "#### **5.02 Splitting the Data into Training and Testing Set**"
   ]
  },
  {
   "cell_type": "code",
   "execution_count": 29,
   "id": "b04c963c-6bd5-478b-ab68-973251e4e144",
   "metadata": {},
   "outputs": [],
   "source": [
    "# Importing the tarin_test_split sklearn library\n",
    "from sklearn.model_selection import train_test_split"
   ]
  },
  {
   "cell_type": "code",
   "execution_count": 30,
   "id": "3ed4c2b5-358c-4359-b83f-5d873fd7364f",
   "metadata": {},
   "outputs": [],
   "source": [
    "# Training Data = 70% and Testing Dat = 30%\n",
    "x_train, x_test, y_train, y_test = train_test_split(x, y, test_size=0.3, random_state=75)"
   ]
  },
  {
   "cell_type": "markdown",
   "id": "8c2bd00c-297e-439e-97c2-085ca424086f",
   "metadata": {},
   "source": [
    "### **06. Instantiating the Simple Linear Regression Model**"
   ]
  },
  {
   "cell_type": "markdown",
   "id": "81c396e8-5c6f-4309-81d3-4779bc918717",
   "metadata": {},
   "source": [
    "#### **6.01 Importing LinearRegression Model from sklearn Library**"
   ]
  },
  {
   "cell_type": "code",
   "execution_count": 31,
   "id": "0e03df43-c3f5-4aee-b97e-36b377b59672",
   "metadata": {},
   "outputs": [],
   "source": [
    "# Importing the Linear Regression Model from sklearn library\n",
    "from sklearn.linear_model import LinearRegression"
   ]
  },
  {
   "cell_type": "markdown",
   "id": "2c2cd1f4-d5fc-41b9-befd-a9a4fc3abce0",
   "metadata": {},
   "source": [
    "#### **6.02 Generating a LinearRegression Object**"
   ]
  },
  {
   "cell_type": "code",
   "execution_count": 32,
   "id": "e3f14582-2f89-4eb8-91ec-d15d103c63f2",
   "metadata": {},
   "outputs": [
    {
     "data": {
      "text/html": [
       "<style>#sk-container-id-1 {color: black;background-color: white;}#sk-container-id-1 pre{padding: 0;}#sk-container-id-1 div.sk-toggleable {background-color: white;}#sk-container-id-1 label.sk-toggleable__label {cursor: pointer;display: block;width: 100%;margin-bottom: 0;padding: 0.3em;box-sizing: border-box;text-align: center;}#sk-container-id-1 label.sk-toggleable__label-arrow:before {content: \"▸\";float: left;margin-right: 0.25em;color: #696969;}#sk-container-id-1 label.sk-toggleable__label-arrow:hover:before {color: black;}#sk-container-id-1 div.sk-estimator:hover label.sk-toggleable__label-arrow:before {color: black;}#sk-container-id-1 div.sk-toggleable__content {max-height: 0;max-width: 0;overflow: hidden;text-align: left;background-color: #f0f8ff;}#sk-container-id-1 div.sk-toggleable__content pre {margin: 0.2em;color: black;border-radius: 0.25em;background-color: #f0f8ff;}#sk-container-id-1 input.sk-toggleable__control:checked~div.sk-toggleable__content {max-height: 200px;max-width: 100%;overflow: auto;}#sk-container-id-1 input.sk-toggleable__control:checked~label.sk-toggleable__label-arrow:before {content: \"▾\";}#sk-container-id-1 div.sk-estimator input.sk-toggleable__control:checked~label.sk-toggleable__label {background-color: #d4ebff;}#sk-container-id-1 div.sk-label input.sk-toggleable__control:checked~label.sk-toggleable__label {background-color: #d4ebff;}#sk-container-id-1 input.sk-hidden--visually {border: 0;clip: rect(1px 1px 1px 1px);clip: rect(1px, 1px, 1px, 1px);height: 1px;margin: -1px;overflow: hidden;padding: 0;position: absolute;width: 1px;}#sk-container-id-1 div.sk-estimator {font-family: monospace;background-color: #f0f8ff;border: 1px dotted black;border-radius: 0.25em;box-sizing: border-box;margin-bottom: 0.5em;}#sk-container-id-1 div.sk-estimator:hover {background-color: #d4ebff;}#sk-container-id-1 div.sk-parallel-item::after {content: \"\";width: 100%;border-bottom: 1px solid gray;flex-grow: 1;}#sk-container-id-1 div.sk-label:hover label.sk-toggleable__label {background-color: #d4ebff;}#sk-container-id-1 div.sk-serial::before {content: \"\";position: absolute;border-left: 1px solid gray;box-sizing: border-box;top: 0;bottom: 0;left: 50%;z-index: 0;}#sk-container-id-1 div.sk-serial {display: flex;flex-direction: column;align-items: center;background-color: white;padding-right: 0.2em;padding-left: 0.2em;position: relative;}#sk-container-id-1 div.sk-item {position: relative;z-index: 1;}#sk-container-id-1 div.sk-parallel {display: flex;align-items: stretch;justify-content: center;background-color: white;position: relative;}#sk-container-id-1 div.sk-item::before, #sk-container-id-1 div.sk-parallel-item::before {content: \"\";position: absolute;border-left: 1px solid gray;box-sizing: border-box;top: 0;bottom: 0;left: 50%;z-index: -1;}#sk-container-id-1 div.sk-parallel-item {display: flex;flex-direction: column;z-index: 1;position: relative;background-color: white;}#sk-container-id-1 div.sk-parallel-item:first-child::after {align-self: flex-end;width: 50%;}#sk-container-id-1 div.sk-parallel-item:last-child::after {align-self: flex-start;width: 50%;}#sk-container-id-1 div.sk-parallel-item:only-child::after {width: 0;}#sk-container-id-1 div.sk-dashed-wrapped {border: 1px dashed gray;margin: 0 0.4em 0.5em 0.4em;box-sizing: border-box;padding-bottom: 0.4em;background-color: white;}#sk-container-id-1 div.sk-label label {font-family: monospace;font-weight: bold;display: inline-block;line-height: 1.2em;}#sk-container-id-1 div.sk-label-container {text-align: center;}#sk-container-id-1 div.sk-container {/* jupyter's `normalize.less` sets `[hidden] { display: none; }` but bootstrap.min.css set `[hidden] { display: none !important; }` so we also need the `!important` here to be able to override the default hidden behavior on the sphinx rendered scikit-learn.org. See: https://github.com/scikit-learn/scikit-learn/issues/21755 */display: inline-block !important;position: relative;}#sk-container-id-1 div.sk-text-repr-fallback {display: none;}</style><div id=\"sk-container-id-1\" class=\"sk-top-container\"><div class=\"sk-text-repr-fallback\"><pre>LinearRegression()</pre><b>In a Jupyter environment, please rerun this cell to show the HTML representation or trust the notebook. <br />On GitHub, the HTML representation is unable to render, please try loading this page with nbviewer.org.</b></div><div class=\"sk-container\" hidden><div class=\"sk-item\"><div class=\"sk-estimator sk-toggleable\"><input class=\"sk-toggleable__control sk-hidden--visually\" id=\"sk-estimator-id-1\" type=\"checkbox\" checked><label for=\"sk-estimator-id-1\" class=\"sk-toggleable__label sk-toggleable__label-arrow\">LinearRegression</label><div class=\"sk-toggleable__content\"><pre>LinearRegression()</pre></div></div></div></div></div>"
      ],
      "text/plain": [
       "LinearRegression()"
      ]
     },
     "execution_count": 32,
     "metadata": {},
     "output_type": "execute_result"
    }
   ],
   "source": [
    "# Creating a linear regression object\n",
    "lin_reg = LinearRegression()\n",
    "# Feeding the training data to the model\n",
    "lin_reg.fit(x_train, y_train)"
   ]
  },
  {
   "cell_type": "markdown",
   "id": "ddee1c31-2af5-49f8-9f79-ad07ef434a6a",
   "metadata": {},
   "source": [
    "#### **6.03 Getting the Coefficients of the Linear Regression Model**"
   ]
  },
  {
   "cell_type": "code",
   "execution_count": 33,
   "id": "c7520003-f6b1-41b3-8951-12fd22745fad",
   "metadata": {},
   "outputs": [
    {
     "data": {
      "text/plain": [
       "array([[-0.4690722]])"
      ]
     },
     "execution_count": 33,
     "metadata": {},
     "output_type": "execute_result"
    }
   ],
   "source": [
    "# Getting the slope of the model\n",
    "lin_reg.coef_"
   ]
  },
  {
   "cell_type": "code",
   "execution_count": 34,
   "id": "369d4514-bfa4-4a0b-a162-926aa2cb39f1",
   "metadata": {},
   "outputs": [
    {
     "data": {
      "text/plain": [
       "array([31.98279238])"
      ]
     },
     "execution_count": 34,
     "metadata": {},
     "output_type": "execute_result"
    }
   ],
   "source": [
    "# Getting the y-intercept of the model\n",
    "lin_reg.intercept_"
   ]
  },
  {
   "cell_type": "markdown",
   "id": "b48b1568-f3af-41f3-b355-9cd896df00f5",
   "metadata": {},
   "source": [
    "### **07. Validation of the Model**"
   ]
  },
  {
   "cell_type": "markdown",
   "id": "16e010ce-d4a0-441a-acf9-f1d2743b9894",
   "metadata": {},
   "source": [
    "#### **7.01 Importing Some Validation Metrics**"
   ]
  },
  {
   "cell_type": "code",
   "execution_count": 35,
   "id": "e3bfe139-04e7-4d01-aec8-7b65ea164803",
   "metadata": {},
   "outputs": [],
   "source": [
    "# Importing some validation metrics from sklearn library\n",
    "from sklearn.metrics import mean_absolute_error, mean_squared_error, accuracy_score"
   ]
  },
  {
   "cell_type": "markdown",
   "id": "de4d0c4f-bc3c-4739-ae31-6b961cb69971",
   "metadata": {},
   "source": [
    "#### **7.02 Validating the Linear Regression Model**"
   ]
  },
  {
   "cell_type": "code",
   "execution_count": 36,
   "id": "2aaf4d38-2302-4a41-b6ba-bf16ca904c67",
   "metadata": {},
   "outputs": [],
   "source": [
    "# Predicting the AverageTemperature of the x_test (Latitude) data\n",
    "y_predicted = lin_reg.predict(x_test)"
   ]
  },
  {
   "cell_type": "code",
   "execution_count": 37,
   "id": "a062ef3e-b8c3-4596-829d-bb929de8a7b8",
   "metadata": {},
   "outputs": [],
   "source": [
    "# Defining the actual 'Average Temperature' data\n",
    "y_actual = y_test"
   ]
  },
  {
   "cell_type": "markdown",
   "id": "8f41ff2f-3239-4155-afcf-cefe7b48af0e",
   "metadata": {},
   "source": [
    "#### **7.03 Calculating the Mean Absolute Error, Mean Squared Error of the Model**"
   ]
  },
  {
   "cell_type": "code",
   "execution_count": 38,
   "id": "c1486c20-1adf-4f5f-88cd-efcf65ac8e39",
   "metadata": {},
   "outputs": [
    {
     "name": "stdout",
     "output_type": "stream",
     "text": [
      "Mean Absolute Error (MAE): 6.222\n"
     ]
    }
   ],
   "source": [
    "# Calculating the Mean Absolute Error (MAE)\n",
    "MAE = mean_absolute_error(y_actual, y_predicted)\n",
    "print(\"Mean Absolute Error (MAE):\", MAE.round(4))"
   ]
  },
  {
   "cell_type": "code",
   "execution_count": 39,
   "id": "f7ee2c43-fb1f-4c01-afcf-a0ad95ed3073",
   "metadata": {},
   "outputs": [
    {
     "name": "stdout",
     "output_type": "stream",
     "text": [
      "Mean Squared Error (MSE): 59.9896\n"
     ]
    }
   ],
   "source": [
    "# Calulating the Mean Squared Error (MSE)\n",
    "MSE = mean_squared_error(y_actual, y_predicted)\n",
    "print(\"Mean Squared Error (MSE):\", MSE.round(4))"
   ]
  },
  {
   "cell_type": "code",
   "execution_count": 40,
   "id": "3f96d39b-8ff5-4a5d-8b13-1abfdeabdb85",
   "metadata": {},
   "outputs": [
    {
     "name": "stdout",
     "output_type": "stream",
     "text": [
      "Root Mean Squared Error (RMSE): 7.7453\n"
     ]
    }
   ],
   "source": [
    "# Calulating the Root Mean Squared Error (MSE)\n",
    "RMSE = np.sqrt(MSE)\n",
    "print(\"Root Mean Squared Error (RMSE):\", RMSE.round(4))"
   ]
  },
  {
   "cell_type": "markdown",
   "id": "41c05d93-c4ae-4a77-a408-29185b165346",
   "metadata": {
    "tags": []
   },
   "source": [
    "#### **7.04 Plotting the Linear Regression Line**"
   ]
  },
  {
   "cell_type": "code",
   "execution_count": 45,
   "id": "4728834b-a71a-4415-883f-2c68af4398bf",
   "metadata": {},
   "outputs": [
    {
     "data": {
      "image/png": "[encoded data removed]",
      "text/plain": [
       "<Figure size 640x480 with 1 Axes>"
      ]
     },
     "metadata": {},
     "output_type": "display_data"
    }
   ],
   "source": [
    "sns.scatterplot(x=df[\"Latitude\"], y=df[\"AverageTemperature\"], marker=\".\")\n",
    "plt.plot(x, lin_reg.predict(x), color=\"red\")\n",
    "plt.title(\"Scatterplot between North Latitude and Average Temperature\")\n",
    "plt.xlabel(\"North Latitude\")\n",
    "plt.ylabel(\"Average Temperature (in °C)\")\n",
    "plt.show()"
   ]
  }
 ],
 "metadata": {
  "kernelspec": {
   "display_name": "Python 3 (ipykernel)",
   "language": "python",
   "name": "python3"
  },
  "language_info": {
   "codemirror_mode": {
    "name": "ipython",
    "version": 3
   },
   "file_extension": ".py",
   "mimetype": "text/x-python",
   "name": "python",
   "nbconvert_exporter": "python",
   "pygments_lexer": "ipython3",
   "version": "3.10.10"
  }
 },
 "nbformat": 4,
 "nbformat_minor": 5
}
