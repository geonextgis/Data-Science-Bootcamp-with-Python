{
 "cells": [
  {
   "cell_type": "markdown",
   "id": "83127787-a50e-431f-a192-faf5a6873e2f",
   "metadata": {},
   "source": [
    "# Different Ways of Creating DataFrame\n",
    "Pandas is a powerful library for data manipulation and analysis in Python. It provides the DataFrame object, which is a two-dimensional table-like data structure with rows and columns. In this tutorial, we will cover different ways of creating a DataFrame in Pandas."
   ]
  },
  {
   "cell_type": "code",
   "execution_count": 1,
   "id": "3a834c6f-c7c3-4713-889e-6b45e46c2700",
   "metadata": {
    "tags": []
   },
   "outputs": [],
   "source": [
    "import pandas as pd"
   ]
  },
  {
   "cell_type": "markdown",
   "id": "0d5d72ef-98c8-41b1-862f-2ba40ea1b876",
   "metadata": {},
   "source": [
    "## 01. Creating DataFrame Using read_csv() Method\n",
    "Pandas provides a read_csv() method which allows us to create a DataFrame by reading a CSV file. This is one of the most common ways of creating a DataFrame in Pandas, especially when working with large datasets."
   ]
  },
  {
   "cell_type": "code",
   "execution_count": 2,
   "id": "a71868d8-25c3-4016-b0a0-3cded7654699",
   "metadata": {
    "tags": []
   },
   "outputs": [
    {
     "data": {
      "text/html": [
       "<div>\n",
       "<style scoped>\n",
       "    .dataframe tbody tr th:only-of-type {\n",
       "        vertical-align: middle;\n",
       "    }\n",
       "\n",
       "    .dataframe tbody tr th {\n",
       "        vertical-align: top;\n",
       "    }\n",
       "\n",
       "    .dataframe thead th {\n",
       "        text-align: right;\n",
       "    }\n",
       "</style>\n",
       "<table border=\"1\" class=\"dataframe\">\n",
       "  <thead>\n",
       "    <tr style=\"text-align: right;\">\n",
       "      <th></th>\n",
       "      <th>day</th>\n",
       "      <th>temperature</th>\n",
       "      <th>windspeed</th>\n",
       "      <th>event</th>\n",
       "    </tr>\n",
       "  </thead>\n",
       "  <tbody>\n",
       "    <tr>\n",
       "      <th>0</th>\n",
       "      <td>01-01-2020</td>\n",
       "      <td>32</td>\n",
       "      <td>6</td>\n",
       "      <td>Rain</td>\n",
       "    </tr>\n",
       "    <tr>\n",
       "      <th>1</th>\n",
       "      <td>01-02-2020</td>\n",
       "      <td>35</td>\n",
       "      <td>7</td>\n",
       "      <td>Sunny</td>\n",
       "    </tr>\n",
       "    <tr>\n",
       "      <th>2</th>\n",
       "      <td>01-03-2020</td>\n",
       "      <td>28</td>\n",
       "      <td>2</td>\n",
       "      <td>Snow</td>\n",
       "    </tr>\n",
       "    <tr>\n",
       "      <th>3</th>\n",
       "      <td>01-04-2020</td>\n",
       "      <td>24</td>\n",
       "      <td>7</td>\n",
       "      <td>Snow</td>\n",
       "    </tr>\n",
       "    <tr>\n",
       "      <th>4</th>\n",
       "      <td>01-05-2020</td>\n",
       "      <td>32</td>\n",
       "      <td>4</td>\n",
       "      <td>Rain</td>\n",
       "    </tr>\n",
       "    <tr>\n",
       "      <th>5</th>\n",
       "      <td>01-06-2020</td>\n",
       "      <td>32</td>\n",
       "      <td>2</td>\n",
       "      <td>Sunny</td>\n",
       "    </tr>\n",
       "  </tbody>\n",
       "</table>\n",
       "</div>"
      ],
      "text/plain": [
       "          day  temperature  windspeed  event\n",
       "0  01-01-2020           32          6   Rain\n",
       "1  01-02-2020           35          7  Sunny\n",
       "2  01-03-2020           28          2   Snow\n",
       "3  01-04-2020           24          7   Snow\n",
       "4  01-05-2020           32          4   Rain\n",
       "5  01-06-2020           32          2  Sunny"
      ]
     },
     "execution_count": 2,
     "metadata": {},
     "output_type": "execute_result"
    }
   ],
   "source": [
    "csv_path = \"D:\\Coding\\Git Repository\\Data-Science-Bootcamp-with-Python\\Datasets\\sample_weather_data.csv\"\n",
    "df1 = pd.read_csv(csv_path)\n",
    "df1"
   ]
  },
  {
   "cell_type": "markdown",
   "id": "86fe805f-c1d8-41db-a92d-be159ec84b63",
   "metadata": {},
   "source": [
    "## 02. Creating DataFrame Using read_excel() Method\n",
    "In addition to read_csv(), Pandas also provides a read_excel() method which allows us to create a DataFrame by reading an Excel file."
   ]
  },
  {
   "cell_type": "code",
   "execution_count": 3,
   "id": "37ee163b-cc4d-43bb-9e09-7db19da119d1",
   "metadata": {
    "tags": []
   },
   "outputs": [
    {
     "data": {
      "text/html": [
       "<div>\n",
       "<style scoped>\n",
       "    .dataframe tbody tr th:only-of-type {\n",
       "        vertical-align: middle;\n",
       "    }\n",
       "\n",
       "    .dataframe tbody tr th {\n",
       "        vertical-align: top;\n",
       "    }\n",
       "\n",
       "    .dataframe thead th {\n",
       "        text-align: right;\n",
       "    }\n",
       "</style>\n",
       "<table border=\"1\" class=\"dataframe\">\n",
       "  <thead>\n",
       "    <tr style=\"text-align: right;\">\n",
       "      <th></th>\n",
       "      <th>day</th>\n",
       "      <th>temperature</th>\n",
       "      <th>windspeed</th>\n",
       "      <th>event</th>\n",
       "    </tr>\n",
       "  </thead>\n",
       "  <tbody>\n",
       "    <tr>\n",
       "      <th>0</th>\n",
       "      <td>2020-01-01</td>\n",
       "      <td>32</td>\n",
       "      <td>6</td>\n",
       "      <td>Rain</td>\n",
       "    </tr>\n",
       "    <tr>\n",
       "      <th>1</th>\n",
       "      <td>2020-02-01</td>\n",
       "      <td>35</td>\n",
       "      <td>7</td>\n",
       "      <td>Sunny</td>\n",
       "    </tr>\n",
       "    <tr>\n",
       "      <th>2</th>\n",
       "      <td>2020-03-01</td>\n",
       "      <td>28</td>\n",
       "      <td>2</td>\n",
       "      <td>Snow</td>\n",
       "    </tr>\n",
       "    <tr>\n",
       "      <th>3</th>\n",
       "      <td>2020-04-01</td>\n",
       "      <td>24</td>\n",
       "      <td>7</td>\n",
       "      <td>Snow</td>\n",
       "    </tr>\n",
       "    <tr>\n",
       "      <th>4</th>\n",
       "      <td>2020-05-01</td>\n",
       "      <td>32</td>\n",
       "      <td>4</td>\n",
       "      <td>Rain</td>\n",
       "    </tr>\n",
       "    <tr>\n",
       "      <th>5</th>\n",
       "      <td>2020-06-01</td>\n",
       "      <td>32</td>\n",
       "      <td>2</td>\n",
       "      <td>Sunny</td>\n",
       "    </tr>\n",
       "  </tbody>\n",
       "</table>\n",
       "</div>"
      ],
      "text/plain": [
       "         day  temperature  windspeed  event\n",
       "0 2020-01-01           32          6   Rain\n",
       "1 2020-02-01           35          7  Sunny\n",
       "2 2020-03-01           28          2   Snow\n",
       "3 2020-04-01           24          7   Snow\n",
       "4 2020-05-01           32          4   Rain\n",
       "5 2020-06-01           32          2  Sunny"
      ]
     },
     "execution_count": 3,
     "metadata": {},
     "output_type": "execute_result"
    }
   ],
   "source": [
    "xls_path = \"D:\\Coding\\Git Repository\\Data-Science-Bootcamp-with-Python\\Datasets\\sample_weather_data.xlsx\"\n",
    "df2 = pd.read_excel(xls_path)\n",
    "df2"
   ]
  },
  {
   "cell_type": "markdown",
   "id": "4c811fcc-3f09-4660-aa9c-5139fcfd19f5",
   "metadata": {},
   "source": [
    "## 03. Creating DataFrame from Dictionary\n",
    "Another way to create a DataFrame in Pandas is by using a Python dictionary. The keys of the dictionary represent the column names of the DataFrame, while the values represent the data for each column. The values can be of any data type that can be represented in a Pandas DataFrame (such as lists, NumPy arrays, or Pandas Series)."
   ]
  },
  {
   "cell_type": "code",
   "execution_count": 4,
   "id": "deb288d7-bbd4-4a9f-8397-b7716314d580",
   "metadata": {
    "tags": []
   },
   "outputs": [],
   "source": [
    "weather_dict = {\n",
    "    \"day\": [\"2020-01-01\", \"2020-02-01\", \"2020-03-01\", \"2020-04-01\", \"2020-05-01\", \"2020-06-01\"],\n",
    "    \"temperature\": [32, 35, 28, 24, 32, 32],\n",
    "    \"windspeed\": [6, 7, 2, 7, 4, 2],\n",
    "    \"event\": [\"Rain\", \"Sunny\", \"Snow\", \"Snow\", \"Rain\", \"Sunny\"]\n",
    "}"
   ]
  },
  {
   "cell_type": "code",
   "execution_count": 5,
   "id": "c6cf7cf1-8c6e-4076-b391-25faadc5c8c8",
   "metadata": {
    "tags": []
   },
   "outputs": [
    {
     "data": {
      "text/html": [
       "<div>\n",
       "<style scoped>\n",
       "    .dataframe tbody tr th:only-of-type {\n",
       "        vertical-align: middle;\n",
       "    }\n",
       "\n",
       "    .dataframe tbody tr th {\n",
       "        vertical-align: top;\n",
       "    }\n",
       "\n",
       "    .dataframe thead th {\n",
       "        text-align: right;\n",
       "    }\n",
       "</style>\n",
       "<table border=\"1\" class=\"dataframe\">\n",
       "  <thead>\n",
       "    <tr style=\"text-align: right;\">\n",
       "      <th></th>\n",
       "      <th>day</th>\n",
       "      <th>temperature</th>\n",
       "      <th>windspeed</th>\n",
       "      <th>event</th>\n",
       "    </tr>\n",
       "  </thead>\n",
       "  <tbody>\n",
       "    <tr>\n",
       "      <th>0</th>\n",
       "      <td>2020-01-01</td>\n",
       "      <td>32</td>\n",
       "      <td>6</td>\n",
       "      <td>Rain</td>\n",
       "    </tr>\n",
       "    <tr>\n",
       "      <th>1</th>\n",
       "      <td>2020-02-01</td>\n",
       "      <td>35</td>\n",
       "      <td>7</td>\n",
       "      <td>Sunny</td>\n",
       "    </tr>\n",
       "    <tr>\n",
       "      <th>2</th>\n",
       "      <td>2020-03-01</td>\n",
       "      <td>28</td>\n",
       "      <td>2</td>\n",
       "      <td>Snow</td>\n",
       "    </tr>\n",
       "    <tr>\n",
       "      <th>3</th>\n",
       "      <td>2020-04-01</td>\n",
       "      <td>24</td>\n",
       "      <td>7</td>\n",
       "      <td>Snow</td>\n",
       "    </tr>\n",
       "    <tr>\n",
       "      <th>4</th>\n",
       "      <td>2020-05-01</td>\n",
       "      <td>32</td>\n",
       "      <td>4</td>\n",
       "      <td>Rain</td>\n",
       "    </tr>\n",
       "    <tr>\n",
       "      <th>5</th>\n",
       "      <td>2020-06-01</td>\n",
       "      <td>32</td>\n",
       "      <td>2</td>\n",
       "      <td>Sunny</td>\n",
       "    </tr>\n",
       "  </tbody>\n",
       "</table>\n",
       "</div>"
      ],
      "text/plain": [
       "          day  temperature  windspeed  event\n",
       "0  2020-01-01           32          6   Rain\n",
       "1  2020-02-01           35          7  Sunny\n",
       "2  2020-03-01           28          2   Snow\n",
       "3  2020-04-01           24          7   Snow\n",
       "4  2020-05-01           32          4   Rain\n",
       "5  2020-06-01           32          2  Sunny"
      ]
     },
     "execution_count": 5,
     "metadata": {},
     "output_type": "execute_result"
    }
   ],
   "source": [
    "df3 = pd.DataFrame(weather_dict)\n",
    "df3"
   ]
  },
  {
   "cell_type": "markdown",
   "id": "f996355b-df37-414a-965f-8fd62dbc358f",
   "metadata": {},
   "source": [
    "## 04. Creating DataFrame from a List of Tuples\n",
    "Another way to create a DataFrame in Pandas is by using a list of tuples. In this case, you need to provide the column names. The column names are optional, but if you don't specify them, Pandas will assign default column names (0, 1, 2, etc.) to the DataFrame."
   ]
  },
  {
   "cell_type": "code",
   "execution_count": 6,
   "id": "ffeea629-fd7b-4a01-8fc9-10437d0d1ebd",
   "metadata": {
    "tags": []
   },
   "outputs": [],
   "source": [
    "weather_data = [\n",
    "\t(\"2020-01-01\", 32, 6, \"Rain\"),\n",
    "\t(\"2020-02-01\", 35, 7, \"Sunny\"),\n",
    "\t(\"2020-03-01\", 28, 2, \"Snow\"),\n",
    "\t(\"2020-04-01\", 24, 7, \"Snow\"),\n",
    "\t(\"2020-05-01\", 32, 4, \"Rain\"),\n",
    "\t(\"2020-06-01\", 32, 2, \"Sunny\")\n",
    "]"
   ]
  },
  {
   "cell_type": "code",
   "execution_count": 7,
   "id": "fb69e18a-2aad-40d7-94c7-c59a76844e90",
   "metadata": {
    "tags": []
   },
   "outputs": [
    {
     "data": {
      "text/html": [
       "<div>\n",
       "<style scoped>\n",
       "    .dataframe tbody tr th:only-of-type {\n",
       "        vertical-align: middle;\n",
       "    }\n",
       "\n",
       "    .dataframe tbody tr th {\n",
       "        vertical-align: top;\n",
       "    }\n",
       "\n",
       "    .dataframe thead th {\n",
       "        text-align: right;\n",
       "    }\n",
       "</style>\n",
       "<table border=\"1\" class=\"dataframe\">\n",
       "  <thead>\n",
       "    <tr style=\"text-align: right;\">\n",
       "      <th></th>\n",
       "      <th>day</th>\n",
       "      <th>temperature</th>\n",
       "      <th>windspeed</th>\n",
       "      <th>event</th>\n",
       "    </tr>\n",
       "  </thead>\n",
       "  <tbody>\n",
       "    <tr>\n",
       "      <th>0</th>\n",
       "      <td>2020-01-01</td>\n",
       "      <td>32</td>\n",
       "      <td>6</td>\n",
       "      <td>Rain</td>\n",
       "    </tr>\n",
       "    <tr>\n",
       "      <th>1</th>\n",
       "      <td>2020-02-01</td>\n",
       "      <td>35</td>\n",
       "      <td>7</td>\n",
       "      <td>Sunny</td>\n",
       "    </tr>\n",
       "    <tr>\n",
       "      <th>2</th>\n",
       "      <td>2020-03-01</td>\n",
       "      <td>28</td>\n",
       "      <td>2</td>\n",
       "      <td>Snow</td>\n",
       "    </tr>\n",
       "    <tr>\n",
       "      <th>3</th>\n",
       "      <td>2020-04-01</td>\n",
       "      <td>24</td>\n",
       "      <td>7</td>\n",
       "      <td>Snow</td>\n",
       "    </tr>\n",
       "    <tr>\n",
       "      <th>4</th>\n",
       "      <td>2020-05-01</td>\n",
       "      <td>32</td>\n",
       "      <td>4</td>\n",
       "      <td>Rain</td>\n",
       "    </tr>\n",
       "    <tr>\n",
       "      <th>5</th>\n",
       "      <td>2020-06-01</td>\n",
       "      <td>32</td>\n",
       "      <td>2</td>\n",
       "      <td>Sunny</td>\n",
       "    </tr>\n",
       "  </tbody>\n",
       "</table>\n",
       "</div>"
      ],
      "text/plain": [
       "          day  temperature  windspeed  event\n",
       "0  2020-01-01           32          6   Rain\n",
       "1  2020-02-01           35          7  Sunny\n",
       "2  2020-03-01           28          2   Snow\n",
       "3  2020-04-01           24          7   Snow\n",
       "4  2020-05-01           32          4   Rain\n",
       "5  2020-06-01           32          2  Sunny"
      ]
     },
     "execution_count": 7,
     "metadata": {},
     "output_type": "execute_result"
    }
   ],
   "source": [
    "df4 = pd.DataFrame(weather_data, columns=[\"day\", \"temperature\", \"windspeed\", \"event\"])\n",
    "df4"
   ]
  },
  {
   "cell_type": "markdown",
   "id": "e7bd24a7-413b-42c4-8850-6da9b2615a70",
   "metadata": {},
   "source": [
    "## 05. Creating DataFrame Using List of Dictionaries\n",
    "Another way to create a DataFrame in Pandas is by using a list of dictionaries. In this case, the keys of each dictionary are used as column names in the resulting DataFrame. The order of the keys in the first dictionary determines the order of the columns in the DataFrame."
   ]
  },
  {
   "cell_type": "code",
   "execution_count": 8,
   "id": "2abcf2e0-c580-46d1-8bf4-9e00ce65c5c8",
   "metadata": {
    "tags": []
   },
   "outputs": [],
   "source": [
    "weather_dict_list = [\n",
    "    {\"day\": \"2020-01-01\", \"temperature\": 32, \"windspeed\": 6, \"event\": \"Rain\"},\n",
    "    {\"day\": \"2020-02-01\", \"temperature\": 35, \"windspeed\": 7, \"event\": \"Sunny\"},\n",
    "    {\"day\": \"2020-03-01\", \"temperature\": 28, \"windspeed\": 2, \"event\": \"Snow\"},\n",
    "    {\"day\": \"2020-04-01\", \"temperature\": 24, \"windspeed\": 7, \"event\": \"Snow\"},\n",
    "    {\"day\": \"2020-05-01\", \"temperature\": 32, \"windspeed\": 4, \"event\": \"Rain\"},\n",
    "    {\"day\": \"2020-06-01\", \"temperature\": 32, \"windspeed\": 2, \"event\": \"Sunny\"},\n",
    "]"
   ]
  },
  {
   "cell_type": "code",
   "execution_count": 9,
   "id": "fecf9720-7e69-4f35-971e-08d323026ab5",
   "metadata": {
    "tags": []
   },
   "outputs": [
    {
     "data": {
      "text/html": [
       "<div>\n",
       "<style scoped>\n",
       "    .dataframe tbody tr th:only-of-type {\n",
       "        vertical-align: middle;\n",
       "    }\n",
       "\n",
       "    .dataframe tbody tr th {\n",
       "        vertical-align: top;\n",
       "    }\n",
       "\n",
       "    .dataframe thead th {\n",
       "        text-align: right;\n",
       "    }\n",
       "</style>\n",
       "<table border=\"1\" class=\"dataframe\">\n",
       "  <thead>\n",
       "    <tr style=\"text-align: right;\">\n",
       "      <th></th>\n",
       "      <th>day</th>\n",
       "      <th>temperature</th>\n",
       "      <th>windspeed</th>\n",
       "      <th>event</th>\n",
       "    </tr>\n",
       "  </thead>\n",
       "  <tbody>\n",
       "    <tr>\n",
       "      <th>0</th>\n",
       "      <td>2020-01-01</td>\n",
       "      <td>32</td>\n",
       "      <td>6</td>\n",
       "      <td>Rain</td>\n",
       "    </tr>\n",
       "    <tr>\n",
       "      <th>1</th>\n",
       "      <td>2020-02-01</td>\n",
       "      <td>35</td>\n",
       "      <td>7</td>\n",
       "      <td>Sunny</td>\n",
       "    </tr>\n",
       "    <tr>\n",
       "      <th>2</th>\n",
       "      <td>2020-03-01</td>\n",
       "      <td>28</td>\n",
       "      <td>2</td>\n",
       "      <td>Snow</td>\n",
       "    </tr>\n",
       "    <tr>\n",
       "      <th>3</th>\n",
       "      <td>2020-04-01</td>\n",
       "      <td>24</td>\n",
       "      <td>7</td>\n",
       "      <td>Snow</td>\n",
       "    </tr>\n",
       "    <tr>\n",
       "      <th>4</th>\n",
       "      <td>2020-05-01</td>\n",
       "      <td>32</td>\n",
       "      <td>4</td>\n",
       "      <td>Rain</td>\n",
       "    </tr>\n",
       "    <tr>\n",
       "      <th>5</th>\n",
       "      <td>2020-06-01</td>\n",
       "      <td>32</td>\n",
       "      <td>2</td>\n",
       "      <td>Sunny</td>\n",
       "    </tr>\n",
       "  </tbody>\n",
       "</table>\n",
       "</div>"
      ],
      "text/plain": [
       "          day  temperature  windspeed  event\n",
       "0  2020-01-01           32          6   Rain\n",
       "1  2020-02-01           35          7  Sunny\n",
       "2  2020-03-01           28          2   Snow\n",
       "3  2020-04-01           24          7   Snow\n",
       "4  2020-05-01           32          4   Rain\n",
       "5  2020-06-01           32          2  Sunny"
      ]
     },
     "execution_count": 9,
     "metadata": {},
     "output_type": "execute_result"
    }
   ],
   "source": [
    "df5 = pd.DataFrame(weather_dict_list)\n",
    "df5"
   ]
  }
 ],
 "metadata": {
  "kernelspec": {
   "display_name": "Python 3 (ipykernel)",
   "language": "python",
   "name": "python3"
  },
  "language_info": {
   "codemirror_mode": {
    "name": "ipython",
    "version": 3
   },
   "file_extension": ".py",
   "mimetype": "text/x-python",
   "name": "python",
   "nbconvert_exporter": "python",
   "pygments_lexer": "ipython3",
   "version": "3.9.16"
  }
 },
 "nbformat": 4,
 "nbformat_minor": 5
}
