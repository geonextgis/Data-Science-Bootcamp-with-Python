{
 "cells": [
  {
   "cell_type": "markdown",
   "id": "06d89c95-669c-4c39-9ceb-2998ea8d27de",
   "metadata": {},
   "source": [
    "# Read and Write Excel CSV\n",
    "Pandas is a powerful tool for reading and writing data in various formats including Excel and CSV. In this module, we will explore how to read and write Excel and CSV files using Pandas."
   ]
  },
  {
   "cell_type": "code",
   "execution_count": 1,
   "id": "bef6c10c-57bd-4852-a520-6e2215e2060b",
   "metadata": {
    "tags": []
   },
   "outputs": [],
   "source": [
    "import pandas as pd"
   ]
  },
  {
   "cell_type": "markdown",
   "id": "575f9b5a-18b6-4f31-a467-a8fd3531e6cc",
   "metadata": {},
   "source": [
    "## 01. Read CSV File Using read_csv() Method\n",
    "To read a CSV file using Pandas, you can use the read_csv() function. This function takes the filename as an argument and returns a Pandas DataFrame object."
   ]
  },
  {
   "cell_type": "code",
   "execution_count": 2,
   "id": "bda4fb1b-0db0-4105-be89-e67c1cc6a5ff",
   "metadata": {
    "tags": []
   },
   "outputs": [
    {
     "data": {
      "text/html": [
       "<div>\n",
       "<style scoped>\n",
       "    .dataframe tbody tr th:only-of-type {\n",
       "        vertical-align: middle;\n",
       "    }\n",
       "\n",
       "    .dataframe tbody tr th {\n",
       "        vertical-align: top;\n",
       "    }\n",
       "\n",
       "    .dataframe thead th {\n",
       "        text-align: right;\n",
       "    }\n",
       "</style>\n",
       "<table border=\"1\" class=\"dataframe\">\n",
       "  <thead>\n",
       "    <tr style=\"text-align: right;\">\n",
       "      <th></th>\n",
       "      <th>tickets</th>\n",
       "      <th>eps</th>\n",
       "      <th>revenue</th>\n",
       "      <th>price</th>\n",
       "      <th>people</th>\n",
       "    </tr>\n",
       "  </thead>\n",
       "  <tbody>\n",
       "    <tr>\n",
       "      <th>0</th>\n",
       "      <td>GOOGL</td>\n",
       "      <td>27.82</td>\n",
       "      <td>87</td>\n",
       "      <td>845</td>\n",
       "      <td>larry page</td>\n",
       "    </tr>\n",
       "    <tr>\n",
       "      <th>1</th>\n",
       "      <td>WMT</td>\n",
       "      <td>4.61</td>\n",
       "      <td>484</td>\n",
       "      <td>65</td>\n",
       "      <td>n.a.</td>\n",
       "    </tr>\n",
       "    <tr>\n",
       "      <th>2</th>\n",
       "      <td>MSFT</td>\n",
       "      <td>-1</td>\n",
       "      <td>85</td>\n",
       "      <td>64</td>\n",
       "      <td>bill gates</td>\n",
       "    </tr>\n",
       "    <tr>\n",
       "      <th>3</th>\n",
       "      <td>RIL</td>\n",
       "      <td>not available</td>\n",
       "      <td>50</td>\n",
       "      <td>1023</td>\n",
       "      <td>mukesh ambani</td>\n",
       "    </tr>\n",
       "    <tr>\n",
       "      <th>4</th>\n",
       "      <td>TATA</td>\n",
       "      <td>5.6</td>\n",
       "      <td>-1</td>\n",
       "      <td>n.a.</td>\n",
       "      <td>ratan tata</td>\n",
       "    </tr>\n",
       "  </tbody>\n",
       "</table>\n",
       "</div>"
      ],
      "text/plain": [
       "  tickets            eps  revenue price         people\n",
       "0   GOOGL          27.82       87   845     larry page\n",
       "1     WMT           4.61      484    65           n.a.\n",
       "2    MSFT             -1       85    64     bill gates\n",
       "3     RIL  not available       50  1023  mukesh ambani\n",
       "4    TATA            5.6       -1  n.a.     ratan tata"
      ]
     },
     "execution_count": 2,
     "metadata": {},
     "output_type": "execute_result"
    }
   ],
   "source": [
    "filepath = \"D:\\Coding\\Git Repository\\Data-Science-Bootcamp-with-Python\\Datasets\\stock_data.csv\"\n",
    "df = pd.read_csv(filepath)\n",
    "df"
   ]
  },
  {
   "cell_type": "markdown",
   "id": "4e0e4188-b2d2-45a0-867f-0e8ba9a60c56",
   "metadata": {},
   "source": [
    "## 02. Skip Rows in DataFrame Using skiprows() Method\n",
    "In Pandas, you can use the skiprows() method to skip rows in a DataFrame while reading a CSV or Excel file. This can be useful when you have header rows, comment lines, or other non-data rows that you want to exclude from the DataFrame."
   ]
  },
  {
   "cell_type": "code",
   "execution_count": 3,
   "id": "5898d3a2-88c8-4a48-a855-70c889de329e",
   "metadata": {
    "tags": []
   },
   "outputs": [
    {
     "data": {
      "text/html": [
       "<div>\n",
       "<style scoped>\n",
       "    .dataframe tbody tr th:only-of-type {\n",
       "        vertical-align: middle;\n",
       "    }\n",
       "\n",
       "    .dataframe tbody tr th {\n",
       "        vertical-align: top;\n",
       "    }\n",
       "\n",
       "    .dataframe thead th {\n",
       "        text-align: right;\n",
       "    }\n",
       "</style>\n",
       "<table border=\"1\" class=\"dataframe\">\n",
       "  <thead>\n",
       "    <tr style=\"text-align: right;\">\n",
       "      <th></th>\n",
       "      <th>GOOGL</th>\n",
       "      <th>27.82</th>\n",
       "      <th>87</th>\n",
       "      <th>845</th>\n",
       "      <th>larry page</th>\n",
       "    </tr>\n",
       "  </thead>\n",
       "  <tbody>\n",
       "    <tr>\n",
       "      <th>0</th>\n",
       "      <td>WMT</td>\n",
       "      <td>4.61</td>\n",
       "      <td>484</td>\n",
       "      <td>65</td>\n",
       "      <td>n.a.</td>\n",
       "    </tr>\n",
       "    <tr>\n",
       "      <th>1</th>\n",
       "      <td>MSFT</td>\n",
       "      <td>-1</td>\n",
       "      <td>85</td>\n",
       "      <td>64</td>\n",
       "      <td>bill gates</td>\n",
       "    </tr>\n",
       "    <tr>\n",
       "      <th>2</th>\n",
       "      <td>RIL</td>\n",
       "      <td>not available</td>\n",
       "      <td>50</td>\n",
       "      <td>1023</td>\n",
       "      <td>mukesh ambani</td>\n",
       "    </tr>\n",
       "    <tr>\n",
       "      <th>3</th>\n",
       "      <td>TATA</td>\n",
       "      <td>5.6</td>\n",
       "      <td>-1</td>\n",
       "      <td>n.a.</td>\n",
       "      <td>ratan tata</td>\n",
       "    </tr>\n",
       "  </tbody>\n",
       "</table>\n",
       "</div>"
      ],
      "text/plain": [
       "  GOOGL          27.82   87   845     larry page\n",
       "0   WMT           4.61  484    65           n.a.\n",
       "1  MSFT             -1   85    64     bill gates\n",
       "2   RIL  not available   50  1023  mukesh ambani\n",
       "3  TATA            5.6   -1  n.a.     ratan tata"
      ]
     },
     "execution_count": 3,
     "metadata": {},
     "output_type": "execute_result"
    }
   ],
   "source": [
    "df1 = pd.read_csv(filepath, skiprows=1)\n",
    "df1"
   ]
  },
  {
   "cell_type": "markdown",
   "id": "a850e82f-22a2-4caa-b0a7-378c7eb51109",
   "metadata": {},
   "source": [
    "## 03. Import Data from CSV with \"null header\"\n",
    "Sometimes you may encounter CSV files that do not have a header row or have a header row with blank or null values. In Pandas, you can still import such CSV files and specify column names later using the header parameter in the read_csv() function."
   ]
  },
  {
   "cell_type": "code",
   "execution_count": 4,
   "id": "687b4569-39dc-405c-a13c-905e76df8f50",
   "metadata": {
    "tags": []
   },
   "outputs": [
    {
     "data": {
      "text/html": [
       "<div>\n",
       "<style scoped>\n",
       "    .dataframe tbody tr th:only-of-type {\n",
       "        vertical-align: middle;\n",
       "    }\n",
       "\n",
       "    .dataframe tbody tr th {\n",
       "        vertical-align: top;\n",
       "    }\n",
       "\n",
       "    .dataframe thead th {\n",
       "        text-align: right;\n",
       "    }\n",
       "</style>\n",
       "<table border=\"1\" class=\"dataframe\">\n",
       "  <thead>\n",
       "    <tr style=\"text-align: right;\">\n",
       "      <th></th>\n",
       "      <th>0</th>\n",
       "      <th>1</th>\n",
       "      <th>2</th>\n",
       "      <th>3</th>\n",
       "      <th>4</th>\n",
       "    </tr>\n",
       "  </thead>\n",
       "  <tbody>\n",
       "    <tr>\n",
       "      <th>0</th>\n",
       "      <td>GOOGL</td>\n",
       "      <td>27.82</td>\n",
       "      <td>87</td>\n",
       "      <td>845</td>\n",
       "      <td>larry page</td>\n",
       "    </tr>\n",
       "    <tr>\n",
       "      <th>1</th>\n",
       "      <td>WMT</td>\n",
       "      <td>4.61</td>\n",
       "      <td>484</td>\n",
       "      <td>65</td>\n",
       "      <td>n.a.</td>\n",
       "    </tr>\n",
       "    <tr>\n",
       "      <th>2</th>\n",
       "      <td>MSFT</td>\n",
       "      <td>-1</td>\n",
       "      <td>85</td>\n",
       "      <td>64</td>\n",
       "      <td>bill gates</td>\n",
       "    </tr>\n",
       "    <tr>\n",
       "      <th>3</th>\n",
       "      <td>RIL</td>\n",
       "      <td>not available</td>\n",
       "      <td>50</td>\n",
       "      <td>1023</td>\n",
       "      <td>mukesh ambani</td>\n",
       "    </tr>\n",
       "    <tr>\n",
       "      <th>4</th>\n",
       "      <td>TATA</td>\n",
       "      <td>5.6</td>\n",
       "      <td>-1</td>\n",
       "      <td>n.a.</td>\n",
       "      <td>ratan tata</td>\n",
       "    </tr>\n",
       "  </tbody>\n",
       "</table>\n",
       "</div>"
      ],
      "text/plain": [
       "       0              1    2     3              4\n",
       "0  GOOGL          27.82   87   845     larry page\n",
       "1    WMT           4.61  484    65           n.a.\n",
       "2   MSFT             -1   85    64     bill gates\n",
       "3    RIL  not available   50  1023  mukesh ambani\n",
       "4   TATA            5.6   -1  n.a.     ratan tata"
      ]
     },
     "execution_count": 4,
     "metadata": {},
     "output_type": "execute_result"
    }
   ],
   "source": [
    "df2 = pd.read_csv(filepath, skiprows=1, header=None)\n",
    "df2"
   ]
  },
  {
   "cell_type": "code",
   "execution_count": 5,
   "id": "d0eab6c4-da04-4426-80d2-76f583e40f0b",
   "metadata": {
    "tags": []
   },
   "outputs": [
    {
     "data": {
      "text/html": [
       "<div>\n",
       "<style scoped>\n",
       "    .dataframe tbody tr th:only-of-type {\n",
       "        vertical-align: middle;\n",
       "    }\n",
       "\n",
       "    .dataframe tbody tr th {\n",
       "        vertical-align: top;\n",
       "    }\n",
       "\n",
       "    .dataframe thead th {\n",
       "        text-align: right;\n",
       "    }\n",
       "</style>\n",
       "<table border=\"1\" class=\"dataframe\">\n",
       "  <thead>\n",
       "    <tr style=\"text-align: right;\">\n",
       "      <th></th>\n",
       "      <th>tickets</th>\n",
       "      <th>eps</th>\n",
       "      <th>revenue</th>\n",
       "      <th>price</th>\n",
       "      <th>people</th>\n",
       "    </tr>\n",
       "  </thead>\n",
       "  <tbody>\n",
       "    <tr>\n",
       "      <th>0</th>\n",
       "      <td>GOOGL</td>\n",
       "      <td>27.82</td>\n",
       "      <td>87</td>\n",
       "      <td>845</td>\n",
       "      <td>larry page</td>\n",
       "    </tr>\n",
       "    <tr>\n",
       "      <th>1</th>\n",
       "      <td>WMT</td>\n",
       "      <td>4.61</td>\n",
       "      <td>484</td>\n",
       "      <td>65</td>\n",
       "      <td>n.a.</td>\n",
       "    </tr>\n",
       "    <tr>\n",
       "      <th>2</th>\n",
       "      <td>MSFT</td>\n",
       "      <td>-1</td>\n",
       "      <td>85</td>\n",
       "      <td>64</td>\n",
       "      <td>bill gates</td>\n",
       "    </tr>\n",
       "    <tr>\n",
       "      <th>3</th>\n",
       "      <td>RIL</td>\n",
       "      <td>not available</td>\n",
       "      <td>50</td>\n",
       "      <td>1023</td>\n",
       "      <td>mukesh ambani</td>\n",
       "    </tr>\n",
       "    <tr>\n",
       "      <th>4</th>\n",
       "      <td>TATA</td>\n",
       "      <td>5.6</td>\n",
       "      <td>-1</td>\n",
       "      <td>n.a.</td>\n",
       "      <td>ratan tata</td>\n",
       "    </tr>\n",
       "  </tbody>\n",
       "</table>\n",
       "</div>"
      ],
      "text/plain": [
       "  tickets            eps  revenue price         people\n",
       "0   GOOGL          27.82       87   845     larry page\n",
       "1     WMT           4.61      484    65           n.a.\n",
       "2    MSFT             -1       85    64     bill gates\n",
       "3     RIL  not available       50  1023  mukesh ambani\n",
       "4    TATA            5.6       -1  n.a.     ratan tata"
      ]
     },
     "execution_count": 5,
     "metadata": {},
     "output_type": "execute_result"
    }
   ],
   "source": [
    "df3 = pd.read_csv(filepath, skiprows=1, header=None, names=[\"tickets\", \"eps\", \"revenue\", \"price\", \"people\"])\n",
    "df3"
   ]
  },
  {
   "cell_type": "markdown",
   "id": "654c2181-fa95-49ea-a29b-58a79ab69639",
   "metadata": {},
   "source": [
    "## 04. Reading Limited Data from CSV\n",
    "In Pandas, you can read a limited number of rows from a CSV file using the nrows parameter in the read_csv() function."
   ]
  },
  {
   "cell_type": "code",
   "execution_count": 6,
   "id": "38c40105-23a5-4c9c-af84-b31195b3b932",
   "metadata": {
    "tags": []
   },
   "outputs": [
    {
     "data": {
      "text/html": [
       "<div>\n",
       "<style scoped>\n",
       "    .dataframe tbody tr th:only-of-type {\n",
       "        vertical-align: middle;\n",
       "    }\n",
       "\n",
       "    .dataframe tbody tr th {\n",
       "        vertical-align: top;\n",
       "    }\n",
       "\n",
       "    .dataframe thead th {\n",
       "        text-align: right;\n",
       "    }\n",
       "</style>\n",
       "<table border=\"1\" class=\"dataframe\">\n",
       "  <thead>\n",
       "    <tr style=\"text-align: right;\">\n",
       "      <th></th>\n",
       "      <th>tickets</th>\n",
       "      <th>eps</th>\n",
       "      <th>revenue</th>\n",
       "      <th>price</th>\n",
       "      <th>people</th>\n",
       "    </tr>\n",
       "  </thead>\n",
       "  <tbody>\n",
       "    <tr>\n",
       "      <th>0</th>\n",
       "      <td>GOOGL</td>\n",
       "      <td>27.82</td>\n",
       "      <td>87</td>\n",
       "      <td>845</td>\n",
       "      <td>larry page</td>\n",
       "    </tr>\n",
       "    <tr>\n",
       "      <th>1</th>\n",
       "      <td>WMT</td>\n",
       "      <td>4.61</td>\n",
       "      <td>484</td>\n",
       "      <td>65</td>\n",
       "      <td>n.a.</td>\n",
       "    </tr>\n",
       "    <tr>\n",
       "      <th>2</th>\n",
       "      <td>MSFT</td>\n",
       "      <td>-1</td>\n",
       "      <td>85</td>\n",
       "      <td>64</td>\n",
       "      <td>bill gates</td>\n",
       "    </tr>\n",
       "    <tr>\n",
       "      <th>3</th>\n",
       "      <td>RIL</td>\n",
       "      <td>not available</td>\n",
       "      <td>50</td>\n",
       "      <td>1023</td>\n",
       "      <td>mukesh ambani</td>\n",
       "    </tr>\n",
       "  </tbody>\n",
       "</table>\n",
       "</div>"
      ],
      "text/plain": [
       "  tickets            eps  revenue  price         people\n",
       "0   GOOGL          27.82       87    845     larry page\n",
       "1     WMT           4.61      484     65           n.a.\n",
       "2    MSFT             -1       85     64     bill gates\n",
       "3     RIL  not available       50   1023  mukesh ambani"
      ]
     },
     "execution_count": 6,
     "metadata": {},
     "output_type": "execute_result"
    }
   ],
   "source": [
    "df4 = pd.read_csv(filepath, nrows=4)\n",
    "df4"
   ]
  },
  {
   "cell_type": "markdown",
   "id": "273e110b-fb3b-471d-96e0-4ef510821955",
   "metadata": {},
   "source": [
    "## 05. Clean Up Messy Data from CSV using na_values() Method\n",
    "When working with CSV files, you may encounter missing or null values that can make your data messy and difficult to work with. In Pandas, you can use the na_values() method to clean up messy data by specifying which values should be treated as null values."
   ]
  },
  {
   "cell_type": "code",
   "execution_count": 7,
   "id": "bec42c20-ab6d-4013-be44-82d11c58b8e9",
   "metadata": {
    "tags": []
   },
   "outputs": [
    {
     "data": {
      "text/html": [
       "<div>\n",
       "<style scoped>\n",
       "    .dataframe tbody tr th:only-of-type {\n",
       "        vertical-align: middle;\n",
       "    }\n",
       "\n",
       "    .dataframe tbody tr th {\n",
       "        vertical-align: top;\n",
       "    }\n",
       "\n",
       "    .dataframe thead th {\n",
       "        text-align: right;\n",
       "    }\n",
       "</style>\n",
       "<table border=\"1\" class=\"dataframe\">\n",
       "  <thead>\n",
       "    <tr style=\"text-align: right;\">\n",
       "      <th></th>\n",
       "      <th>tickets</th>\n",
       "      <th>eps</th>\n",
       "      <th>revenue</th>\n",
       "      <th>price</th>\n",
       "      <th>people</th>\n",
       "    </tr>\n",
       "  </thead>\n",
       "  <tbody>\n",
       "    <tr>\n",
       "      <th>0</th>\n",
       "      <td>GOOGL</td>\n",
       "      <td>27.82</td>\n",
       "      <td>87</td>\n",
       "      <td>845.0</td>\n",
       "      <td>larry page</td>\n",
       "    </tr>\n",
       "    <tr>\n",
       "      <th>1</th>\n",
       "      <td>WMT</td>\n",
       "      <td>4.61</td>\n",
       "      <td>484</td>\n",
       "      <td>65.0</td>\n",
       "      <td>NaN</td>\n",
       "    </tr>\n",
       "    <tr>\n",
       "      <th>2</th>\n",
       "      <td>MSFT</td>\n",
       "      <td>-1.00</td>\n",
       "      <td>85</td>\n",
       "      <td>64.0</td>\n",
       "      <td>bill gates</td>\n",
       "    </tr>\n",
       "    <tr>\n",
       "      <th>3</th>\n",
       "      <td>RIL</td>\n",
       "      <td>NaN</td>\n",
       "      <td>50</td>\n",
       "      <td>1023.0</td>\n",
       "      <td>mukesh ambani</td>\n",
       "    </tr>\n",
       "    <tr>\n",
       "      <th>4</th>\n",
       "      <td>TATA</td>\n",
       "      <td>5.60</td>\n",
       "      <td>-1</td>\n",
       "      <td>NaN</td>\n",
       "      <td>ratan tata</td>\n",
       "    </tr>\n",
       "  </tbody>\n",
       "</table>\n",
       "</div>"
      ],
      "text/plain": [
       "  tickets    eps  revenue   price         people\n",
       "0   GOOGL  27.82       87   845.0     larry page\n",
       "1     WMT   4.61      484    65.0            NaN\n",
       "2    MSFT  -1.00       85    64.0     bill gates\n",
       "3     RIL    NaN       50  1023.0  mukesh ambani\n",
       "4    TATA   5.60       -1     NaN     ratan tata"
      ]
     },
     "execution_count": 7,
     "metadata": {},
     "output_type": "execute_result"
    }
   ],
   "source": [
    "df5 = pd.read_csv(filepath, na_values=[\"not available\", \"n.a.\"])\n",
    "df5"
   ]
  },
  {
   "cell_type": "markdown",
   "id": "d5dacc83-7e16-40d4-a8a2-bfeef4a9220e",
   "metadata": {},
   "source": [
    "In addition to using a list to specify which values should be treated as null values when reading a CSV file in Pandas, you can also use a dictionary to map specific null values to specific columns. This can be helpful when you need to treat different columns differently based on the null values they contain."
   ]
  },
  {
   "cell_type": "code",
   "execution_count": 8,
   "id": "74ebad21-21d0-4217-83b2-22fa87c759de",
   "metadata": {
    "tags": []
   },
   "outputs": [
    {
     "data": {
      "text/html": [
       "<div>\n",
       "<style scoped>\n",
       "    .dataframe tbody tr th:only-of-type {\n",
       "        vertical-align: middle;\n",
       "    }\n",
       "\n",
       "    .dataframe tbody tr th {\n",
       "        vertical-align: top;\n",
       "    }\n",
       "\n",
       "    .dataframe thead th {\n",
       "        text-align: right;\n",
       "    }\n",
       "</style>\n",
       "<table border=\"1\" class=\"dataframe\">\n",
       "  <thead>\n",
       "    <tr style=\"text-align: right;\">\n",
       "      <th></th>\n",
       "      <th>tickets</th>\n",
       "      <th>eps</th>\n",
       "      <th>revenue</th>\n",
       "      <th>price</th>\n",
       "      <th>people</th>\n",
       "    </tr>\n",
       "  </thead>\n",
       "  <tbody>\n",
       "    <tr>\n",
       "      <th>0</th>\n",
       "      <td>GOOGL</td>\n",
       "      <td>27.82</td>\n",
       "      <td>87.0</td>\n",
       "      <td>845.0</td>\n",
       "      <td>larry page</td>\n",
       "    </tr>\n",
       "    <tr>\n",
       "      <th>1</th>\n",
       "      <td>WMT</td>\n",
       "      <td>4.61</td>\n",
       "      <td>484.0</td>\n",
       "      <td>65.0</td>\n",
       "      <td>NaN</td>\n",
       "    </tr>\n",
       "    <tr>\n",
       "      <th>2</th>\n",
       "      <td>MSFT</td>\n",
       "      <td>-1.00</td>\n",
       "      <td>85.0</td>\n",
       "      <td>64.0</td>\n",
       "      <td>bill gates</td>\n",
       "    </tr>\n",
       "    <tr>\n",
       "      <th>3</th>\n",
       "      <td>RIL</td>\n",
       "      <td>NaN</td>\n",
       "      <td>50.0</td>\n",
       "      <td>1023.0</td>\n",
       "      <td>mukesh ambani</td>\n",
       "    </tr>\n",
       "    <tr>\n",
       "      <th>4</th>\n",
       "      <td>TATA</td>\n",
       "      <td>5.60</td>\n",
       "      <td>NaN</td>\n",
       "      <td>NaN</td>\n",
       "      <td>ratan tata</td>\n",
       "    </tr>\n",
       "  </tbody>\n",
       "</table>\n",
       "</div>"
      ],
      "text/plain": [
       "  tickets    eps  revenue   price         people\n",
       "0   GOOGL  27.82     87.0   845.0     larry page\n",
       "1     WMT   4.61    484.0    65.0            NaN\n",
       "2    MSFT  -1.00     85.0    64.0     bill gates\n",
       "3     RIL    NaN     50.0  1023.0  mukesh ambani\n",
       "4    TATA   5.60      NaN     NaN     ratan tata"
      ]
     },
     "execution_count": 8,
     "metadata": {},
     "output_type": "execute_result"
    }
   ],
   "source": [
    "df6 = pd.read_csv(filepath, na_values={\n",
    "    \"revenue\": [-1, \"n.a.\", \"not applicable\"],\n",
    "    \"eps\": [\"n.a.\", 'not available'],\n",
    "    \"people\": [\"n.a.\"],\n",
    "    \"price\": [\"n.a.\", \"not available\"]\n",
    "})\n",
    "df6"
   ]
  },
  {
   "cell_type": "markdown",
   "id": "8be3c427-13c3-41e7-929a-58617a977d19",
   "metadata": {},
   "source": [
    "## 06. Write DataFrame into CSV Using to_csv() Method\n",
    "Once you have cleaned up and processed your data in a Pandas DataFrame, you may want to save it to a CSV file for further analysis or sharing with others. You can easily do this using the to_csv() method in Pandas."
   ]
  },
  {
   "cell_type": "code",
   "execution_count": 9,
   "id": "bf1fd15b-0a25-4e80-934c-1f299dcfc3d3",
   "metadata": {
    "tags": []
   },
   "outputs": [],
   "source": [
    "df6.to_csv(\"new_stock_data.csv\")"
   ]
  },
  {
   "cell_type": "markdown",
   "id": "13fb9853-ce15-456b-9e2f-b258ef8a35fe",
   "metadata": {},
   "source": [
    "### 01. index Parameter\n",
    "In the above code, we use the to_csv() method to write the DataFrame to a CSV file called 'new_stock_data.csv'. We can pass index=False to exclude the DataFrame index from being written to the file."
   ]
  },
  {
   "cell_type": "code",
   "execution_count": 10,
   "id": "428ee4f3-1e02-4f54-af0a-5197ea8f215c",
   "metadata": {
    "tags": []
   },
   "outputs": [],
   "source": [
    "df6.to_csv(\"new_stock_data.csv\", index=False)"
   ]
  },
  {
   "cell_type": "markdown",
   "id": "bd569d3e-863c-435a-b7b4-0557aedc9565",
   "metadata": {},
   "source": [
    "### 02. columns Parameter\n",
    "The to_csv() method in Pandas allows you to customize the output of your DataFrame to a CSV file. One of the options you can specify is the columns parameter, which allows you to write only specific columns from your DataFrame to the CSV file."
   ]
  },
  {
   "cell_type": "code",
   "execution_count": 11,
   "id": "0ae803e5-a90d-43ab-8d98-cddaff0c67ca",
   "metadata": {
    "tags": []
   },
   "outputs": [
    {
     "data": {
      "text/plain": [
       "Index(['tickets', 'eps', 'revenue', 'price', 'people'], dtype='object')"
      ]
     },
     "execution_count": 11,
     "metadata": {},
     "output_type": "execute_result"
    }
   ],
   "source": [
    "df6.columns"
   ]
  },
  {
   "cell_type": "code",
   "execution_count": 12,
   "id": "7bd045bf-bb5f-479a-bc5b-fc1d2be3d784",
   "metadata": {
    "tags": []
   },
   "outputs": [],
   "source": [
    "df6.to_csv(\"new_stock_data.csv\", index=False, columns=[\"tickets\", \"eps\"])"
   ]
  },
  {
   "cell_type": "markdown",
   "id": "9154d603-7bc7-4a28-8219-e258b924ce96",
   "metadata": {},
   "source": [
    "### 03. header Parameter\n",
    "The header parameter allows you to include or exclude the column names as the first row in the CSV file."
   ]
  },
  {
   "cell_type": "code",
   "execution_count": 13,
   "id": "6227a9c3-0609-4720-aa33-86523b8da9e9",
   "metadata": {
    "tags": []
   },
   "outputs": [],
   "source": [
    "df6.to_csv(\"new_stock_data.csv\", index=False, header=False)"
   ]
  },
  {
   "cell_type": "markdown",
   "id": "b2015b2d-7a9e-4d84-aa87-3065d115d0fc",
   "metadata": {
    "tags": []
   },
   "source": [
    "## 07. Read Excel File Using read_excel() Method\n",
    "To read an excel file using Pandas, you can use the read_excel() function. This function takes the filename as an argument and returns a Pandas DataFrame object."
   ]
  },
  {
   "cell_type": "code",
   "execution_count": 14,
   "id": "071f23d8-e31f-47de-b56e-30a349f93656",
   "metadata": {
    "tags": []
   },
   "outputs": [
    {
     "data": {
      "text/html": [
       "<div>\n",
       "<style scoped>\n",
       "    .dataframe tbody tr th:only-of-type {\n",
       "        vertical-align: middle;\n",
       "    }\n",
       "\n",
       "    .dataframe tbody tr th {\n",
       "        vertical-align: top;\n",
       "    }\n",
       "\n",
       "    .dataframe thead th {\n",
       "        text-align: right;\n",
       "    }\n",
       "</style>\n",
       "<table border=\"1\" class=\"dataframe\">\n",
       "  <thead>\n",
       "    <tr style=\"text-align: right;\">\n",
       "      <th></th>\n",
       "      <th>tickets</th>\n",
       "      <th>eps</th>\n",
       "      <th>revenue</th>\n",
       "      <th>price</th>\n",
       "      <th>people</th>\n",
       "    </tr>\n",
       "  </thead>\n",
       "  <tbody>\n",
       "    <tr>\n",
       "      <th>0</th>\n",
       "      <td>GOOGL</td>\n",
       "      <td>27.82</td>\n",
       "      <td>87</td>\n",
       "      <td>845</td>\n",
       "      <td>larry page</td>\n",
       "    </tr>\n",
       "    <tr>\n",
       "      <th>1</th>\n",
       "      <td>WMT</td>\n",
       "      <td>4.61</td>\n",
       "      <td>484</td>\n",
       "      <td>65</td>\n",
       "      <td>n.a.</td>\n",
       "    </tr>\n",
       "    <tr>\n",
       "      <th>2</th>\n",
       "      <td>MSFT</td>\n",
       "      <td>-1</td>\n",
       "      <td>85</td>\n",
       "      <td>64</td>\n",
       "      <td>bill gates</td>\n",
       "    </tr>\n",
       "    <tr>\n",
       "      <th>3</th>\n",
       "      <td>RIL</td>\n",
       "      <td>not available</td>\n",
       "      <td>50</td>\n",
       "      <td>1023</td>\n",
       "      <td>mukesh ambani</td>\n",
       "    </tr>\n",
       "    <tr>\n",
       "      <th>4</th>\n",
       "      <td>TATA</td>\n",
       "      <td>5.6</td>\n",
       "      <td>-1</td>\n",
       "      <td>n.a.</td>\n",
       "      <td>ratan tata</td>\n",
       "    </tr>\n",
       "  </tbody>\n",
       "</table>\n",
       "</div>"
      ],
      "text/plain": [
       "  tickets            eps  revenue price         people\n",
       "0   GOOGL          27.82       87   845     larry page\n",
       "1     WMT           4.61      484    65           n.a.\n",
       "2    MSFT             -1       85    64     bill gates\n",
       "3     RIL  not available       50  1023  mukesh ambani\n",
       "4    TATA            5.6       -1  n.a.     ratan tata"
      ]
     },
     "execution_count": 14,
     "metadata": {},
     "output_type": "execute_result"
    }
   ],
   "source": [
    "filepath = \"D:\\Coding\\Git Repository\\Data-Science-Bootcamp-with-Python\\Datasets\\stock_data.xlsx\"\n",
    "df7 = pd.read_excel(filepath, sheet_name=\"stock_data\")\n",
    "df7"
   ]
  },
  {
   "cell_type": "markdown",
   "id": "676d5212-9a43-4be2-9055-71b4131af9c1",
   "metadata": {},
   "source": [
    "## 08. Converters Argument in read_excel()\n",
    "The read_excel() function in Pandas allows you to read data from an Excel file into a Pandas DataFrame. One of the arguments you can use to customize the import process is the converters parameter.\n",
    "\n",
    "The converters parameter is used to specify a dictionary of functions that should be applied to specific columns during the import process. The keys of the dictionary represent the column names or indices, and the values are the functions to apply to the corresponding columns.\n",
    "\n",
    "In this example, we define a custom function 'convert_people_cell()' that converts any 'n.a.' input to a string which is 'bill gates'. We then read an Excel file called data.xlsx using the read_excel() function and pass a dictionary to the converters parameter. The dictionary has one key-value pair, where the key is the name of the column to apply the function to (people), and the value is the function to apply (convert_people_cell)."
   ]
  },
  {
   "cell_type": "code",
   "execution_count": 15,
   "id": "7c917fdc-7e3b-446c-8f83-0dcaa1199f4e",
   "metadata": {
    "tags": []
   },
   "outputs": [],
   "source": [
    "def convert_people_cell(cell):\n",
    "    if cell == \"n.a.\":\n",
    "        return \"jeff bezos\"\n",
    "    else:\n",
    "        return cell"
   ]
  },
  {
   "cell_type": "code",
   "execution_count": 16,
   "id": "7ab3508b-4347-4e4b-a583-7894e580d643",
   "metadata": {
    "tags": []
   },
   "outputs": [
    {
     "data": {
      "text/html": [
       "<div>\n",
       "<style scoped>\n",
       "    .dataframe tbody tr th:only-of-type {\n",
       "        vertical-align: middle;\n",
       "    }\n",
       "\n",
       "    .dataframe tbody tr th {\n",
       "        vertical-align: top;\n",
       "    }\n",
       "\n",
       "    .dataframe thead th {\n",
       "        text-align: right;\n",
       "    }\n",
       "</style>\n",
       "<table border=\"1\" class=\"dataframe\">\n",
       "  <thead>\n",
       "    <tr style=\"text-align: right;\">\n",
       "      <th></th>\n",
       "      <th>tickets</th>\n",
       "      <th>eps</th>\n",
       "      <th>revenue</th>\n",
       "      <th>price</th>\n",
       "      <th>people</th>\n",
       "    </tr>\n",
       "  </thead>\n",
       "  <tbody>\n",
       "    <tr>\n",
       "      <th>0</th>\n",
       "      <td>GOOGL</td>\n",
       "      <td>27.82</td>\n",
       "      <td>87</td>\n",
       "      <td>845</td>\n",
       "      <td>larry page</td>\n",
       "    </tr>\n",
       "    <tr>\n",
       "      <th>1</th>\n",
       "      <td>WMT</td>\n",
       "      <td>4.61</td>\n",
       "      <td>484</td>\n",
       "      <td>65</td>\n",
       "      <td>jeff bezos</td>\n",
       "    </tr>\n",
       "    <tr>\n",
       "      <th>2</th>\n",
       "      <td>MSFT</td>\n",
       "      <td>-1</td>\n",
       "      <td>85</td>\n",
       "      <td>64</td>\n",
       "      <td>bill gates</td>\n",
       "    </tr>\n",
       "    <tr>\n",
       "      <th>3</th>\n",
       "      <td>RIL</td>\n",
       "      <td>not available</td>\n",
       "      <td>50</td>\n",
       "      <td>1023</td>\n",
       "      <td>mukesh ambani</td>\n",
       "    </tr>\n",
       "    <tr>\n",
       "      <th>4</th>\n",
       "      <td>TATA</td>\n",
       "      <td>5.6</td>\n",
       "      <td>-1</td>\n",
       "      <td>n.a.</td>\n",
       "      <td>ratan tata</td>\n",
       "    </tr>\n",
       "  </tbody>\n",
       "</table>\n",
       "</div>"
      ],
      "text/plain": [
       "  tickets            eps  revenue price         people\n",
       "0   GOOGL          27.82       87   845     larry page\n",
       "1     WMT           4.61      484    65     jeff bezos\n",
       "2    MSFT             -1       85    64     bill gates\n",
       "3     RIL  not available       50  1023  mukesh ambani\n",
       "4    TATA            5.6       -1  n.a.     ratan tata"
      ]
     },
     "execution_count": 16,
     "metadata": {},
     "output_type": "execute_result"
    }
   ],
   "source": [
    "df8 = pd.read_excel(filepath, converters={\n",
    "    \"people\": convert_people_cell\n",
    "})\n",
    "df8"
   ]
  },
  {
   "cell_type": "code",
   "execution_count": 17,
   "id": "de57dbfe-2dd2-4601-bdf1-ecc559887f03",
   "metadata": {
    "tags": []
   },
   "outputs": [],
   "source": [
    "def convert_eps_cell(cell):\n",
    "    if cell == \"not available\":\n",
    "        return None\n",
    "    else:\n",
    "        return cell"
   ]
  },
  {
   "cell_type": "code",
   "execution_count": 18,
   "id": "9a35c309-5664-4a4f-a327-d795613f9fff",
   "metadata": {
    "tags": []
   },
   "outputs": [
    {
     "data": {
      "text/html": [
       "<div>\n",
       "<style scoped>\n",
       "    .dataframe tbody tr th:only-of-type {\n",
       "        vertical-align: middle;\n",
       "    }\n",
       "\n",
       "    .dataframe tbody tr th {\n",
       "        vertical-align: top;\n",
       "    }\n",
       "\n",
       "    .dataframe thead th {\n",
       "        text-align: right;\n",
       "    }\n",
       "</style>\n",
       "<table border=\"1\" class=\"dataframe\">\n",
       "  <thead>\n",
       "    <tr style=\"text-align: right;\">\n",
       "      <th></th>\n",
       "      <th>tickets</th>\n",
       "      <th>eps</th>\n",
       "      <th>revenue</th>\n",
       "      <th>price</th>\n",
       "      <th>people</th>\n",
       "    </tr>\n",
       "  </thead>\n",
       "  <tbody>\n",
       "    <tr>\n",
       "      <th>0</th>\n",
       "      <td>GOOGL</td>\n",
       "      <td>27.82</td>\n",
       "      <td>87</td>\n",
       "      <td>845</td>\n",
       "      <td>larry page</td>\n",
       "    </tr>\n",
       "    <tr>\n",
       "      <th>1</th>\n",
       "      <td>WMT</td>\n",
       "      <td>4.61</td>\n",
       "      <td>484</td>\n",
       "      <td>65</td>\n",
       "      <td>jeff bezos</td>\n",
       "    </tr>\n",
       "    <tr>\n",
       "      <th>2</th>\n",
       "      <td>MSFT</td>\n",
       "      <td>-1.00</td>\n",
       "      <td>85</td>\n",
       "      <td>64</td>\n",
       "      <td>bill gates</td>\n",
       "    </tr>\n",
       "    <tr>\n",
       "      <th>3</th>\n",
       "      <td>RIL</td>\n",
       "      <td>NaN</td>\n",
       "      <td>50</td>\n",
       "      <td>1023</td>\n",
       "      <td>mukesh ambani</td>\n",
       "    </tr>\n",
       "    <tr>\n",
       "      <th>4</th>\n",
       "      <td>TATA</td>\n",
       "      <td>5.60</td>\n",
       "      <td>-1</td>\n",
       "      <td>n.a.</td>\n",
       "      <td>ratan tata</td>\n",
       "    </tr>\n",
       "  </tbody>\n",
       "</table>\n",
       "</div>"
      ],
      "text/plain": [
       "  tickets    eps  revenue price         people\n",
       "0   GOOGL  27.82       87   845     larry page\n",
       "1     WMT   4.61      484    65     jeff bezos\n",
       "2    MSFT  -1.00       85    64     bill gates\n",
       "3     RIL    NaN       50  1023  mukesh ambani\n",
       "4    TATA   5.60       -1  n.a.     ratan tata"
      ]
     },
     "execution_count": 18,
     "metadata": {},
     "output_type": "execute_result"
    }
   ],
   "source": [
    "df9 = pd.read_excel(filepath, converters={\n",
    "    \"eps\": convert_eps_cell,\n",
    "    \"people\": convert_people_cell\n",
    "})\n",
    "df9"
   ]
  },
  {
   "cell_type": "markdown",
   "id": "3c9edec3-0b0d-4973-91fd-475b0f102ead",
   "metadata": {},
   "source": [
    "## 09. Write DataFrame into 'excel' File using to_excel() Method\n",
    "To write a Pandas DataFrame to an Excel file, you can use the to_excel() method."
   ]
  },
  {
   "cell_type": "code",
   "execution_count": 19,
   "id": "8cf64050-59c2-41e6-b1af-ade628afd85b",
   "metadata": {
    "tags": []
   },
   "outputs": [],
   "source": [
    "df9.to_excel(\"new_stocks.xlsx\", sheet_name=\"Stocks\")"
   ]
  },
  {
   "cell_type": "markdown",
   "id": "d8a89b4d-1644-4cd9-b976-4cc24535d45a",
   "metadata": {},
   "source": [
    "### 01. index Parameter\n",
    "The to_excel() method in Pandas allows you to write a DataFrame to an Excel file with various options to customize the output. One of these options is the index parameter, which controls whether or not to include the DataFrame's index in the Excel file."
   ]
  },
  {
   "cell_type": "code",
   "execution_count": 20,
   "id": "890ddf00-faa9-4725-8022-d5b811de9d49",
   "metadata": {
    "tags": []
   },
   "outputs": [],
   "source": [
    "df9.to_excel(\"new_stocks.xlsx\", sheet_name=\"Stocks\", index=False)"
   ]
  },
  {
   "cell_type": "markdown",
   "id": "adf4aa20-0ac2-4ec0-97da-9b14343c6053",
   "metadata": {},
   "source": [
    "### 02. startrow and startcol Parameter\n",
    "The startrow and startcol parameters in the to_excel() method of Pandas allow you to specify the starting row and column for writing data to an Excel file."
   ]
  },
  {
   "cell_type": "code",
   "execution_count": 21,
   "id": "67d992c3-bcbd-4895-9cc4-243939f8681c",
   "metadata": {
    "tags": []
   },
   "outputs": [],
   "source": [
    "df9.to_excel(\"new_stocks.xlsx\", sheet_name=\"Stocks\", index=False, startrow=1, startcol=1)"
   ]
  },
  {
   "cell_type": "markdown",
   "id": "ff050d0b-9973-4f7d-bf64-46f2bc3d082f",
   "metadata": {},
   "source": [
    "## 10. Use ExcelWritter() Class\n",
    "The ExcelWriter class in Pandas is a powerful tool for writing data frames to one or more sheets in an Excel file. This class provides a lot of flexibility and options for formatting the output, such as specifying the sheet name, adding headers and footers, setting column widths and row heights, and so on."
   ]
  },
  {
   "cell_type": "code",
   "execution_count": 22,
   "id": "3a431236-42da-4aa3-9ef2-bfb11723a483",
   "metadata": {
    "tags": []
   },
   "outputs": [],
   "source": [
    "# Creating two separate dataframe\n",
    "df_stocs = pd.DataFrame({\n",
    "    \"tickets\": [\"GOOGLE\", \"WMT\", \"MSFT\"],\n",
    "    \"price\": [845, 65, 64],\n",
    "    \"Pe\": [30.37, 14.26, 30.97],\n",
    "    \"eps\": [27.82, 4.61, 2.12]\n",
    "})\n",
    "\n",
    "df_weather = pd.DataFrame({\n",
    "    \"day\": [\"1/1/2020\", \"1/2/2020\", \"1/3/2020\"],\n",
    "    \"temperature\": [32, 35, 28],\n",
    "    \"event\": [\"Rain\", \"Sunny\", \"Snow\"]\n",
    "})"
   ]
  },
  {
   "cell_type": "code",
   "execution_count": 23,
   "id": "03728d19-55c9-416a-8028-2695fc5e4829",
   "metadata": {
    "tags": []
   },
   "outputs": [],
   "source": [
    "with pd.ExcelWriter(\"stocks_and_weather.xlsx\") as writer:\n",
    "    df_stocs.to_excel(writer, sheet_name=\"Stock\", index=False)\n",
    "    df_weather.to_excel(writer, sheet_name=\"Weather\", index=False)"
   ]
  }
 ],
 "metadata": {
  "kernelspec": {
   "display_name": "Python 3 (ipykernel)",
   "language": "python",
   "name": "python3"
  },
  "language_info": {
   "codemirror_mode": {
    "name": "ipython",
    "version": 3
   },
   "file_extension": ".py",
   "mimetype": "text/x-python",
   "name": "python",
   "nbconvert_exporter": "python",
   "pygments_lexer": "ipython3",
   "version": "3.9.16"
  }
 },
 "nbformat": 4,
 "nbformat_minor": 5
}
