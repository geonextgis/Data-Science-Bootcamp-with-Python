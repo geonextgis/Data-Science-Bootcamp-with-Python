{
 "cells": [
  {
   "cell_type": "markdown",
   "id": "cd6ec172-7356-4e71-a3bf-25eeaa2383e9",
   "metadata": {},
   "source": [
    "# Introduction to Pandas\n",
    "Pandas is a Python library that provides powerful data manipulation capabilities. It is built on top of NumPy and provides easy-to-use data structures and data analysis tools for data processing and analysis.\n",
    "\n",
    "In this module, we will cover the basics of using Pandas for data analysis. We will start with an introduction to the Pandas library and then move on to topics such as data structures, data cleaning, data visualization, and statistical analysis.\n",
    "\n",
    "**Prerequisites:** Before starting with Pandas, you should have a basic understanding of Python programming and NumPy. If you are new to Python, we recommend taking an introductory Python course before starting with this course."
   ]
  },
  {
   "cell_type": "markdown",
   "id": "7d20a178-7714-4113-9ca9-0dc59bc86531",
   "metadata": {
    "tags": []
   },
   "source": [
    "<center><img src=\"https://upload.wikimedia.org/wikipedia/commons/thumb/e/ed/Pandas_logo.svg/2560px-Pandas_logo.svg.png\" style= \"max-width: 350px; height: auto\"></center>"
   ]
  },
  {
   "cell_type": "markdown",
   "id": "86fdeac6-6000-44f5-9eee-0ae2e17a3f2c",
   "metadata": {
    "tags": []
   },
   "source": [
    "## 01. Installation and Importing\n",
    "To install Pandas, use the pip package manager in the terminal by typing the following command:"
   ]
  },
  {
   "cell_type": "code",
   "execution_count": 1,
   "id": "202ad72d-2fc7-48dc-9696-fe78d347102d",
   "metadata": {
    "tags": []
   },
   "outputs": [],
   "source": [
    "# !pip install pandas"
   ]
  },
  {
   "cell_type": "code",
   "execution_count": 2,
   "id": "bf83ee07-7ec2-44ff-854c-35c1dc834a74",
   "metadata": {
    "tags": []
   },
   "outputs": [],
   "source": [
    "import pandas as pd"
   ]
  },
  {
   "cell_type": "markdown",
   "id": "37dc81cf-67ac-4912-9a6a-c0d815007d1b",
   "metadata": {},
   "source": [
    "## 02. Import a CSV Data"
   ]
  },
  {
   "cell_type": "code",
   "execution_count": 3,
   "id": "a32421d6-2f47-4d33-811f-afb97fdeba01",
   "metadata": {
    "tags": []
   },
   "outputs": [],
   "source": [
    "# Creating a dataframe\n",
    "path = \"D:\\Coding\\Git Repository\\Data-Science-Bootcamp-with-Python\\Datasets\\significant_earthquakes_2000_2020.csv\"\n",
    "df = pd.read_csv(path)"
   ]
  },
  {
   "cell_type": "markdown",
   "id": "3c4e1901-5ab3-42a5-854f-9336bbcbc113",
   "metadata": {},
   "source": [
    "## 03. Basic Operations"
   ]
  },
  {
   "cell_type": "code",
   "execution_count": 4,
   "id": "b92a020a-2728-4910-8075-9ca81801cfc2",
   "metadata": {
    "tags": []
   },
   "outputs": [
    {
     "data": {
      "text/html": [
       "<div>\n",
       "<style scoped>\n",
       "    .dataframe tbody tr th:only-of-type {\n",
       "        vertical-align: middle;\n",
       "    }\n",
       "\n",
       "    .dataframe tbody tr th {\n",
       "        vertical-align: top;\n",
       "    }\n",
       "\n",
       "    .dataframe thead th {\n",
       "        text-align: right;\n",
       "    }\n",
       "</style>\n",
       "<table border=\"1\" class=\"dataframe\">\n",
       "  <thead>\n",
       "    <tr style=\"text-align: right;\">\n",
       "      <th></th>\n",
       "      <th>Year</th>\n",
       "      <th>Mo</th>\n",
       "      <th>Dy</th>\n",
       "      <th>Location Name</th>\n",
       "      <th>Latitude</th>\n",
       "      <th>Longitude</th>\n",
       "      <th>Focal Depth (km)</th>\n",
       "      <th>Mag</th>\n",
       "      <th>Total Deaths</th>\n",
       "    </tr>\n",
       "  </thead>\n",
       "  <tbody>\n",
       "    <tr>\n",
       "      <th>0</th>\n",
       "      <td>2000</td>\n",
       "      <td>1</td>\n",
       "      <td>3</td>\n",
       "      <td>INDIA-BANGLADESH BORDER:  MAHESHKHALI</td>\n",
       "      <td>22.132</td>\n",
       "      <td>92.771</td>\n",
       "      <td>33.0</td>\n",
       "      <td>4.6</td>\n",
       "      <td>NaN</td>\n",
       "    </tr>\n",
       "    <tr>\n",
       "      <th>1</th>\n",
       "      <td>2000</td>\n",
       "      <td>1</td>\n",
       "      <td>11</td>\n",
       "      <td>CHINA:  LIAONING PROVINCE</td>\n",
       "      <td>40.498</td>\n",
       "      <td>122.994</td>\n",
       "      <td>10.0</td>\n",
       "      <td>5.1</td>\n",
       "      <td>NaN</td>\n",
       "    </tr>\n",
       "    <tr>\n",
       "      <th>2</th>\n",
       "      <td>2000</td>\n",
       "      <td>1</td>\n",
       "      <td>14</td>\n",
       "      <td>CHINA:  YUNNAN PROVINCE:  YAOAN COUNTY</td>\n",
       "      <td>25.607</td>\n",
       "      <td>101.063</td>\n",
       "      <td>33.0</td>\n",
       "      <td>5.9</td>\n",
       "      <td>7.0</td>\n",
       "    </tr>\n",
       "    <tr>\n",
       "      <th>3</th>\n",
       "      <td>2000</td>\n",
       "      <td>2</td>\n",
       "      <td>2</td>\n",
       "      <td>IRAN:  BARDASKAN, KASHMAR</td>\n",
       "      <td>35.288</td>\n",
       "      <td>58.218</td>\n",
       "      <td>33.0</td>\n",
       "      <td>5.3</td>\n",
       "      <td>1.0</td>\n",
       "    </tr>\n",
       "    <tr>\n",
       "      <th>4</th>\n",
       "      <td>2000</td>\n",
       "      <td>2</td>\n",
       "      <td>7</td>\n",
       "      <td>SOUTH AFRICA; SWAZILAND:  MBABANE-MANZINI</td>\n",
       "      <td>-26.288</td>\n",
       "      <td>30.888</td>\n",
       "      <td>5.0</td>\n",
       "      <td>4.5</td>\n",
       "      <td>NaN</td>\n",
       "    </tr>\n",
       "  </tbody>\n",
       "</table>\n",
       "</div>"
      ],
      "text/plain": [
       "   Year  Mo  Dy                              Location Name  Latitude  \\\n",
       "0  2000   1   3      INDIA-BANGLADESH BORDER:  MAHESHKHALI    22.132   \n",
       "1  2000   1  11                  CHINA:  LIAONING PROVINCE    40.498   \n",
       "2  2000   1  14     CHINA:  YUNNAN PROVINCE:  YAOAN COUNTY    25.607   \n",
       "3  2000   2   2                  IRAN:  BARDASKAN, KASHMAR    35.288   \n",
       "4  2000   2   7  SOUTH AFRICA; SWAZILAND:  MBABANE-MANZINI   -26.288   \n",
       "\n",
       "   Longitude  Focal Depth (km)  Mag  Total Deaths  \n",
       "0     92.771              33.0  4.6           NaN  \n",
       "1    122.994              10.0  5.1           NaN  \n",
       "2    101.063              33.0  5.9           7.0  \n",
       "3     58.218              33.0  5.3           1.0  \n",
       "4     30.888               5.0  4.5           NaN  "
      ]
     },
     "execution_count": 4,
     "metadata": {},
     "output_type": "execute_result"
    }
   ],
   "source": [
    "# Print the first five row of csv\n",
    "df.head()"
   ]
  },
  {
   "cell_type": "code",
   "execution_count": 5,
   "id": "1a5d54e9-348d-417a-8420-86d264d50e70",
   "metadata": {
    "tags": []
   },
   "outputs": [
    {
     "data": {
      "text/plain": [
       "(1206, 9)"
      ]
     },
     "execution_count": 5,
     "metadata": {},
     "output_type": "execute_result"
    }
   ],
   "source": [
    "# Print the shape of the csv\n",
    "df.shape"
   ]
  },
  {
   "cell_type": "code",
   "execution_count": 6,
   "id": "e6b31f46-11e2-400a-b37a-c3047495017d",
   "metadata": {
    "tags": []
   },
   "outputs": [],
   "source": [
    "# Fill th NaN values with 0\n",
    "df.fillna(0, inplace=True)"
   ]
  },
  {
   "cell_type": "code",
   "execution_count": 7,
   "id": "a10d669d-e8c9-4192-a036-a4a824e620b0",
   "metadata": {
    "tags": []
   },
   "outputs": [
    {
     "data": {
      "text/plain": [
       "9.1"
      ]
     },
     "execution_count": 7,
     "metadata": {},
     "output_type": "execute_result"
    }
   ],
   "source": [
    "# Print the maximum earthquake magnitude\n",
    "df[\"Mag\"].max()"
   ]
  },
  {
   "cell_type": "code",
   "execution_count": 8,
   "id": "286cf573-2349-46d3-9e6c-79d88a073937",
   "metadata": {
    "tags": []
   },
   "outputs": [
    {
     "data": {
      "text/plain": [
       "272         INDONESIA:  SUMATRA:  ACEH:  OFF WEST COAST\n",
       "320    PAKISTAN:  MUZAFFARABAD, URI, ANANTNAG, BARAMULA\n",
       "490                            CHINA:  SICHUAN PROVINCE\n",
       "607                              HAITI:  PORT-AU-PRINCE\n",
       "Name: Location Name, dtype: object"
      ]
     },
     "execution_count": 8,
     "metadata": {},
     "output_type": "execute_result"
    }
   ],
   "source": [
    "# Print the Location Name of the earthquakes where total deaths were greater than 50000\n",
    "df[\"Location Name\"][df[\"Total Deaths\"] > 50000]"
   ]
  },
  {
   "cell_type": "code",
   "execution_count": 9,
   "id": "75ce0741-8756-4b91-83eb-977a359a6a73",
   "metadata": {
    "tags": []
   },
   "outputs": [
    {
     "data": {
      "text/plain": [
       "272    INDONESIA:  SUMATRA:  ACEH:  OFF WEST COAST\n",
       "294                      INDONESIA:  SUMATERA:  SW\n",
       "614          CHILE:  MAULE, CONCEPCION, TALCAHUANO\n",
       "674                                 JAPAN:  HONSHU\n",
       "736         INDONESIA:  N SUMATRA:  OFF WEST COAST\n",
       "Name: Location Name, dtype: object"
      ]
     },
     "execution_count": 9,
     "metadata": {},
     "output_type": "execute_result"
    }
   ],
   "source": [
    "# Print the Location Name where the magnitude of the earthquake crossed 8.5 \n",
    "df[\"Location Name\"][df[\"Mag\"] >= 8.5]"
   ]
  },
  {
   "cell_type": "code",
   "execution_count": 10,
   "id": "9fcaa7cc-28ec-401d-9651-810e99b7c96d",
   "metadata": {
    "tags": []
   },
   "outputs": [
    {
     "data": {
      "text/plain": [
       "30.892205638474294"
      ]
     },
     "execution_count": 10,
     "metadata": {},
     "output_type": "execute_result"
    }
   ],
   "source": [
    "# Print the average focal depth (km) of the earthquakes\n",
    "df[\"Focal Depth (km)\"].mean()"
   ]
  }
 ],
 "metadata": {
  "kernelspec": {
   "display_name": "Python 3 (ipykernel)",
   "language": "python",
   "name": "python3"
  },
  "language_info": {
   "codemirror_mode": {
    "name": "ipython",
    "version": 3
   },
   "file_extension": ".py",
   "mimetype": "text/x-python",
   "name": "python",
   "nbconvert_exporter": "python",
   "pygments_lexer": "ipython3",
   "version": "3.9.16"
  }
 },
 "nbformat": 4,
 "nbformat_minor": 5
}
