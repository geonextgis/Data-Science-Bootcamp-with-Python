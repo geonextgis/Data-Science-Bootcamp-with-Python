{
 "cells": [
  {
   "cell_type": "markdown",
   "id": "7e96d50b-6ad8-4eb4-947a-848a497f7c95",
   "metadata": {},
   "source": [
    "# Introduction to Matplotlib\n",
    "Matplotlib is a widely used Python library for data visualization. It provides a variety of functions for creating different types of graphs and charts. Matplotlib can be used to create simple line plots, scatter plots, histograms, bar charts, 3D plots, and more. In this module, we will cover the basics of Matplotlib and how to use it for data visualization.\n",
    "\n",
    "**Prerequisites:**\n",
    "* Basic understanding of Python\n",
    "* Familiarity with NumPy library is recommended but not required."
   ]
  },
  {
   "cell_type": "markdown",
   "id": "747f2f90-eb57-4577-b5dd-1778af666ec2",
   "metadata": {},
   "source": [
    "<center><img src=\"https://matplotlib.org/_static/logo_dark.svg\" style= \"max-width: 350px; height: auto\"></center>"
   ]
  },
  {
   "cell_type": "markdown",
   "id": "720be59e-2e3d-47ad-8e2b-e019cea653e7",
   "metadata": {},
   "source": [
    "## 01. Installation and Importing\n",
    "To install Matplotlib, use the pip package manager in the terminal by typing the following command:"
   ]
  },
  {
   "cell_type": "code",
   "execution_count": 1,
   "id": "02e7b294-7c4a-43b9-a67e-135e455d5fa1",
   "metadata": {
    "tags": []
   },
   "outputs": [],
   "source": [
    "# !pip install matplotlib"
   ]
  },
  {
   "cell_type": "code",
   "execution_count": null,
   "id": "b27be2ce-0309-46fc-8f7b-132390092c38",
   "metadata": {
    "tags": []
   },
   "outputs": [],
   "source": [
    "import matplotlib.pyplot as plt\n",
    "%matplotlib inline"
   ]
  },
  {
   "cell_type": "markdown",
   "id": "22b2a0d1-a514-482b-9b1c-fee944eeeaac",
   "metadata": {},
   "source": [
    "## 02. Plotting Simple Data\n",
    "Let's start by creating a simple line plot."
   ]
  },
  {
   "cell_type": "code",
   "execution_count": null,
   "id": "8eeba837-77cf-4258-ba23-557710a4968c",
   "metadata": {
    "tags": []
   },
   "outputs": [],
   "source": [
    "# Creating two variable\n",
    "x = [1, 2, 3, 4, 5, 6, 7]\n",
    "y = [40, 38, 43, 45, 42, 40, 39]"
   ]
  },
  {
   "cell_type": "code",
   "execution_count": null,
   "id": "b8ed4a04-2d5c-4f21-b5f8-caa5b5686db4",
   "metadata": {
    "tags": []
   },
   "outputs": [],
   "source": [
    "plt.plot(x, y)"
   ]
  },
  {
   "cell_type": "markdown",
   "id": "44274280-0cf2-46f2-809d-c19064d99ded",
   "metadata": {},
   "source": [
    "## 03. API for Plot\n",
    "In Matplotlib, you can customize the appearance of lines in a plot using the color, linewidth, and linestyle arguments in the plot() function.\n",
    "\n",
    "* The color argument sets the color of the line. It can be specified using a string such as \"red\" or \"blue\", a hex code such as \"#FF5733\", or an RGB tuple such as (0.5, 0.5, 0.5).\n",
    "\n",
    "* The linewidth argument sets the width of the line. It can be specified using a floating-point number.\n",
    "\n",
    "* The linestyle argument sets the style of the line. It can be specified using a string such as \"solid\", \"dashed\", or \"dotted\", or a combination of those using a \":\" for dots and a \"--\" for dashes."
   ]
  },
  {
   "cell_type": "code",
   "execution_count": null,
   "id": "bbe8bb28-13de-4e81-962d-d2858a055860",
   "metadata": {
    "tags": []
   },
   "outputs": [],
   "source": [
    "# Creating a new plot\n",
    "plt.plot(x, y, color=\"red\", linewidth=4, linestyle=\"dotted\")"
   ]
  },
  {
   "cell_type": "markdown",
   "id": "ce7990ee-b59f-40d5-9762-45f345315f6f",
   "metadata": {},
   "source": [
    "## 04. Adding Title and Labels to the Chart\n",
    "In Matplotlib, you can add titles and labels to your plot to provide context and improve its readability.\n",
    "\n",
    "* To add a title to your plot, you can use the title() method of the axes object. This method takes a string argument that specifies the title of the plot.\n",
    "\n",
    "* To add labels to the x-axis and y-axis, you can use the xlabel() and ylabel() methods of the axes object, respectively. These methods take a string argument that specifies the label of the axis. "
   ]
  },
  {
   "cell_type": "code",
   "execution_count": null,
   "id": "2a625a69-f3fd-48a9-9a73-6790aba4af33",
   "metadata": {
    "tags": []
   },
   "outputs": [],
   "source": [
    "# Creating another plot\n",
    "plt.plot(x, y, color=\"green\", linewidth=4, linestyle=\"dashed\")\n",
    "plt.title(\"Weather\")\n",
    "plt.xlabel(\"Day\")\n",
    "plt.ylabel(\"Temperature\")"
   ]
  }
 ],
 "metadata": {
  "kernelspec": {
   "display_name": "Python 3 (ipykernel)",
   "language": "python",
   "name": "python3"
  },
  "language_info": {
   "codemirror_mode": {
    "name": "ipython",
    "version": 3
   },
   "file_extension": ".py",
   "mimetype": "text/x-python",
   "name": "python",
   "nbconvert_exporter": "python",
   "pygments_lexer": "ipython3",
   "version": "3.9.16"
  }
 },
 "nbformat": 4,
 "nbformat_minor": 5
}
