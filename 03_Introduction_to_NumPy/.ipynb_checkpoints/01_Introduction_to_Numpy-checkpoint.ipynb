{
 "cells": [
  {
   "cell_type": "markdown",
   "id": "56d3971b-d327-4738-8333-4599e3ee84ec",
   "metadata": {},
   "source": [
    "# Introduction to NumPy "
   ]
  },
  {
   "cell_type": "markdown",
   "id": "aa75cfc7-5ab6-4740-ab33-64c6d6c87502",
   "metadata": {
    "tags": []
   },
   "source": [
    "NumPy is a library for the Python programming language that provides support for arrays, matrices, and other numerical operations. It is an essential library for scientific computing in Python. In this module, you will learn about the basics of NumPy and how to use it for numerical computations.\n",
    "\n",
    "**Prerequisites:**\n",
    "Before starting with NumPy, it is recommended to have a basic understanding of Python programming language, especially control statements, functions, and data types."
   ]
  },
  {
   "cell_type": "markdown",
   "id": "25cabde1-4a03-4e74-9cff-ed45f051fc39",
   "metadata": {},
   "source": [
    "<center><img src=\"https://upload.wikimedia.org/wikipedia/commons/thumb/3/31/NumPy_logo_2020.svg/1280px-NumPy_logo_2020.svg.png\" style = \"max-width: 350px; height: auto\"></center>"
   ]
  },
  {
   "cell_type": "markdown",
   "id": "251e4740-da48-4cfc-8783-2f439a50baa0",
   "metadata": {},
   "source": [
    "## 01. Installation and Importing\n",
    "To install NumPy, use the pip package manager in the terminal by typing the following command:"
   ]
  },
  {
   "cell_type": "code",
   "execution_count": 1,
   "id": "85e6c93c-1094-498d-812c-bdf20ad70dc4",
   "metadata": {
    "tags": []
   },
   "outputs": [],
   "source": [
    "# !pip install numpy"
   ]
  },
  {
   "cell_type": "code",
   "execution_count": 2,
   "id": "e9a3b0c5-e54d-49b7-9f18-3eca5e7e4cba",
   "metadata": {
    "tags": []
   },
   "outputs": [],
   "source": [
    "import numpy as np"
   ]
  },
  {
   "cell_type": "markdown",
   "id": "44034301-2732-4d6a-907b-a21580050c5f",
   "metadata": {},
   "source": [
    "## 02. Creation of One-Dimensional Arrays\n",
    "In NumPy, you can create a one-dimensional array using the numpy.array() method."
   ]
  },
  {
   "cell_type": "code",
   "execution_count": 3,
   "id": "004f41b6-c7c6-4ae0-be15-cd1b5c8739ce",
   "metadata": {
    "tags": []
   },
   "outputs": [
    {
     "data": {
      "text/plain": [
       "array([1, 2, 3, 4, 5], dtype=int8)"
      ]
     },
     "execution_count": 3,
     "metadata": {},
     "output_type": "execute_result"
    }
   ],
   "source": [
    "myArr = np.array([1, 2, 3, 4, 5], dtype=\"int8\")\n",
    "myArr"
   ]
  },
  {
   "cell_type": "code",
   "execution_count": 4,
   "id": "4856cb33-0f04-4979-a182-05b229d2dc8b",
   "metadata": {
    "tags": []
   },
   "outputs": [
    {
     "name": "stdout",
     "output_type": "stream",
     "text": [
      "1 4\n"
     ]
    }
   ],
   "source": [
    "# Accessing elements of an one-dimensional array\n",
    "print(myArr[0], myArr[3])"
   ]
  },
  {
   "cell_type": "code",
   "execution_count": 5,
   "id": "4d5682d2-042f-4227-9af3-d61fe429090f",
   "metadata": {
    "tags": []
   },
   "outputs": [
    {
     "data": {
      "text/plain": [
       "dtype('int8')"
      ]
     },
     "execution_count": 5,
     "metadata": {},
     "output_type": "execute_result"
    }
   ],
   "source": [
    "# Print the data type\n",
    "myArr.dtype"
   ]
  },
  {
   "cell_type": "markdown",
   "id": "d8c0c9e6-9ad7-4957-9c71-d33d9e40d892",
   "metadata": {},
   "source": [
    "## 03. Creation of Two-Dimensional Arrays\n",
    "In NumPy, you can create a two-dimensional array using the numpy.array() method and passing a list of lists as an argument."
   ]
  },
  {
   "cell_type": "code",
   "execution_count": 6,
   "id": "968b1707-4f8e-4df3-9fd1-c76a1aa944cd",
   "metadata": {
    "tags": []
   },
   "outputs": [
    {
     "data": {
      "text/plain": [
       "array([[1, 2, 3],\n",
       "       [4, 5, 6],\n",
       "       [7, 8, 9]], dtype=int8)"
      ]
     },
     "execution_count": 6,
     "metadata": {},
     "output_type": "execute_result"
    }
   ],
   "source": [
    "myArr2 = np.array([[1, 2, 3], [4, 5, 6], [7, 8, 9]], dtype=\"int8\")\n",
    "myArr2"
   ]
  },
  {
   "cell_type": "code",
   "execution_count": 7,
   "id": "03c41699-7bc5-4914-8c6c-dccdf4b77752",
   "metadata": {
    "tags": []
   },
   "outputs": [
    {
     "name": "stdout",
     "output_type": "stream",
     "text": [
      "[1 2 3]\n",
      "7\n",
      "3\n"
     ]
    }
   ],
   "source": [
    "# Accessing elements of two-dimensional array\n",
    "print(myArr2[0])\n",
    "print(myArr2[2][0])\n",
    "print(myArr2[0, 2])"
   ]
  },
  {
   "cell_type": "code",
   "execution_count": 8,
   "id": "7bc0a3c2-6040-4ad9-9757-2f47d7fdedf1",
   "metadata": {
    "tags": []
   },
   "outputs": [
    {
     "data": {
      "text/plain": [
       "dtype('int8')"
      ]
     },
     "execution_count": 8,
     "metadata": {},
     "output_type": "execute_result"
    }
   ],
   "source": [
    "# Print the data type\n",
    "myArr2.dtype"
   ]
  },
  {
   "cell_type": "code",
   "execution_count": 9,
   "id": "a873afa9-74a4-4620-8e61-467a968551eb",
   "metadata": {
    "tags": []
   },
   "outputs": [
    {
     "data": {
      "text/plain": [
       "(3, 3)"
      ]
     },
     "execution_count": 9,
     "metadata": {},
     "output_type": "execute_result"
    }
   ],
   "source": [
    "# Print the shape of the array\n",
    "myArr2.shape"
   ]
  },
  {
   "cell_type": "code",
   "execution_count": 10,
   "id": "86b4ab57-28c4-4475-9b02-35851417ce6d",
   "metadata": {
    "tags": []
   },
   "outputs": [
    {
     "data": {
      "text/plain": [
       "array([[ 1,  2, 10],\n",
       "       [ 4,  5,  6],\n",
       "       [ 7,  8,  9]], dtype=int8)"
      ]
     },
     "execution_count": 10,
     "metadata": {},
     "output_type": "execute_result"
    }
   ],
   "source": [
    "# Changing the element of a two-dimensional array\n",
    "myArr2[0, 2] = 10\n",
    "myArr2"
   ]
  },
  {
   "cell_type": "markdown",
   "id": "6c3157c9-9eac-4f98-9a5d-b44b844d711e",
   "metadata": {},
   "source": [
    "## 04. Other Ways of Array Creation"
   ]
  },
  {
   "cell_type": "markdown",
   "id": "6021f63c-dafb-4bda-9f78-ebaceda4d1a2",
   "metadata": {},
   "source": [
    "### 01. Array Creation from Other Python Structures"
   ]
  },
  {
   "cell_type": "code",
   "execution_count": 11,
   "id": "587c1832-7694-481d-b902-3dd7acc7421b",
   "metadata": {
    "tags": []
   },
   "outputs": [
    {
     "data": {
      "text/plain": [
       "array([[1, 2, 3],\n",
       "       [4, 5, 6],\n",
       "       [7, 8, 9]])"
      ]
     },
     "execution_count": 11,
     "metadata": {},
     "output_type": "execute_result"
    }
   ],
   "source": [
    "# Array creation from List\n",
    "myList = [[1, 2, 3], [4, 5, 6], [7, 8, 9]]\n",
    "listArray = np.array(myList)\n",
    "listArray"
   ]
  },
  {
   "cell_type": "code",
   "execution_count": 12,
   "id": "60e0e8a8-4e4a-42d2-bba3-c1abe95cff41",
   "metadata": {
    "tags": []
   },
   "outputs": [
    {
     "data": {
      "text/plain": [
       "dtype('int32')"
      ]
     },
     "execution_count": 12,
     "metadata": {},
     "output_type": "execute_result"
    }
   ],
   "source": [
    "listArray.dtype"
   ]
  },
  {
   "cell_type": "code",
   "execution_count": 13,
   "id": "c7b24ece-0332-4849-8fe5-f4733e5dd61f",
   "metadata": {
    "tags": []
   },
   "outputs": [
    {
     "data": {
      "text/plain": [
       "(3, 3)"
      ]
     },
     "execution_count": 13,
     "metadata": {},
     "output_type": "execute_result"
    }
   ],
   "source": [
    "listArray.shape"
   ]
  },
  {
   "cell_type": "code",
   "execution_count": 14,
   "id": "dba10d75-22e0-482b-9412-fe82bf774028",
   "metadata": {
    "tags": []
   },
   "outputs": [
    {
     "data": {
      "text/plain": [
       "array([[1, 2, 3],\n",
       "       [4, 5, 6],\n",
       "       [7, 8, 9]])"
      ]
     },
     "execution_count": 14,
     "metadata": {},
     "output_type": "execute_result"
    }
   ],
   "source": [
    "# Array creation from tuple\n",
    "myTuple = ((1, 2, 3), (4, 5, 6), (7, 8, 9))\n",
    "tupleArray = np.array(myTuple)\n",
    "tupleArray"
   ]
  },
  {
   "cell_type": "code",
   "execution_count": 15,
   "id": "f7ec4ce1-8311-48bf-9d35-63697297d504",
   "metadata": {
    "tags": []
   },
   "outputs": [
    {
     "data": {
      "text/plain": [
       "dtype('int32')"
      ]
     },
     "execution_count": 15,
     "metadata": {},
     "output_type": "execute_result"
    }
   ],
   "source": [
    "tupleArray.dtype"
   ]
  },
  {
   "cell_type": "code",
   "execution_count": 16,
   "id": "4eb5fca9-60a8-4144-9fdc-c2daa7b988f9",
   "metadata": {
    "tags": []
   },
   "outputs": [
    {
     "data": {
      "text/plain": [
       "array({1, 2, 3, 4, 5, 6}, dtype=object)"
      ]
     },
     "execution_count": 16,
     "metadata": {},
     "output_type": "execute_result"
    }
   ],
   "source": [
    "# Array cration from set\n",
    "mySet = {1, 2, 3, 4, 5, 6}\n",
    "setArray = np.array(mySet)\n",
    "setArray"
   ]
  },
  {
   "cell_type": "code",
   "execution_count": 17,
   "id": "1bc8fda7-72b3-412f-80b2-e6da9183b3b0",
   "metadata": {
    "tags": []
   },
   "outputs": [
    {
     "data": {
      "text/plain": [
       "dtype('O')"
      ]
     },
     "execution_count": 17,
     "metadata": {},
     "output_type": "execute_result"
    }
   ],
   "source": [
    "# dtype object is not efficient for numeric calculations\n",
    "setArray.dtype"
   ]
  },
  {
   "cell_type": "markdown",
   "id": "247dc47d-eb33-498b-b930-6cfe95561d68",
   "metadata": {},
   "source": [
    "### 02. Intrinsic NumPy Array Creation Objects"
   ]
  },
  {
   "cell_type": "code",
   "execution_count": 18,
   "id": "7bbcc04c-e09c-4332-b0af-935a8db5be55",
   "metadata": {
    "tags": []
   },
   "outputs": [
    {
     "data": {
      "text/plain": [
       "array([[0., 0., 0.],\n",
       "       [0., 0., 0.],\n",
       "       [0., 0., 0.]])"
      ]
     },
     "execution_count": 18,
     "metadata": {},
     "output_type": "execute_result"
    }
   ],
   "source": [
    "# Array creation using zeros function\n",
    "zeros = np.zeros((3, 3))\n",
    "zeros"
   ]
  },
  {
   "cell_type": "code",
   "execution_count": 19,
   "id": "c254cca2-fde8-4608-a641-e52fb708c87d",
   "metadata": {
    "tags": []
   },
   "outputs": [
    {
     "data": {
      "text/plain": [
       "array([ 0,  2,  4,  6,  8, 10])"
      ]
     },
     "execution_count": 19,
     "metadata": {},
     "output_type": "execute_result"
    }
   ],
   "source": [
    "# Array creation using range function\n",
    "rngArray = np.arange(0, 11, 2)\n",
    "rngArray"
   ]
  },
  {
   "cell_type": "code",
   "execution_count": 20,
   "id": "bba1b308-cac7-4e3c-b3dd-a5c75750fe9a",
   "metadata": {
    "tags": []
   },
   "outputs": [
    {
     "data": {
      "text/plain": [
       "array([ 0. , 12.5, 25. , 37.5, 50. ])"
      ]
     },
     "execution_count": 20,
     "metadata": {},
     "output_type": "execute_result"
    }
   ],
   "source": [
    "# Array creation using linspace function\n",
    "# linspace function is used to create a linearly spaced array\n",
    "lspace = np.linspace(start=0, stop=50, num=5)\n",
    "lspace"
   ]
  },
  {
   "cell_type": "code",
   "execution_count": 21,
   "id": "0cc31fae-4d30-4b3c-8d9d-0388b38f6537",
   "metadata": {
    "tags": []
   },
   "outputs": [
    {
     "data": {
      "text/plain": [
       "array([1.  , 1.25, 1.5 , 1.75, 2.  ])"
      ]
     },
     "execution_count": 21,
     "metadata": {},
     "output_type": "execute_result"
    }
   ],
   "source": [
    "lspace2 = np.linspace(1, 2, 5)\n",
    "lspace2"
   ]
  },
  {
   "cell_type": "code",
   "execution_count": 22,
   "id": "efad7f8c-b11d-42f7-8426-5137a2af8f90",
   "metadata": {
    "tags": []
   },
   "outputs": [
    {
     "data": {
      "text/plain": [
       "array([[6.23042070e-307, 4.67296746e-307, 1.69121096e-306,\n",
       "        2.78148153e-307, 1.29060531e-306, 8.45599366e-307],\n",
       "       [7.56593017e-307, 1.33511290e-306, 1.02359645e-306,\n",
       "        1.24610383e-306, 1.69118108e-306, 8.06632139e-308],\n",
       "       [1.20160711e-306, 1.69119330e-306, 1.29062229e-306,\n",
       "        1.60217812e-306, 1.37961370e-306, 1.69118515e-306],\n",
       "       [1.11258277e-307, 1.05700515e-307, 1.11261774e-306,\n",
       "        1.29060871e-306, 8.34424766e-308, 2.12203497e-312]])"
      ]
     },
     "execution_count": 22,
     "metadata": {},
     "output_type": "execute_result"
    }
   ],
   "source": [
    "# Array creation using empty function\n",
    "# empty function is used to create an empty array\n",
    "empArray = np.empty((4, 6)) # Elements will be random in this case\n",
    "empArray"
   ]
  },
  {
   "cell_type": "code",
   "execution_count": 23,
   "id": "56ccf901-c713-4183-9aa5-ed0da5795eea",
   "metadata": {
    "tags": []
   },
   "outputs": [
    {
     "data": {
      "text/plain": [
       "array([1.  , 1.25, 1.5 , 1.75, 2.  ])"
      ]
     },
     "execution_count": 23,
     "metadata": {},
     "output_type": "execute_result"
    }
   ],
   "source": [
    "# Array creation using empty_like function\n",
    "# empty_like function is used to generate a copy of previously created array\n",
    "empArray2 = np.empty_like(lspace)\n",
    "empArray2"
   ]
  },
  {
   "cell_type": "code",
   "execution_count": 24,
   "id": "11bd0ede-e9de-49a0-b8bb-3594e344e904",
   "metadata": {
    "tags": []
   },
   "outputs": [
    {
     "data": {
      "text/plain": [
       "array([[1., 0., 0., 0.],\n",
       "       [0., 1., 0., 0.],\n",
       "       [0., 0., 1., 0.],\n",
       "       [0., 0., 0., 1.]])"
      ]
     },
     "execution_count": 24,
     "metadata": {},
     "output_type": "execute_result"
    }
   ],
   "source": [
    "# Array creation using identity function\n",
    "# identity function is used to create an identity matrix\n",
    "identityMatrix = np.identity(4)\n",
    "identityMatrix"
   ]
  },
  {
   "cell_type": "code",
   "execution_count": 25,
   "id": "c5d4b732-1985-48e8-9bd1-8b673551f480",
   "metadata": {
    "tags": []
   },
   "outputs": [
    {
     "data": {
      "text/plain": [
       "(4, 4)"
      ]
     },
     "execution_count": 25,
     "metadata": {},
     "output_type": "execute_result"
    }
   ],
   "source": [
    "identityMatrix.shape"
   ]
  },
  {
   "cell_type": "markdown",
   "id": "a51f22d9-d463-456f-92ba-0d3680f2a91b",
   "metadata": {},
   "source": [
    "## 05. Reshaping NumPy 1-D Array to 2-D Array"
   ]
  },
  {
   "cell_type": "code",
   "execution_count": 26,
   "id": "0db427a4-a7f4-4b9d-9f61-d689c4441eba",
   "metadata": {
    "tags": []
   },
   "outputs": [
    {
     "data": {
      "text/plain": [
       "array([ 0,  1,  2,  3,  4,  5,  6,  7,  8,  9, 10, 11, 12, 13, 14, 15, 16,\n",
       "       17, 18, 19, 20, 21, 22, 23, 24, 25, 26, 27, 28, 29, 30, 31, 32, 33,\n",
       "       34, 35, 36, 37, 38, 39, 40, 41, 42, 43, 44, 45, 46, 47, 48, 49])"
      ]
     },
     "execution_count": 26,
     "metadata": {},
     "output_type": "execute_result"
    }
   ],
   "source": [
    "# Creating NumPy one-dimensional array using range function\n",
    "arr = np.arange(50)\n",
    "arr"
   ]
  },
  {
   "cell_type": "code",
   "execution_count": 27,
   "id": "0eabc931-f8a5-4354-97f2-8e84f7fd4501",
   "metadata": {
    "tags": []
   },
   "outputs": [
    {
     "data": {
      "text/plain": [
       "array([[ 0,  1,  2,  3,  4,  5,  6,  7,  8,  9],\n",
       "       [10, 11, 12, 13, 14, 15, 16, 17, 18, 19],\n",
       "       [20, 21, 22, 23, 24, 25, 26, 27, 28, 29],\n",
       "       [30, 31, 32, 33, 34, 35, 36, 37, 38, 39],\n",
       "       [40, 41, 42, 43, 44, 45, 46, 47, 48, 49]])"
      ]
     },
     "execution_count": 27,
     "metadata": {},
     "output_type": "execute_result"
    }
   ],
   "source": [
    "# Reshaping 1-D array to 2-D array using range function\n",
    "arr = arr.reshape((5, 10))\n",
    "arr"
   ]
  },
  {
   "cell_type": "code",
   "execution_count": 28,
   "id": "68bc590b-1b4a-4d1a-a1b8-10ff8a347d91",
   "metadata": {
    "tags": []
   },
   "outputs": [
    {
     "data": {
      "text/plain": [
       "(5, 10)"
      ]
     },
     "execution_count": 28,
     "metadata": {},
     "output_type": "execute_result"
    }
   ],
   "source": [
    "arr.shape"
   ]
  },
  {
   "cell_type": "markdown",
   "id": "e0d0903f-747e-4a5f-a591-38c0f685c876",
   "metadata": {},
   "source": [
    "## 06. Converting NumPy 2-D Array to 1-D Array"
   ]
  },
  {
   "cell_type": "code",
   "execution_count": 29,
   "id": "aef6030a-d646-4da8-81f7-176d2d543959",
   "metadata": {
    "tags": []
   },
   "outputs": [
    {
     "data": {
      "text/plain": [
       "array([[ 0,  1,  2,  3,  4,  5,  6,  7,  8,  9],\n",
       "       [10, 11, 12, 13, 14, 15, 16, 17, 18, 19],\n",
       "       [20, 21, 22, 23, 24, 25, 26, 27, 28, 29],\n",
       "       [30, 31, 32, 33, 34, 35, 36, 37, 38, 39],\n",
       "       [40, 41, 42, 43, 44, 45, 46, 47, 48, 49]])"
      ]
     },
     "execution_count": 29,
     "metadata": {},
     "output_type": "execute_result"
    }
   ],
   "source": [
    "# Two-dimensional array\n",
    "arr"
   ]
  },
  {
   "cell_type": "code",
   "execution_count": 30,
   "id": "68deb3b0-64fc-4186-bb42-7f54f2167fe5",
   "metadata": {
    "tags": []
   },
   "outputs": [
    {
     "data": {
      "text/plain": [
       "array([ 0,  1,  2,  3,  4,  5,  6,  7,  8,  9, 10, 11, 12, 13, 14, 15, 16,\n",
       "       17, 18, 19, 20, 21, 22, 23, 24, 25, 26, 27, 28, 29, 30, 31, 32, 33,\n",
       "       34, 35, 36, 37, 38, 39, 40, 41, 42, 43, 44, 45, 46, 47, 48, 49])"
      ]
     },
     "execution_count": 30,
     "metadata": {},
     "output_type": "execute_result"
    }
   ],
   "source": [
    "# Converting 2-D array into 1-D array\n",
    "arr = arr.ravel()\n",
    "arr\n",
    "arr"
   ]
  }
 ],
 "metadata": {
  "kernelspec": {
   "display_name": "Python 3 (ipykernel)",
   "language": "python",
   "name": "python3"
  },
  "language_info": {
   "codemirror_mode": {
    "name": "ipython",
    "version": 3
   },
   "file_extension": ".py",
   "mimetype": "text/x-python",
   "name": "python",
   "nbconvert_exporter": "python",
   "pygments_lexer": "ipython3",
   "version": "3.9.16"
  }
 },
 "nbformat": 4,
 "nbformat_minor": 5
}
