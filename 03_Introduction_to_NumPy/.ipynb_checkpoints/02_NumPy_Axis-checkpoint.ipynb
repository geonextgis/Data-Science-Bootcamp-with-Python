{
 "cells": [
  {
   "cell_type": "markdown",
   "id": "223ac861-08eb-4539-8715-0a4b67327055",
   "metadata": {},
   "source": [
    "# Numpy Axis\n",
    "In NumPy, the axis parameter is used to specify the dimension of an array along which a particular operation should be performed. It is an important parameter in many NumPy functions that deal with multi-dimensional arrays. Understanding how to use the axis parameter is crucial in performing complex operations on multi-dimensional arrays.\n",
    "\n",
    "The axis parameter can take values of 0, 1, 2, and so on, where 0 represents the first dimension (rows), 1 represents the second dimension (columns), and so on.\n",
    "\n",
    "<center><img src=\"https://i.imgur.com/mg8O3kd.png\" style=\"max-width:1200px; height: auto\"></center>"
   ]
  },
  {
   "cell_type": "code",
   "execution_count": 1,
   "id": "05494c14-e909-458d-819c-be0ecacb1d8a",
   "metadata": {
    "tags": []
   },
   "outputs": [],
   "source": [
    "import numpy as np"
   ]
  },
  {
   "cell_type": "code",
   "execution_count": 2,
   "id": "841cd37a-b15a-4ec4-b6f7-4ea3dd9c9629",
   "metadata": {
    "tags": []
   },
   "outputs": [],
   "source": [
    "# Creating a 2-D list\n",
    "myList = [[1, 2, 3], [4, 5, 6], [7, 8, 9]]"
   ]
  },
  {
   "cell_type": "code",
   "execution_count": 3,
   "id": "8c1b8903-866d-40b6-b0af-416292b28fff",
   "metadata": {
    "tags": []
   },
   "outputs": [
    {
     "data": {
      "text/plain": [
       "array([[1, 2, 3],\n",
       "       [4, 5, 6],\n",
       "       [7, 8, 9]])"
      ]
     },
     "execution_count": 3,
     "metadata": {},
     "output_type": "execute_result"
    }
   ],
   "source": [
    "# Creating a 2-D NumPy array from the list\n",
    "myArr = np.array(myList)\n",
    "myArr"
   ]
  },
  {
   "cell_type": "markdown",
   "id": "ea82e940-ef69-41af-92a0-b1a4e3f5e6f9",
   "metadata": {},
   "source": [
    "## 01. Summing Elements along a Specific Axis"
   ]
  },
  {
   "cell_type": "code",
   "execution_count": 4,
   "id": "c96f3acd-5099-4441-ad8c-30134be9b071",
   "metadata": {
    "tags": []
   },
   "outputs": [
    {
     "data": {
      "text/plain": [
       "array([12, 15, 18])"
      ]
     },
     "execution_count": 4,
     "metadata": {},
     "output_type": "execute_result"
    }
   ],
   "source": [
    "# Summing elements along axis 0 (Row)\n",
    "row_sum = myArr.sum(axis=0)\n",
    "row_sum"
   ]
  },
  {
   "cell_type": "code",
   "execution_count": 5,
   "id": "0a2700ff-4f74-455f-9d15-bd3b10c04fb3",
   "metadata": {
    "tags": []
   },
   "outputs": [
    {
     "data": {
      "text/plain": [
       "array([ 6, 15, 24])"
      ]
     },
     "execution_count": 5,
     "metadata": {},
     "output_type": "execute_result"
    }
   ],
   "source": [
    "# Summing elements along axis 1 (Column)\n",
    "column_sum = myArr.sum(axis=1)\n",
    "column_sum"
   ]
  },
  {
   "cell_type": "markdown",
   "id": "83e382a7-5adb-4f7d-a34b-b870d9eff056",
   "metadata": {},
   "source": [
    "## 02. Finding the Maximum Element along a Specific Axis"
   ]
  },
  {
   "cell_type": "code",
   "execution_count": 6,
   "id": "0c8dc893-af0a-4335-b791-df23202e14ba",
   "metadata": {
    "tags": []
   },
   "outputs": [
    {
     "data": {
      "text/plain": [
       "array([[1, 2, 3],\n",
       "       [4, 5, 6],\n",
       "       [7, 8, 9]])"
      ]
     },
     "execution_count": 6,
     "metadata": {},
     "output_type": "execute_result"
    }
   ],
   "source": [
    "myArr"
   ]
  },
  {
   "cell_type": "code",
   "execution_count": 7,
   "id": "7d552a3c-457b-4f5e-bafa-3e6d3c717574",
   "metadata": {
    "tags": []
   },
   "outputs": [
    {
     "data": {
      "text/plain": [
       "array([7, 8, 9])"
      ]
     },
     "execution_count": 7,
     "metadata": {},
     "output_type": "execute_result"
    }
   ],
   "source": [
    "# Finding the maximum element along axis 0 (Row)\n",
    "max_axis_0 = myArr.max(axis=0)\n",
    "max_axis_0"
   ]
  },
  {
   "cell_type": "code",
   "execution_count": 8,
   "id": "b1ff9936-006b-475d-ab00-81b9abb8c88b",
   "metadata": {
    "tags": []
   },
   "outputs": [
    {
     "data": {
      "text/plain": [
       "array([3, 6, 9])"
      ]
     },
     "execution_count": 8,
     "metadata": {},
     "output_type": "execute_result"
    }
   ],
   "source": [
    "# Finding the maximum element along axis 1 (Column)\n",
    "max_axis_1 = myArr.max(axis=1)\n",
    "max_axis_1"
   ]
  }
 ],
 "metadata": {
  "kernelspec": {
   "display_name": "Python 3 (ipykernel)",
   "language": "python",
   "name": "python3"
  },
  "language_info": {
   "codemirror_mode": {
    "name": "ipython",
    "version": 3
   },
   "file_extension": ".py",
   "mimetype": "text/x-python",
   "name": "python",
   "nbconvert_exporter": "python",
   "pygments_lexer": "ipython3",
   "version": "3.9.16"
  }
 },
 "nbformat": 4,
 "nbformat_minor": 5
}
