{
 "cells": [
  {
   "cell_type": "markdown",
   "id": "d133d5cf-5263-48b3-a371-00276fe1d547",
   "metadata": {},
   "source": [
    "# Advantages of Using NumPy\n",
    "NumPy arrays are more memory-efficient than Python lists because they are homogeneous, which means that all elements in the array are of the same data type. This allows NumPy to store the data more efficiently in memory.\n",
    "\n",
    "When you create a Python list, Python has to allocate memory for each element of the list, as well as for the list object itself. This means that lists can use more memory than necessary if the elements have different data types.\n",
    "\n",
    "In contrast, NumPy arrays are designed to be memory-efficient. When you create a NumPy array, NumPy allocates a block of memory for the entire array, based on the data type and size of the array. This means that NumPy arrays can use less memory than equivalent lists, especially for large datasets."
   ]
  },
  {
   "cell_type": "code",
   "execution_count": 1,
   "id": "25500f4a-c650-4af7-8fc6-0cd24d1b2fd8",
   "metadata": {
    "tags": []
   },
   "outputs": [],
   "source": [
    "import sys\n",
    "import numpy as np"
   ]
  },
  {
   "cell_type": "code",
   "execution_count": 2,
   "id": "8e35e3cf-eda1-4e38-9886-133bba44c791",
   "metadata": {
    "tags": []
   },
   "outputs": [
    {
     "data": {
      "text/plain": [
       "[1, 2, 3, 4, 5]"
      ]
     },
     "execution_count": 2,
     "metadata": {},
     "output_type": "execute_result"
    }
   ],
   "source": [
    "# Creating a list\n",
    "myList = [1, 2, 3, 4, 5]\n",
    "myList"
   ]
  },
  {
   "cell_type": "code",
   "execution_count": 3,
   "id": "0f6ee9a8-a719-4b10-bab7-fa3c185f3eb7",
   "metadata": {
    "tags": []
   },
   "outputs": [
    {
     "data": {
      "text/plain": [
       "array([1, 2, 3, 4, 5])"
      ]
     },
     "execution_count": 3,
     "metadata": {},
     "output_type": "execute_result"
    }
   ],
   "source": [
    "# Creating a NumPy array from the list\n",
    "myArr = np.array(myList)\n",
    "myArr"
   ]
  },
  {
   "cell_type": "code",
   "execution_count": 4,
   "id": "ee850e9f-55c2-49dd-b0ef-2f3eb7fad40d",
   "metadata": {
    "tags": []
   },
   "outputs": [
    {
     "data": {
      "text/plain": [
       "600"
      ]
     },
     "execution_count": 4,
     "metadata": {},
     "output_type": "execute_result"
    }
   ],
   "source": [
    "# Print the size of the python list\n",
    "# Memory in Bytes\n",
    "sys.getsizeof(myList) * len(myList)"
   ]
  },
  {
   "cell_type": "code",
   "execution_count": 5,
   "id": "6a9a2a86-03b9-4c0f-b2d6-d4b336c678e1",
   "metadata": {
    "tags": []
   },
   "outputs": [
    {
     "data": {
      "text/plain": [
       "20"
      ]
     },
     "execution_count": 5,
     "metadata": {},
     "output_type": "execute_result"
    }
   ],
   "source": [
    "# Print the size of the NumPy array\n",
    "# Memory in Bytes\n",
    "myArr.itemsize * myArr.size"
   ]
  },
  {
   "cell_type": "markdown",
   "id": "ed9f354f-93f1-439f-bba0-40dd23225761",
   "metadata": {
    "tags": []
   },
   "source": [
    "## Convert NumPy Array to List"
   ]
  },
  {
   "cell_type": "code",
   "execution_count": 6,
   "id": "05198b44-ec9e-4612-a458-9377088ee3ee",
   "metadata": {
    "tags": []
   },
   "outputs": [
    {
     "data": {
      "text/plain": [
       "[1, 2, 3, 4, 5]"
      ]
     },
     "execution_count": 6,
     "metadata": {},
     "output_type": "execute_result"
    }
   ],
   "source": [
    "arr_to_lst = myArr.tolist()\n",
    "arr_to_lst"
   ]
  },
  {
   "cell_type": "code",
   "execution_count": 7,
   "id": "2e38095d-a0b4-49c0-8a55-2cb39e9bf750",
   "metadata": {
    "tags": []
   },
   "outputs": [
    {
     "data": {
      "text/plain": [
       "96"
      ]
     },
     "execution_count": 7,
     "metadata": {},
     "output_type": "execute_result"
    }
   ],
   "source": [
    "sys.getsizeof(arr_to_lst)"
   ]
  }
 ],
 "metadata": {
  "kernelspec": {
   "display_name": "Python 3 (ipykernel)",
   "language": "python",
   "name": "python3"
  },
  "language_info": {
   "codemirror_mode": {
    "name": "ipython",
    "version": 3
   },
   "file_extension": ".py",
   "mimetype": "text/x-python",
   "name": "python",
   "nbconvert_exporter": "python",
   "pygments_lexer": "ipython3",
   "version": "3.9.16"
  }
 },
 "nbformat": 4,
 "nbformat_minor": 5
}
