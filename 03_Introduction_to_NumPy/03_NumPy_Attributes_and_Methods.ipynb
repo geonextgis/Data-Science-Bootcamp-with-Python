{
 "cells": [
  {
   "cell_type": "markdown",
   "id": "1ab30965-1bce-4929-8e9d-6d9984e042a0",
   "metadata": {},
   "source": [
    "# Numpy Attributes and Methods\n",
    "NumPy is a powerful library for working with arrays and matrices in Python. It provides various attributes and methods that can be used to manipulate and analyze arrays. In this section, we will discuss some of the important NumPy attributes and methods."
   ]
  },
  {
   "cell_type": "code",
   "execution_count": 1,
   "id": "c81b143d-afa6-4cdc-a3a4-1df2b4e57788",
   "metadata": {
    "tags": []
   },
   "outputs": [],
   "source": [
    "import numpy as np"
   ]
  },
  {
   "cell_type": "code",
   "execution_count": 2,
   "id": "2473b5e2-f88b-4035-bf2f-bcc9fd912881",
   "metadata": {
    "tags": []
   },
   "outputs": [],
   "source": [
    "# Creating a NumPy 2-D array\n",
    "myArr = np.array([[1, 2, 3], [4, 5, 6], [7, 8, 9]])"
   ]
  },
  {
   "cell_type": "markdown",
   "id": "c54adfc2-e4c3-4103-8cc7-605414e795e9",
   "metadata": {},
   "source": [
    "## 01. NumPy Attributes"
   ]
  },
  {
   "cell_type": "markdown",
   "id": "c8d1ed06-cf92-4b6e-9df4-ecb019c95f35",
   "metadata": {
    "tags": []
   },
   "source": [
    "### 01. 'T' Attribute\n",
    "In NumPy, the T attribute is used to get the transpose of a matrix. The transpose of a matrix is obtained by interchanging the rows and columns of the matrix."
   ]
  },
  {
   "cell_type": "code",
   "execution_count": 3,
   "id": "29f2c695-d06f-4b90-bb11-9e6b98158cff",
   "metadata": {
    "tags": []
   },
   "outputs": [
    {
     "data": {
      "text/plain": [
       "array([[1, 2, 3],\n",
       "       [4, 5, 6],\n",
       "       [7, 8, 9]])"
      ]
     },
     "execution_count": 3,
     "metadata": {},
     "output_type": "execute_result"
    }
   ],
   "source": [
    "myArr"
   ]
  },
  {
   "cell_type": "code",
   "execution_count": 4,
   "id": "362d7127-1f9e-415c-847d-a5493b2884bf",
   "metadata": {
    "tags": []
   },
   "outputs": [
    {
     "data": {
      "text/plain": [
       "array([[1, 4, 7],\n",
       "       [2, 5, 8],\n",
       "       [3, 6, 9]])"
      ]
     },
     "execution_count": 4,
     "metadata": {},
     "output_type": "execute_result"
    }
   ],
   "source": [
    "# Creating transpose of the matrix\n",
    "myArr_transpose = myArr.T\n",
    "myArr_transpose"
   ]
  },
  {
   "cell_type": "markdown",
   "id": "70503524-6493-4c78-a61c-e425af827045",
   "metadata": {},
   "source": [
    "### 02. 'flat' Attribute\n",
    "In NumPy, the flat attribute is used to get a 1-dimensional iterator over a multi-dimensional array. The flat attribute returns a flat iterator that traverses the array in row-major (C-style) order, which means that it first traverses the rows of the array, and then the columns."
   ]
  },
  {
   "cell_type": "code",
   "execution_count": 5,
   "id": "e38066bf-3c78-4ddc-a260-ff94b29cc19a",
   "metadata": {
    "tags": []
   },
   "outputs": [
    {
     "data": {
      "text/plain": [
       "array([[1, 2, 3],\n",
       "       [4, 5, 6],\n",
       "       [7, 8, 9]])"
      ]
     },
     "execution_count": 5,
     "metadata": {},
     "output_type": "execute_result"
    }
   ],
   "source": [
    "myArr"
   ]
  },
  {
   "cell_type": "code",
   "execution_count": 6,
   "id": "f3a71628-53bd-48e8-85c3-ec0c7628c847",
   "metadata": {
    "tags": []
   },
   "outputs": [
    {
     "data": {
      "text/plain": [
       "<numpy.flatiter at 0x160f8c39a20>"
      ]
     },
     "execution_count": 6,
     "metadata": {},
     "output_type": "execute_result"
    }
   ],
   "source": [
    "myArr.flat"
   ]
  },
  {
   "cell_type": "code",
   "execution_count": 7,
   "id": "fa9d236b-b4c5-469a-afaa-73921864c22b",
   "metadata": {
    "tags": []
   },
   "outputs": [
    {
     "name": "stdout",
     "output_type": "stream",
     "text": [
      "1\n",
      "2\n",
      "3\n",
      "4\n",
      "5\n",
      "6\n",
      "7\n",
      "8\n",
      "9\n"
     ]
    }
   ],
   "source": [
    "for item in myArr.flat:\n",
    "    print(item)"
   ]
  },
  {
   "cell_type": "markdown",
   "id": "683e5473-e417-4517-a5b0-214b52195019",
   "metadata": {},
   "source": [
    "### 03. 'ndim' Attribute\n",
    "This attribute returns the number of dimensions of the array."
   ]
  },
  {
   "cell_type": "code",
   "execution_count": 8,
   "id": "afe26bb1-60ca-4f03-b83e-17061f3466a9",
   "metadata": {
    "tags": []
   },
   "outputs": [
    {
     "data": {
      "text/plain": [
       "array([[1, 2, 3],\n",
       "       [4, 5, 6],\n",
       "       [7, 8, 9]])"
      ]
     },
     "execution_count": 8,
     "metadata": {},
     "output_type": "execute_result"
    }
   ],
   "source": [
    "myArr"
   ]
  },
  {
   "cell_type": "code",
   "execution_count": 9,
   "id": "a794a2e2-5a26-4c14-afbe-1a25b85e4bb6",
   "metadata": {
    "tags": []
   },
   "outputs": [
    {
     "data": {
      "text/plain": [
       "2"
      ]
     },
     "execution_count": 9,
     "metadata": {},
     "output_type": "execute_result"
    }
   ],
   "source": [
    "myArr.ndim"
   ]
  },
  {
   "cell_type": "markdown",
   "id": "72a35125-bdb7-4a24-8a34-c88825fa5329",
   "metadata": {},
   "source": [
    "### 04. 'size' Attribute\n",
    "This attribute returns the total number of elements in the array."
   ]
  },
  {
   "cell_type": "code",
   "execution_count": 10,
   "id": "6f0d81f5-95ef-4684-9f35-d2eac851ecbe",
   "metadata": {
    "tags": []
   },
   "outputs": [
    {
     "data": {
      "text/plain": [
       "array([[1, 2, 3],\n",
       "       [4, 5, 6],\n",
       "       [7, 8, 9]])"
      ]
     },
     "execution_count": 10,
     "metadata": {},
     "output_type": "execute_result"
    }
   ],
   "source": [
    "myArr"
   ]
  },
  {
   "cell_type": "code",
   "execution_count": 11,
   "id": "451600bc-fab4-4d57-aa35-f6b4ac4815f9",
   "metadata": {
    "tags": []
   },
   "outputs": [
    {
     "data": {
      "text/plain": [
       "9"
      ]
     },
     "execution_count": 11,
     "metadata": {},
     "output_type": "execute_result"
    }
   ],
   "source": [
    "myArr.size"
   ]
  },
  {
   "cell_type": "markdown",
   "id": "87771e31-c5a4-48ba-9929-6aca2a3986a0",
   "metadata": {},
   "source": [
    "### 05. 'nbytes' Attribute\n",
    "In NumPy, the nbytes attribute is used to get the total number of bytes occupied by the array data in memory. "
   ]
  },
  {
   "cell_type": "code",
   "execution_count": 12,
   "id": "7a492ad0-5808-40ea-a7cf-7ba10a9d376b",
   "metadata": {
    "tags": []
   },
   "outputs": [
    {
     "data": {
      "text/plain": [
       "36"
      ]
     },
     "execution_count": 12,
     "metadata": {},
     "output_type": "execute_result"
    }
   ],
   "source": [
    "myArr.nbytes"
   ]
  },
  {
   "cell_type": "markdown",
   "id": "f96f5a61-d43b-4332-8bab-7380d2ced125",
   "metadata": {},
   "source": [
    "## 02. NumPy Methods"
   ]
  },
  {
   "cell_type": "code",
   "execution_count": 13,
   "id": "be824730-08db-41b5-8393-0d668d2e1f09",
   "metadata": {
    "tags": []
   },
   "outputs": [],
   "source": [
    "# Creating a NumPy 1-D array\n",
    "myArr2 = np.array([45, 48, 25, 87, 16])"
   ]
  },
  {
   "cell_type": "markdown",
   "id": "9586bd27-77a1-4191-ba65-db4157215eea",
   "metadata": {
    "tags": []
   },
   "source": [
    "### 01. 'argmax' Method\n",
    "np.argmax(arr, axis=None, out=None) returns the indices of the maximum values along an axis."
   ]
  },
  {
   "cell_type": "code",
   "execution_count": 14,
   "id": "8dc8d4d7-d2b8-4b85-be8b-a70549453f30",
   "metadata": {
    "tags": []
   },
   "outputs": [
    {
     "data": {
      "text/plain": [
       "3"
      ]
     },
     "execution_count": 14,
     "metadata": {},
     "output_type": "execute_result"
    }
   ],
   "source": [
    "# argmax in 1-D array\n",
    "myArr2.argmax()"
   ]
  },
  {
   "cell_type": "code",
   "execution_count": 15,
   "id": "d5471dc7-fe73-4d43-b5d7-c922ee51f752",
   "metadata": {
    "tags": []
   },
   "outputs": [
    {
     "data": {
      "text/plain": [
       "8"
      ]
     },
     "execution_count": 15,
     "metadata": {},
     "output_type": "execute_result"
    }
   ],
   "source": [
    "# argmax in 2-D array\n",
    "myArr.argmax()"
   ]
  },
  {
   "cell_type": "code",
   "execution_count": 16,
   "id": "a928fdf0-2631-485f-ad6f-85270a28e286",
   "metadata": {
    "tags": []
   },
   "outputs": [
    {
     "data": {
      "text/plain": [
       "array([2, 2, 2], dtype=int64)"
      ]
     },
     "execution_count": 16,
     "metadata": {},
     "output_type": "execute_result"
    }
   ],
   "source": [
    "# Finding maximum values along axis\n",
    "myArr.argmax(axis=0)"
   ]
  },
  {
   "cell_type": "markdown",
   "id": "e92d132d-f4b2-4c38-9e3d-08887b11b041",
   "metadata": {
    "tags": []
   },
   "source": [
    "### 02. 'argmin' Method\n",
    "np.argmin(arr, axis=None, out=None) returns the indices of the minimum values along an axis."
   ]
  },
  {
   "cell_type": "code",
   "execution_count": 17,
   "id": "c5191d4c-6ae0-43ed-a442-5b2120253ba1",
   "metadata": {
    "tags": []
   },
   "outputs": [
    {
     "data": {
      "text/plain": [
       "4"
      ]
     },
     "execution_count": 17,
     "metadata": {},
     "output_type": "execute_result"
    }
   ],
   "source": [
    "# argmin in 1-D array\n",
    "myArr2.argmin()"
   ]
  },
  {
   "cell_type": "code",
   "execution_count": 18,
   "id": "3c71559d-7785-45d2-bd8a-4c1a93177d36",
   "metadata": {
    "tags": []
   },
   "outputs": [
    {
     "data": {
      "text/plain": [
       "0"
      ]
     },
     "execution_count": 18,
     "metadata": {},
     "output_type": "execute_result"
    }
   ],
   "source": [
    "# argmin in 2-D array\n",
    "myArr.argmin()"
   ]
  },
  {
   "cell_type": "code",
   "execution_count": 19,
   "id": "4aeb5697-88c5-47c1-9772-c7a7f3406d01",
   "metadata": {
    "tags": []
   },
   "outputs": [
    {
     "data": {
      "text/plain": [
       "array([0, 0, 0], dtype=int64)"
      ]
     },
     "execution_count": 19,
     "metadata": {},
     "output_type": "execute_result"
    }
   ],
   "source": [
    "# Finding minimum values along axis\n",
    "myArr.argmin(axis=0)"
   ]
  },
  {
   "cell_type": "markdown",
   "id": "d10e5906-0b8e-46bc-a3c5-6cc602141fa9",
   "metadata": {},
   "source": [
    "### 03. 'argsort' Method\n",
    "argsort() is a method provided by NumPy that returns the indices that would sort an array in ascending or descending order."
   ]
  },
  {
   "cell_type": "code",
   "execution_count": 20,
   "id": "2756002c-32c4-408c-ba6d-0ef4a3078ab1",
   "metadata": {
    "tags": []
   },
   "outputs": [
    {
     "data": {
      "text/plain": [
       "array([4, 2, 0, 1, 3], dtype=int64)"
      ]
     },
     "execution_count": 20,
     "metadata": {},
     "output_type": "execute_result"
    }
   ],
   "source": [
    "# argsort in 1-D array\n",
    "myArr2.argsort()"
   ]
  },
  {
   "cell_type": "code",
   "execution_count": 21,
   "id": "30322d34-bb67-4a9a-aaf3-85e501e06a5e",
   "metadata": {
    "tags": []
   },
   "outputs": [
    {
     "data": {
      "text/plain": [
       "array([[0, 1, 2],\n",
       "       [0, 1, 2],\n",
       "       [0, 1, 2]], dtype=int64)"
      ]
     },
     "execution_count": 21,
     "metadata": {},
     "output_type": "execute_result"
    }
   ],
   "source": [
    "# argsort in 2-D array\n",
    "myArr.argsort()"
   ]
  },
  {
   "cell_type": "code",
   "execution_count": 22,
   "id": "17cc4c9f-f133-4092-8038-65cbd09ee332",
   "metadata": {
    "tags": []
   },
   "outputs": [
    {
     "data": {
      "text/plain": [
       "array([[0, 0, 0],\n",
       "       [1, 1, 1],\n",
       "       [2, 2, 2]], dtype=int64)"
      ]
     },
     "execution_count": 22,
     "metadata": {},
     "output_type": "execute_result"
    }
   ],
   "source": [
    "# Sorting values along axis\n",
    "myArr.argsort(axis=0)"
   ]
  },
  {
   "cell_type": "markdown",
   "id": "f9ff65f1-d640-40cc-b292-809c0e3880a8",
   "metadata": {},
   "source": [
    "### 04. 'ravel' Method\n",
    "ravel() is used to flatten an array into a 1D array. "
   ]
  },
  {
   "cell_type": "code",
   "execution_count": 23,
   "id": "7ada9948-93da-4e40-a986-0b7172d04383",
   "metadata": {
    "tags": []
   },
   "outputs": [
    {
     "data": {
      "text/plain": [
       "array([1, 2, 3, 4, 5, 6, 7, 8, 9])"
      ]
     },
     "execution_count": 23,
     "metadata": {},
     "output_type": "execute_result"
    }
   ],
   "source": [
    "myArr.ravel()"
   ]
  },
  {
   "cell_type": "markdown",
   "id": "f0c8bb0e-3aab-4ccf-bcfb-4c70d3f47d26",
   "metadata": {},
   "source": [
    "### 05. 'reshape' Method\n",
    "reshape() is used to change the shape of an array."
   ]
  },
  {
   "cell_type": "code",
   "execution_count": 24,
   "id": "17fc76bc-352b-466d-a4ab-a2826f9f17ac",
   "metadata": {
    "tags": []
   },
   "outputs": [
    {
     "data": {
      "text/plain": [
       "array([[1, 2, 3],\n",
       "       [4, 5, 6],\n",
       "       [7, 8, 9]])"
      ]
     },
     "execution_count": 24,
     "metadata": {},
     "output_type": "execute_result"
    }
   ],
   "source": [
    "myArr"
   ]
  },
  {
   "cell_type": "code",
   "execution_count": 25,
   "id": "8c1af579-043f-4170-bffe-36dff824b658",
   "metadata": {
    "tags": []
   },
   "outputs": [
    {
     "data": {
      "text/plain": [
       "array([[1],\n",
       "       [2],\n",
       "       [3],\n",
       "       [4],\n",
       "       [5],\n",
       "       [6],\n",
       "       [7],\n",
       "       [8],\n",
       "       [9]])"
      ]
     },
     "execution_count": 25,
     "metadata": {},
     "output_type": "execute_result"
    }
   ],
   "source": [
    "myArr.reshape((9, 1))"
   ]
  }
 ],
 "metadata": {
  "kernelspec": {
   "display_name": "Python 3 (ipykernel)",
   "language": "python",
   "name": "python3"
  },
  "language_info": {
   "codemirror_mode": {
    "name": "ipython",
    "version": 3
   },
   "file_extension": ".py",
   "mimetype": "text/x-python",
   "name": "python",
   "nbconvert_exporter": "python",
   "pygments_lexer": "ipython3",
   "version": "3.9.16"
  },
  "toc-autonumbering": false,
  "toc-showcode": false,
  "toc-showmarkdowntxt": false
 },
 "nbformat": 4,
 "nbformat_minor": 5
}
