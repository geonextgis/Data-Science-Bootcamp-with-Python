{
 "cells": [
  {
   "cell_type": "markdown",
   "id": "3b67a58e-2e92-464a-adcb-be66b40943d8",
   "metadata": {},
   "source": [
    "# Mathematical Operations Using NumPy\n",
    "NumPy provides a wide range of mathematical operations that can be performed on arrays. These operations include basic arithmetic operations (addition, subtraction, multiplication, division), as well as more advanced mathematical functions (trigonometric functions, logarithmic functions, etc.)."
   ]
  },
  {
   "cell_type": "code",
   "execution_count": 1,
   "id": "566c9824-9ff3-48a4-ba90-1e432e2bc193",
   "metadata": {
    "tags": []
   },
   "outputs": [],
   "source": [
    "import numpy as np"
   ]
  },
  {
   "cell_type": "code",
   "execution_count": 2,
   "id": "84dbf141-692c-4539-a97f-42aa65f4e709",
   "metadata": {
    "tags": []
   },
   "outputs": [
    {
     "data": {
      "text/plain": [
       "array([[1, 3, 5],\n",
       "       [4, 7, 4],\n",
       "       [3, 6, 1]])"
      ]
     },
     "execution_count": 2,
     "metadata": {},
     "output_type": "execute_result"
    }
   ],
   "source": [
    "# Creating our first array\n",
    "arr1 = np.array([[1, 3, 5], [4, 7, 4], [3, 6, 1]])\n",
    "arr1"
   ]
  },
  {
   "cell_type": "code",
   "execution_count": 3,
   "id": "a30f621f-00e4-4450-9702-5551280227dc",
   "metadata": {
    "tags": []
   },
   "outputs": [
    {
     "data": {
      "text/plain": [
       "array([[2, 7, 6],\n",
       "       [3, 4, 8],\n",
       "       [1, 7, 3]])"
      ]
     },
     "execution_count": 3,
     "metadata": {},
     "output_type": "execute_result"
    }
   ],
   "source": [
    "# Creating our second array\n",
    "arr2 = np.array([[2, 7, 6], [3, 4, 8], [1, 7, 3]])\n",
    "arr2"
   ]
  },
  {
   "cell_type": "markdown",
   "id": "c176a3b1-de7c-46f3-8d88-814cb6cd6a9c",
   "metadata": {},
   "source": [
    "## 01. Basic Matrix Operations\n",
    "A wide range of matrix operations can be performed on arrays by using NumPy. These operations include basic arithmetic operations (addition, subtraction, multiplication, division), as well as more advanced matrix operations (determinants, inverses, eigenvalues, etc.)."
   ]
  },
  {
   "cell_type": "markdown",
   "id": "1f6c70aa-f177-42df-b06e-17caf3bd95cf",
   "metadata": {},
   "source": [
    "### 01. Matrix Addition"
   ]
  },
  {
   "cell_type": "code",
   "execution_count": 4,
   "id": "caa7b5c1-da56-4c9a-ba4a-696901903128",
   "metadata": {
    "tags": []
   },
   "outputs": [
    {
     "data": {
      "text/plain": [
       "array([[ 3, 10, 11],\n",
       "       [ 7, 11, 12],\n",
       "       [ 4, 13,  4]])"
      ]
     },
     "execution_count": 4,
     "metadata": {},
     "output_type": "execute_result"
    }
   ],
   "source": [
    "# Addition\n",
    "arr1 + arr2"
   ]
  },
  {
   "cell_type": "markdown",
   "id": "d9c5ca5e-0e0b-44fe-9162-f89e3b326de1",
   "metadata": {},
   "source": [
    "### 02. Matrix Subtraction"
   ]
  },
  {
   "cell_type": "code",
   "execution_count": 5,
   "id": "64db3786-1cf1-418d-a61d-756edc3ff724",
   "metadata": {
    "tags": []
   },
   "outputs": [
    {
     "data": {
      "text/plain": [
       "array([[-1, -4, -1],\n",
       "       [ 1,  3, -4],\n",
       "       [ 2, -1, -2]])"
      ]
     },
     "execution_count": 5,
     "metadata": {},
     "output_type": "execute_result"
    }
   ],
   "source": [
    "# Subtraction\n",
    "arr1 - arr2"
   ]
  },
  {
   "cell_type": "markdown",
   "id": "46632aaa-f7fd-4a0f-afe3-1436c3e1ed4b",
   "metadata": {},
   "source": [
    "### 03. Matrix Multiplication"
   ]
  },
  {
   "cell_type": "code",
   "execution_count": 6,
   "id": "c43a6d65-5189-4563-9b69-502b3b5f86fb",
   "metadata": {
    "tags": []
   },
   "outputs": [
    {
     "data": {
      "text/plain": [
       "array([[ 2, 21, 30],\n",
       "       [12, 28, 32],\n",
       "       [ 3, 42,  3]])"
      ]
     },
     "execution_count": 6,
     "metadata": {},
     "output_type": "execute_result"
    }
   ],
   "source": [
    "# Multiplication\n",
    "arr1 * arr2"
   ]
  },
  {
   "cell_type": "markdown",
   "id": "4ac4e4ea-039a-4167-929b-23f2ce9ffbba",
   "metadata": {},
   "source": [
    "### 04. Matrix Division"
   ]
  },
  {
   "cell_type": "code",
   "execution_count": 7,
   "id": "1331fb0b-a1ce-4445-9027-dbf0d0b63b7a",
   "metadata": {
    "tags": []
   },
   "outputs": [
    {
     "data": {
      "text/plain": [
       "array([[0.5       , 0.42857143, 0.83333333],\n",
       "       [1.33333333, 1.75      , 0.5       ],\n",
       "       [3.        , 0.85714286, 0.33333333]])"
      ]
     },
     "execution_count": 7,
     "metadata": {},
     "output_type": "execute_result"
    }
   ],
   "source": [
    "# Division\n",
    "arr1 / arr2"
   ]
  },
  {
   "cell_type": "markdown",
   "id": "80760d9a-ad79-4aca-be17-40a6af49e015",
   "metadata": {},
   "source": [
    "## 02. Basic Statistical Operations\n",
    "NumPy provides several methods to perform basic statistical operations on arrays such as sqrt(), sum(), min(), and max()."
   ]
  },
  {
   "cell_type": "markdown",
   "id": "91d4181d-271e-4d25-bbfd-5027cab7caf7",
   "metadata": {},
   "source": [
    "### 01. 'sqrt' Method\n",
    "The numpy.sqrt() method is used to calculate the square root of each element in a NumPy array."
   ]
  },
  {
   "cell_type": "code",
   "execution_count": 8,
   "id": "4f382784-368f-4e7e-8b89-d3b559539047",
   "metadata": {
    "tags": []
   },
   "outputs": [
    {
     "data": {
      "text/plain": [
       "array([[1.        , 1.73205081, 2.23606798],\n",
       "       [2.        , 2.64575131, 2.        ],\n",
       "       [1.73205081, 2.44948974, 1.        ]])"
      ]
     },
     "execution_count": 8,
     "metadata": {},
     "output_type": "execute_result"
    }
   ],
   "source": [
    "np.sqrt(arr1)"
   ]
  },
  {
   "cell_type": "markdown",
   "id": "4d557da2-6eab-47ab-bf78-ba8d2df1f3eb",
   "metadata": {},
   "source": [
    "### 02. 'sum' Method\n",
    "The sum() method returns the sum of all elements in the array or along a specified axis."
   ]
  },
  {
   "cell_type": "code",
   "execution_count": 9,
   "id": "448ffb05-669a-41c8-82a9-62512fb06f41",
   "metadata": {
    "tags": []
   },
   "outputs": [
    {
     "data": {
      "text/plain": [
       "34"
      ]
     },
     "execution_count": 9,
     "metadata": {},
     "output_type": "execute_result"
    }
   ],
   "source": [
    "np.sum(arr1)"
   ]
  },
  {
   "cell_type": "markdown",
   "id": "47516b38-430b-40d6-a691-004d12d33ea1",
   "metadata": {},
   "source": [
    "### 03. 'min' Method\n",
    "The min() method returns the minimum value in the array or along a specified axis."
   ]
  },
  {
   "cell_type": "code",
   "execution_count": 10,
   "id": "03b824b4-d8f1-48d2-8c22-701a64afc19b",
   "metadata": {
    "tags": []
   },
   "outputs": [
    {
     "data": {
      "text/plain": [
       "array([1, 3, 1])"
      ]
     },
     "execution_count": 10,
     "metadata": {},
     "output_type": "execute_result"
    }
   ],
   "source": [
    "np.min(arr1, axis=0)"
   ]
  },
  {
   "cell_type": "code",
   "execution_count": 11,
   "id": "7a8d1e70-78ec-4422-abe7-8c0a4a34b6e8",
   "metadata": {
    "tags": []
   },
   "outputs": [
    {
     "data": {
      "text/plain": [
       "1"
      ]
     },
     "execution_count": 11,
     "metadata": {},
     "output_type": "execute_result"
    }
   ],
   "source": [
    "# Return minimum value of an array\n",
    "arr1.min()"
   ]
  },
  {
   "cell_type": "markdown",
   "id": "99aeeba8-c6ad-4086-b2b5-899a9571a000",
   "metadata": {},
   "source": [
    "### 04. 'max' Method\n",
    "The max() method returns the maximum value in the array or along a specified axis."
   ]
  },
  {
   "cell_type": "code",
   "execution_count": 12,
   "id": "5fc5f21a-81b6-443b-b3ce-7aeb5192ff71",
   "metadata": {
    "tags": []
   },
   "outputs": [
    {
     "data": {
      "text/plain": [
       "array([4, 7, 5])"
      ]
     },
     "execution_count": 12,
     "metadata": {},
     "output_type": "execute_result"
    }
   ],
   "source": [
    "np.max(arr1, axis=0)"
   ]
  },
  {
   "cell_type": "code",
   "execution_count": 13,
   "id": "694d6dc0-1d13-4100-9c80-590ca89810e4",
   "metadata": {
    "tags": []
   },
   "outputs": [
    {
     "data": {
      "text/plain": [
       "7"
      ]
     },
     "execution_count": 13,
     "metadata": {},
     "output_type": "execute_result"
    }
   ],
   "source": [
    "# Return maximum value of an array\n",
    "arr1.max()"
   ]
  },
  {
   "cell_type": "markdown",
   "id": "b87fe4d9-5ad3-4946-89d4-1ffd12c3d8e8",
   "metadata": {},
   "source": [
    "## 03. Other Useful Methods\n",
    "NumPy provides several methods to work with Boolean arrays, including where(), count_nonzero(), and nonzero(). "
   ]
  },
  {
   "cell_type": "markdown",
   "id": "626b9827-8ffc-4ceb-b4b0-7e57ac5adc06",
   "metadata": {},
   "source": [
    "### 01. 'where' Method\n",
    "The where() method returns an array of the same shape as the input array, where each element is replaced by either the value x if the corresponding element in the Boolean mask is True, or the value y if the corresponding element in the Boolean mask is False. You can also use the where() method to extract the indices of the elements that meet a certain condition."
   ]
  },
  {
   "cell_type": "code",
   "execution_count": 14,
   "id": "bfbfd29f-c603-4941-99a2-ca5b2513baa7",
   "metadata": {
    "tags": []
   },
   "outputs": [
    {
     "data": {
      "text/plain": [
       "array([[1, 3, 5],\n",
       "       [4, 7, 4],\n",
       "       [3, 6, 1]])"
      ]
     },
     "execution_count": 14,
     "metadata": {},
     "output_type": "execute_result"
    }
   ],
   "source": [
    "arr1"
   ]
  },
  {
   "cell_type": "code",
   "execution_count": 15,
   "id": "7a60a068-2336-4faf-b802-1eeff98d6d23",
   "metadata": {
    "tags": []
   },
   "outputs": [
    {
     "data": {
      "text/plain": [
       "array([[0, 0, 0],\n",
       "       [0, 1, 0],\n",
       "       [0, 1, 0]])"
      ]
     },
     "execution_count": 15,
     "metadata": {},
     "output_type": "execute_result"
    }
   ],
   "source": [
    "np.where(arr1>5, 1, 0)"
   ]
  },
  {
   "cell_type": "markdown",
   "id": "898b4b82-ee6f-4278-a328-b8bf977a76cb",
   "metadata": {},
   "source": [
    "### 02. 'count_nonzero' Method\n",
    "The count_nonzero() method returns the number of non-zero elements in the input array or along a specified axis."
   ]
  },
  {
   "cell_type": "code",
   "execution_count": 16,
   "id": "cc556a2d-2a82-480d-8f06-1abbc49511db",
   "metadata": {
    "tags": []
   },
   "outputs": [
    {
     "data": {
      "text/plain": [
       "9"
      ]
     },
     "execution_count": 16,
     "metadata": {},
     "output_type": "execute_result"
    }
   ],
   "source": [
    "np.count_nonzero(arr1)"
   ]
  },
  {
   "cell_type": "code",
   "execution_count": 17,
   "id": "c918b1e1-b025-4166-9e80-10f809526ea7",
   "metadata": {
    "tags": []
   },
   "outputs": [
    {
     "data": {
      "text/plain": [
       "array([[1, 3, 5],\n",
       "       [4, 7, 0],\n",
       "       [3, 6, 1]])"
      ]
     },
     "execution_count": 17,
     "metadata": {},
     "output_type": "execute_result"
    }
   ],
   "source": [
    "# Changing the element of arr1 to 0 at the index position off [1, 2]\n",
    "arr1[1, 2] = 0\n",
    "arr1"
   ]
  },
  {
   "cell_type": "code",
   "execution_count": 18,
   "id": "77f5b65a-bb36-4752-9c23-fbeafc19c0fe",
   "metadata": {
    "tags": []
   },
   "outputs": [
    {
     "data": {
      "text/plain": [
       "8"
      ]
     },
     "execution_count": 18,
     "metadata": {},
     "output_type": "execute_result"
    }
   ],
   "source": [
    "np.count_nonzero(arr1)"
   ]
  },
  {
   "cell_type": "markdown",
   "id": "89ed4ca6-0bfc-49be-bcde-9a97645e3d4a",
   "metadata": {},
   "source": [
    "### 03. 'nonzero' Method\n",
    "The nonzero() method returns a tuple of arrays, one for each dimension of the input array, containing the indices of the non-zero elements in that dimension. You can also use the nonzero() method to extract the non-zero elements of an array."
   ]
  },
  {
   "cell_type": "code",
   "execution_count": 19,
   "id": "760c8d91-1c76-4cbb-9d6b-b433c36aab86",
   "metadata": {
    "tags": []
   },
   "outputs": [
    {
     "data": {
      "text/plain": [
       "array([[1, 3, 5],\n",
       "       [4, 7, 0],\n",
       "       [3, 6, 1]])"
      ]
     },
     "execution_count": 19,
     "metadata": {},
     "output_type": "execute_result"
    }
   ],
   "source": [
    "arr1"
   ]
  },
  {
   "cell_type": "code",
   "execution_count": 20,
   "id": "2a9b1010-0a16-4330-b77f-4aaeada9f2b3",
   "metadata": {
    "tags": []
   },
   "outputs": [
    {
     "data": {
      "text/plain": [
       "0"
      ]
     },
     "execution_count": 20,
     "metadata": {},
     "output_type": "execute_result"
    }
   ],
   "source": [
    "arr1[1, 2]"
   ]
  },
  {
   "cell_type": "code",
   "execution_count": 21,
   "id": "49b81c19-d0b0-445f-96bc-7e9a76de28f0",
   "metadata": {
    "tags": []
   },
   "outputs": [
    {
     "data": {
      "text/plain": [
       "(array([0, 0, 0, 1, 1, 2, 2, 2], dtype=int64),\n",
       " array([0, 1, 2, 0, 1, 0, 1, 2], dtype=int64))"
      ]
     },
     "execution_count": 21,
     "metadata": {},
     "output_type": "execute_result"
    }
   ],
   "source": [
    "np.nonzero(arr1)"
   ]
  }
 ],
 "metadata": {
  "kernelspec": {
   "display_name": "Python 3 (ipykernel)",
   "language": "python",
   "name": "python3"
  },
  "language_info": {
   "codemirror_mode": {
    "name": "ipython",
    "version": 3
   },
   "file_extension": ".py",
   "mimetype": "text/x-python",
   "name": "python",
   "nbconvert_exporter": "python",
   "pygments_lexer": "ipython3",
   "version": "3.9.16"
  }
 },
 "nbformat": 4,
 "nbformat_minor": 5
}
